{
 "cells": [
  {
   "cell_type": "code",
   "execution_count": 2,
   "metadata": {},
   "outputs": [
    {
     "name": "stdout",
     "output_type": "stream",
     "text": [
      "C:\\Users\\srava\\Downloads\n"
     ]
    }
   ],
   "source": [
    "%cd \"C:\\Users\\srava\\Downloads\""
   ]
  },
  {
   "cell_type": "code",
   "execution_count": 4,
   "metadata": {
    "id": "y_mk3MrlNIBF"
   },
   "outputs": [],
   "source": [
    "movie18=pd.read_csv(\"movie18.csv\")"
   ]
  },
  {
   "cell_type": "code",
   "execution_count": 5,
   "metadata": {
    "colab": {
     "base_uri": "https://localhost:8080/",
     "height": 206
    },
    "id": "R_rS5PUPNd2R",
    "outputId": "96e11db2-4128-498b-d6c1-c273c0ee9c0a",
    "scrolled": true
   },
   "outputs": [
    {
     "data": {
      "text/html": [
       "<div>\n",
       "<style scoped>\n",
       "    .dataframe tbody tr th:only-of-type {\n",
       "        vertical-align: middle;\n",
       "    }\n",
       "\n",
       "    .dataframe tbody tr th {\n",
       "        vertical-align: top;\n",
       "    }\n",
       "\n",
       "    .dataframe thead th {\n",
       "        text-align: right;\n",
       "    }\n",
       "</style>\n",
       "<table border=\"1\" class=\"dataframe\">\n",
       "  <thead>\n",
       "    <tr style=\"text-align: right;\">\n",
       "      <th></th>\n",
       "      <th>Unnamed: 0</th>\n",
       "      <th>title</th>\n",
       "      <th>cast_and_crew</th>\n",
       "    </tr>\n",
       "  </thead>\n",
       "  <tbody>\n",
       "    <tr>\n",
       "      <th>0</th>\n",
       "      <td>0</td>\n",
       "      <td>Insidious: The Last Key</td>\n",
       "      <td>Adam Robitel (director); Leigh Whannell (scree...</td>\n",
       "    </tr>\n",
       "    <tr>\n",
       "      <th>1</th>\n",
       "      <td>1</td>\n",
       "      <td>The Strange Ones</td>\n",
       "      <td>Lauren Wolkstein (director); Christopher Radcl...</td>\n",
       "    </tr>\n",
       "    <tr>\n",
       "      <th>2</th>\n",
       "      <td>2</td>\n",
       "      <td>Stratton</td>\n",
       "      <td>Simon West (director); Duncan Falconer, Warren...</td>\n",
       "    </tr>\n",
       "    <tr>\n",
       "      <th>3</th>\n",
       "      <td>3</td>\n",
       "      <td>Sweet Country</td>\n",
       "      <td>Warwick Thornton (director); David Tranter, St...</td>\n",
       "    </tr>\n",
       "    <tr>\n",
       "      <th>4</th>\n",
       "      <td>4</td>\n",
       "      <td>The Commuter</td>\n",
       "      <td>Jaume Collet-Serra (director); Byron Willinger...</td>\n",
       "    </tr>\n",
       "  </tbody>\n",
       "</table>\n",
       "</div>"
      ],
      "text/plain": [
       "   Unnamed: 0                    title  \\\n",
       "0           0  Insidious: The Last Key   \n",
       "1           1         The Strange Ones   \n",
       "2           2                 Stratton   \n",
       "3           3            Sweet Country   \n",
       "4           4             The Commuter   \n",
       "\n",
       "                                       cast_and_crew  \n",
       "0  Adam Robitel (director); Leigh Whannell (scree...  \n",
       "1  Lauren Wolkstein (director); Christopher Radcl...  \n",
       "2  Simon West (director); Duncan Falconer, Warren...  \n",
       "3  Warwick Thornton (director); David Tranter, St...  \n",
       "4  Jaume Collet-Serra (director); Byron Willinger...  "
      ]
     },
     "execution_count": 5,
     "metadata": {},
     "output_type": "execute_result"
    }
   ],
   "source": [
    "movie18.head()"
   ]
  },
  {
   "cell_type": "code",
   "execution_count": 6,
   "metadata": {
    "id": "Gwz-8NT7Nd5u"
   },
   "outputs": [],
   "source": [
    "movie19=pd.read_csv(\"movie19.csv\")"
   ]
  },
  {
   "cell_type": "code",
   "execution_count": null,
   "metadata": {
    "colab": {
     "base_uri": "https://localhost:8080/",
     "height": 206
    },
    "id": "U-7uEVaKNd9F",
    "outputId": "28c64ca7-eb1b-4a13-f56c-e997a254fd30"
   },
   "outputs": [
    {
     "data": {
      "text/html": [
       "<div>\n",
       "<style scoped>\n",
       "    .dataframe tbody tr th:only-of-type {\n",
       "        vertical-align: middle;\n",
       "    }\n",
       "\n",
       "    .dataframe tbody tr th {\n",
       "        vertical-align: top;\n",
       "    }\n",
       "\n",
       "    .dataframe thead th {\n",
       "        text-align: right;\n",
       "    }\n",
       "</style>\n",
       "<table border=\"1\" class=\"dataframe\">\n",
       "  <thead>\n",
       "    <tr style=\"text-align: right;\">\n",
       "      <th></th>\n",
       "      <th>Unnamed: 0</th>\n",
       "      <th>title</th>\n",
       "      <th>cast_and_crew</th>\n",
       "    </tr>\n",
       "  </thead>\n",
       "  <tbody>\n",
       "    <tr>\n",
       "      <th>0</th>\n",
       "      <td>0</td>\n",
       "      <td>Escape Room</td>\n",
       "      <td>Adam Robitel (director); Bragi F. Schut, Maria...</td>\n",
       "    </tr>\n",
       "    <tr>\n",
       "      <th>1</th>\n",
       "      <td>1</td>\n",
       "      <td>Rust Creek</td>\n",
       "      <td>Jen McGowan (director); Julie Lipson (screenpl...</td>\n",
       "    </tr>\n",
       "    <tr>\n",
       "      <th>2</th>\n",
       "      <td>2</td>\n",
       "      <td>American Hangman</td>\n",
       "      <td>Wilson Coneybeare (director/screenplay); Donal...</td>\n",
       "    </tr>\n",
       "    <tr>\n",
       "      <th>3</th>\n",
       "      <td>3</td>\n",
       "      <td>A Dog's Way Home</td>\n",
       "      <td>Charles Martin Smith (director); W. Bruce Came...</td>\n",
       "    </tr>\n",
       "    <tr>\n",
       "      <th>4</th>\n",
       "      <td>4</td>\n",
       "      <td>The Upside</td>\n",
       "      <td>Neil Burger (director); Jon Hartmere (screenpl...</td>\n",
       "    </tr>\n",
       "  </tbody>\n",
       "</table>\n",
       "</div>"
      ],
      "text/plain": [
       "   Unnamed: 0  ...                                      cast_and_crew\n",
       "0           0  ...  Adam Robitel (director); Bragi F. Schut, Maria...\n",
       "1           1  ...  Jen McGowan (director); Julie Lipson (screenpl...\n",
       "2           2  ...  Wilson Coneybeare (director/screenplay); Donal...\n",
       "3           3  ...  Charles Martin Smith (director); W. Bruce Came...\n",
       "4           4  ...  Neil Burger (director); Jon Hartmere (screenpl...\n",
       "\n",
       "[5 rows x 3 columns]"
      ]
     },
     "execution_count": 5,
     "metadata": {},
     "output_type": "execute_result"
    }
   ],
   "source": [
    "movie19.head()"
   ]
  },
  {
   "cell_type": "code",
   "execution_count": 7,
   "metadata": {
    "id": "0gcfgy8tNd_W"
   },
   "outputs": [],
   "source": [
    "movie20=pd.read_csv(\"movie20.csv\")"
   ]
  },
  {
   "cell_type": "code",
   "execution_count": 8,
   "metadata": {
    "colab": {
     "base_uri": "https://localhost:8080/",
     "height": 206
    },
    "id": "5xKHl6TJNeCk",
    "outputId": "ed7d7606-65fc-42c4-96ec-bae347b76608"
   },
   "outputs": [
    {
     "data": {
      "text/html": [
       "<div>\n",
       "<style scoped>\n",
       "    .dataframe tbody tr th:only-of-type {\n",
       "        vertical-align: middle;\n",
       "    }\n",
       "\n",
       "    .dataframe tbody tr th {\n",
       "        vertical-align: top;\n",
       "    }\n",
       "\n",
       "    .dataframe thead th {\n",
       "        text-align: right;\n",
       "    }\n",
       "</style>\n",
       "<table border=\"1\" class=\"dataframe\">\n",
       "  <thead>\n",
       "    <tr style=\"text-align: right;\">\n",
       "      <th></th>\n",
       "      <th>Unnamed: 0</th>\n",
       "      <th>title</th>\n",
       "      <th>cast_and_crew</th>\n",
       "    </tr>\n",
       "  </thead>\n",
       "  <tbody>\n",
       "    <tr>\n",
       "      <th>0</th>\n",
       "      <td>0</td>\n",
       "      <td>Shadow in the Cloud</td>\n",
       "      <td>Roseanne Liang (director/screenplay); Max Land...</td>\n",
       "    </tr>\n",
       "    <tr>\n",
       "      <th>1</th>\n",
       "      <td>1</td>\n",
       "      <td>The White Tiger</td>\n",
       "      <td>Ramin Bahrani (director/screenplay); Adarsh Go...</td>\n",
       "    </tr>\n",
       "    <tr>\n",
       "      <th>2</th>\n",
       "      <td>2</td>\n",
       "      <td>Locked Down</td>\n",
       "      <td>Doug Liman (director); Steven Knight (screenpl...</td>\n",
       "    </tr>\n",
       "    <tr>\n",
       "      <th>3</th>\n",
       "      <td>3</td>\n",
       "      <td>The Dig</td>\n",
       "      <td>Simon Stone (director); Moira Buffini (screenp...</td>\n",
       "    </tr>\n",
       "    <tr>\n",
       "      <th>4</th>\n",
       "      <td>4</td>\n",
       "      <td>Outside the Wire</td>\n",
       "      <td>Mikael Håfström (director); Rob Yescombe, Ro...</td>\n",
       "    </tr>\n",
       "  </tbody>\n",
       "</table>\n",
       "</div>"
      ],
      "text/plain": [
       "   Unnamed: 0                title  \\\n",
       "0           0  Shadow in the Cloud   \n",
       "1           1      The White Tiger   \n",
       "2           2          Locked Down   \n",
       "3           3              The Dig   \n",
       "4           4     Outside the Wire   \n",
       "\n",
       "                                       cast_and_crew  \n",
       "0  Roseanne Liang (director/screenplay); Max Land...  \n",
       "1  Ramin Bahrani (director/screenplay); Adarsh Go...  \n",
       "2  Doug Liman (director); Steven Knight (screenpl...  \n",
       "3  Simon Stone (director); Moira Buffini (screenp...  \n",
       "4  Mikael Håfström (director); Rob Yescombe, Ro...  "
      ]
     },
     "execution_count": 8,
     "metadata": {},
     "output_type": "execute_result"
    }
   ],
   "source": [
    "movie20.head()"
   ]
  },
  {
   "cell_type": "code",
   "execution_count": 9,
   "metadata": {
    "id": "l1eCRwKcNeGC"
   },
   "outputs": [],
   "source": [
    "movie21=pd.read_csv(\"movie21.csv\")"
   ]
  },
  {
   "cell_type": "code",
   "execution_count": 10,
   "metadata": {
    "id": "AnwtOWCFOFU8"
   },
   "outputs": [],
   "source": [
    "genre18=pd.read_csv(\"genre18new.csv\")"
   ]
  },
  {
   "cell_type": "code",
   "execution_count": 11,
   "metadata": {
    "colab": {
     "base_uri": "https://localhost:8080/",
     "height": 313
    },
    "id": "G7PLepADIP6N",
    "outputId": "c18e2f42-bb21-4eeb-f3a4-c1425d4840be"
   },
   "outputs": [
    {
     "data": {
      "text/html": [
       "<div>\n",
       "<style scoped>\n",
       "    .dataframe tbody tr th:only-of-type {\n",
       "        vertical-align: middle;\n",
       "    }\n",
       "\n",
       "    .dataframe tbody tr th {\n",
       "        vertical-align: top;\n",
       "    }\n",
       "\n",
       "    .dataframe thead th {\n",
       "        text-align: right;\n",
       "    }\n",
       "</style>\n",
       "<table border=\"1\" class=\"dataframe\">\n",
       "  <thead>\n",
       "    <tr style=\"text-align: right;\">\n",
       "      <th></th>\n",
       "      <th>Unnamed: 0</th>\n",
       "      <th>title</th>\n",
       "      <th>Unnamed: 2</th>\n",
       "      <th>Unnamed: 3</th>\n",
       "      <th>Unnamed: 4</th>\n",
       "      <th>Unnamed: 5</th>\n",
       "      <th>Unnamed: 6</th>\n",
       "      <th>Unnamed: 7</th>\n",
       "      <th>Unnamed: 8</th>\n",
       "      <th>Unnamed: 9</th>\n",
       "      <th>...</th>\n",
       "      <th>Unnamed: 45</th>\n",
       "      <th>Unnamed: 46</th>\n",
       "      <th>Unnamed: 47</th>\n",
       "      <th>Unnamed: 48</th>\n",
       "      <th>Unnamed: 49</th>\n",
       "      <th>Unnamed: 50</th>\n",
       "      <th>Unnamed: 51</th>\n",
       "      <th>Unnamed: 52</th>\n",
       "      <th>Unnamed: 53</th>\n",
       "      <th>Unnamed: 54</th>\n",
       "    </tr>\n",
       "  </thead>\n",
       "  <tbody>\n",
       "    <tr>\n",
       "      <th>0</th>\n",
       "      <td>0</td>\n",
       "      <td>Venom</td>\n",
       "      <td>NaN</td>\n",
       "      <td>NaN</td>\n",
       "      <td>NaN</td>\n",
       "      <td>NaN</td>\n",
       "      <td>NaN</td>\n",
       "      <td>NaN</td>\n",
       "      <td>NaN</td>\n",
       "      <td>NaN</td>\n",
       "      <td>...</td>\n",
       "      <td>NaN</td>\n",
       "      <td>NaN</td>\n",
       "      <td>NaN</td>\n",
       "      <td>NaN</td>\n",
       "      <td>NaN</td>\n",
       "      <td>NaN</td>\n",
       "      <td>NaN</td>\n",
       "      <td>NaN</td>\n",
       "      <td>NaN</td>\n",
       "      <td>NaN</td>\n",
       "    </tr>\n",
       "    <tr>\n",
       "      <th>1</th>\n",
       "      <td>1</td>\n",
       "      <td>Crazy Rich Asians</td>\n",
       "      <td>NaN</td>\n",
       "      <td>NaN</td>\n",
       "      <td>NaN</td>\n",
       "      <td>NaN</td>\n",
       "      <td>NaN</td>\n",
       "      <td>NaN</td>\n",
       "      <td>NaN</td>\n",
       "      <td>NaN</td>\n",
       "      <td>...</td>\n",
       "      <td>NaN</td>\n",
       "      <td>NaN</td>\n",
       "      <td>NaN</td>\n",
       "      <td>NaN</td>\n",
       "      <td>NaN</td>\n",
       "      <td>NaN</td>\n",
       "      <td>NaN</td>\n",
       "      <td>NaN</td>\n",
       "      <td>NaN</td>\n",
       "      <td>NaN</td>\n",
       "    </tr>\n",
       "    <tr>\n",
       "      <th>2</th>\n",
       "      <td>2</td>\n",
       "      <td>Deadpool 2</td>\n",
       "      <td>NaN</td>\n",
       "      <td>NaN</td>\n",
       "      <td>NaN</td>\n",
       "      <td>NaN</td>\n",
       "      <td>NaN</td>\n",
       "      <td>NaN</td>\n",
       "      <td>NaN</td>\n",
       "      <td>NaN</td>\n",
       "      <td>...</td>\n",
       "      <td>NaN</td>\n",
       "      <td>NaN</td>\n",
       "      <td>NaN</td>\n",
       "      <td>NaN</td>\n",
       "      <td>NaN</td>\n",
       "      <td>NaN</td>\n",
       "      <td>NaN</td>\n",
       "      <td>NaN</td>\n",
       "      <td>NaN</td>\n",
       "      <td>NaN</td>\n",
       "    </tr>\n",
       "    <tr>\n",
       "      <th>3</th>\n",
       "      <td>3</td>\n",
       "      <td>Avengers: Infinity War</td>\n",
       "      <td>NaN</td>\n",
       "      <td>NaN</td>\n",
       "      <td>NaN</td>\n",
       "      <td>NaN</td>\n",
       "      <td>NaN</td>\n",
       "      <td>NaN</td>\n",
       "      <td>NaN</td>\n",
       "      <td>NaN</td>\n",
       "      <td>...</td>\n",
       "      <td>NaN</td>\n",
       "      <td>NaN</td>\n",
       "      <td>NaN</td>\n",
       "      <td>NaN</td>\n",
       "      <td>NaN</td>\n",
       "      <td>NaN</td>\n",
       "      <td>NaN</td>\n",
       "      <td>NaN</td>\n",
       "      <td>NaN</td>\n",
       "      <td>NaN</td>\n",
       "    </tr>\n",
       "    <tr>\n",
       "      <th>4</th>\n",
       "      <td>4</td>\n",
       "      <td>The Nightingale</td>\n",
       "      <td>NaN</td>\n",
       "      <td>NaN</td>\n",
       "      <td>NaN</td>\n",
       "      <td>NaN</td>\n",
       "      <td>NaN</td>\n",
       "      <td>NaN</td>\n",
       "      <td>NaN</td>\n",
       "      <td>NaN</td>\n",
       "      <td>...</td>\n",
       "      <td>NaN</td>\n",
       "      <td>NaN</td>\n",
       "      <td>NaN</td>\n",
       "      <td>NaN</td>\n",
       "      <td>NaN</td>\n",
       "      <td>NaN</td>\n",
       "      <td>NaN</td>\n",
       "      <td>NaN</td>\n",
       "      <td>NaN</td>\n",
       "      <td>NaN</td>\n",
       "    </tr>\n",
       "  </tbody>\n",
       "</table>\n",
       "<p>5 rows × 55 columns</p>\n",
       "</div>"
      ],
      "text/plain": [
       "   Unnamed: 0                   title Unnamed: 2 Unnamed: 3 Unnamed: 4  \\\n",
       "0           0                   Venom        NaN        NaN        NaN   \n",
       "1           1       Crazy Rich Asians        NaN        NaN        NaN   \n",
       "2           2              Deadpool 2        NaN        NaN        NaN   \n",
       "3           3  Avengers: Infinity War        NaN        NaN        NaN   \n",
       "4           4         The Nightingale        NaN        NaN        NaN   \n",
       "\n",
       "  Unnamed: 5 Unnamed: 6 Unnamed: 7 Unnamed: 8 Unnamed: 9  ... Unnamed: 45  \\\n",
       "0        NaN        NaN        NaN        NaN        NaN  ...         NaN   \n",
       "1        NaN        NaN        NaN        NaN        NaN  ...         NaN   \n",
       "2        NaN        NaN        NaN        NaN        NaN  ...         NaN   \n",
       "3        NaN        NaN        NaN        NaN        NaN  ...         NaN   \n",
       "4        NaN        NaN        NaN        NaN        NaN  ...         NaN   \n",
       "\n",
       "  Unnamed: 46 Unnamed: 47 Unnamed: 48 Unnamed: 49 Unnamed: 50 Unnamed: 51  \\\n",
       "0         NaN         NaN         NaN         NaN         NaN         NaN   \n",
       "1         NaN         NaN         NaN         NaN         NaN         NaN   \n",
       "2         NaN         NaN         NaN         NaN         NaN         NaN   \n",
       "3         NaN         NaN         NaN         NaN         NaN         NaN   \n",
       "4         NaN         NaN         NaN         NaN         NaN         NaN   \n",
       "\n",
       "  Unnamed: 52 Unnamed: 53 Unnamed: 54  \n",
       "0         NaN         NaN         NaN  \n",
       "1         NaN         NaN         NaN  \n",
       "2         NaN         NaN         NaN  \n",
       "3         NaN         NaN         NaN  \n",
       "4         NaN         NaN         NaN  \n",
       "\n",
       "[5 rows x 55 columns]"
      ]
     },
     "execution_count": 11,
     "metadata": {},
     "output_type": "execute_result"
    }
   ],
   "source": [
    "genre18.head()"
   ]
  },
  {
   "cell_type": "code",
   "execution_count": null,
   "metadata": {
    "id": "KQDLwN4LBpbY"
   },
   "outputs": [],
   "source": [
    "pd.DataFrame(list(genre18.iloc[50])).z"
   ]
  },
  {
   "cell_type": "code",
   "execution_count": 127,
   "metadata": {
    "colab": {
     "base_uri": "https://localhost:8080/",
     "height": 158
    },
    "id": "Rv36n1Z1CVCu",
    "outputId": "a7bb40da-106d-4e5c-b421-9699dca99922"
   },
   "outputs": [
    {
     "data": {
      "application/vnd.google.colaboratory.intrinsic+json": {
       "type": "string"
      },
      "text/plain": [
       "'[\\'Venom\\', \\'Crazy Rich Asians\\', \\'Deadpool 2\\', \\'Avengers: Infinity War\\', \\'The Nightingale\\', \\'Ready Player One\\', \\'Spider-Man: Into the Spider-Verse\\', \\'Hereditary\\', \\'Black Panther\\', \\'Replicas\\', \\'Beautiful Boy\\', \\'Mission: Impossible - Fallout\\', \\'Halloween\\', \\'Bohemian Rhapsody\\', \\'A Quiet Place\\', \\'Fantastic Beasts: The Crimes of Grindelwald\\', \\'Aquaman\\', \\'The Predator\\', \\'Ghostland\\', \\'Suspiria\\', \\'Green Book\\', \\'Solo: A Star Wars Story\\', \\'Jurassic World: Fallen Kingdom\\', \\'A Star Is Born\\', \\'Annihilation\\', \\'Mary Poppins Returns\\', \\'A Simple Favor\\', \\'Isle of Dogs\\', \\'The Ballad of Buster Scruggs\\', \\'Bad Times at the El Royale\\', \\'Fifty Shades Freed\\', \"Ocean\\'s Eight\", \\'The Grinch\\', \\'Widows\\', \\'Ant-Man and the Wasp\\', \\'City of Lies\\', \\'Little Italy\\', \\'The Favourite\\', \\'Red Sparrow\\', \\'The House That Jack Built\\', \\'Bird Box\\', \\'BlacKkKlansman\\', \\'Vice\\', \\'Outlaw King\\', \\'Capharnaüm\\', \\'Robin Hood\\', \"The Girl in the Spider\\'s Web\", \\'Sicario: Day of the Soldado\\', \\'The Meg\\', \\'Game Night\\']'"
      ]
     },
     "execution_count": 127,
     "metadata": {},
     "output_type": "execute_result"
    }
   ],
   "source": [
    "genre18.iloc[296][\"title\"]"
   ]
  },
  {
   "cell_type": "code",
   "execution_count": 8,
   "metadata": {
    "id": "KJH51_DxOFib"
   },
   "outputs": [],
   "source": [
    "genre19=pd.read_csv(\"/content/genre19.csv\")"
   ]
  },
  {
   "cell_type": "code",
   "execution_count": 9,
   "metadata": {
    "id": "cuCBnmpxOFmB"
   },
   "outputs": [],
   "source": [
    "genre20=pd.read_csv(\"/content/genre20.csv\")"
   ]
  },
  {
   "cell_type": "code",
   "execution_count": 10,
   "metadata": {
    "id": "67n9NCnfOFrR"
   },
   "outputs": [],
   "source": [
    "genre21=pd.read_csv(\"/content/genre21.csv\")"
   ]
  },
  {
   "cell_type": "code",
   "execution_count": null,
   "metadata": {
    "colab": {
     "base_uri": "https://localhost:8080/",
     "height": 206
    },
    "id": "60GXB24KOFu9",
    "outputId": "00eb5f38-930c-4237-9afd-b822df604214"
   },
   "outputs": [
    {
     "data": {
      "text/html": [
       "<div>\n",
       "<style scoped>\n",
       "    .dataframe tbody tr th:only-of-type {\n",
       "        vertical-align: middle;\n",
       "    }\n",
       "\n",
       "    .dataframe tbody tr th {\n",
       "        vertical-align: top;\n",
       "    }\n",
       "\n",
       "    .dataframe thead th {\n",
       "        text-align: right;\n",
       "    }\n",
       "</style>\n",
       "<table border=\"1\" class=\"dataframe\">\n",
       "  <thead>\n",
       "    <tr style=\"text-align: right;\">\n",
       "      <th></th>\n",
       "      <th>Unnamed: 0</th>\n",
       "      <th>title</th>\n",
       "      <th>genre</th>\n",
       "      <th>Unnamed: 0.1</th>\n",
       "    </tr>\n",
       "  </thead>\n",
       "  <tbody>\n",
       "    <tr>\n",
       "      <th>0</th>\n",
       "      <td>0</td>\n",
       "      <td>Venom</td>\n",
       "      <td>Action, Adventure, Sci-Fi</td>\n",
       "      <td>NaN</td>\n",
       "    </tr>\n",
       "    <tr>\n",
       "      <th>1</th>\n",
       "      <td>1</td>\n",
       "      <td>Crazy Rich Asians</td>\n",
       "      <td>Comedy, Drama, Romance</td>\n",
       "      <td>NaN</td>\n",
       "    </tr>\n",
       "    <tr>\n",
       "      <th>2</th>\n",
       "      <td>2</td>\n",
       "      <td>Deadpool 2</td>\n",
       "      <td>Action, Adventure, Comedy</td>\n",
       "      <td>NaN</td>\n",
       "    </tr>\n",
       "    <tr>\n",
       "      <th>3</th>\n",
       "      <td>3</td>\n",
       "      <td>Avengers: Infinity War</td>\n",
       "      <td>Action, Adventure, Sci-Fi</td>\n",
       "      <td>NaN</td>\n",
       "    </tr>\n",
       "    <tr>\n",
       "      <th>4</th>\n",
       "      <td>4</td>\n",
       "      <td>The Nightingale</td>\n",
       "      <td>Adventure, Drama, Thriller</td>\n",
       "      <td>NaN</td>\n",
       "    </tr>\n",
       "  </tbody>\n",
       "</table>\n",
       "</div>"
      ],
      "text/plain": [
       "   Unnamed: 0                   title                       genre  Unnamed: 0.1\n",
       "0           0                   Venom   Action, Adventure, Sci-Fi           NaN\n",
       "1           1       Crazy Rich Asians      Comedy, Drama, Romance           NaN\n",
       "2           2              Deadpool 2   Action, Adventure, Comedy           NaN\n",
       "3           3  Avengers: Infinity War   Action, Adventure, Sci-Fi           NaN\n",
       "4           4         The Nightingale  Adventure, Drama, Thriller           NaN"
      ]
     },
     "execution_count": 13,
     "metadata": {},
     "output_type": "execute_result"
    }
   ],
   "source": [
    "genre18.head()"
   ]
  },
  {
   "cell_type": "code",
   "execution_count": null,
   "metadata": {
    "colab": {
     "base_uri": "https://localhost:8080/",
     "height": 990
    },
    "id": "NwUwbSCeOFya",
    "outputId": "519d28f7-2892-4899-ac10-ee4156e9e84b"
   },
   "outputs": [
    {
     "data": {
      "text/html": [
       "<div>\n",
       "<style scoped>\n",
       "    .dataframe tbody tr th:only-of-type {\n",
       "        vertical-align: middle;\n",
       "    }\n",
       "\n",
       "    .dataframe tbody tr th {\n",
       "        vertical-align: top;\n",
       "    }\n",
       "\n",
       "    .dataframe thead th {\n",
       "        text-align: right;\n",
       "    }\n",
       "</style>\n",
       "<table border=\"1\" class=\"dataframe\">\n",
       "  <thead>\n",
       "    <tr style=\"text-align: right;\">\n",
       "      <th></th>\n",
       "      <th>Unnamed: 0</th>\n",
       "      <th>title</th>\n",
       "      <th>genre</th>\n",
       "      <th>Unnamed: 0.1</th>\n",
       "    </tr>\n",
       "  </thead>\n",
       "  <tbody>\n",
       "    <tr>\n",
       "      <th>0</th>\n",
       "      <td>0</td>\n",
       "      <td>Venom</td>\n",
       "      <td>Action, Adventure, Sci-Fi</td>\n",
       "      <td>NaN</td>\n",
       "    </tr>\n",
       "    <tr>\n",
       "      <th>1</th>\n",
       "      <td>1</td>\n",
       "      <td>Crazy Rich Asians</td>\n",
       "      <td>Comedy, Drama, Romance</td>\n",
       "      <td>NaN</td>\n",
       "    </tr>\n",
       "    <tr>\n",
       "      <th>2</th>\n",
       "      <td>2</td>\n",
       "      <td>Deadpool 2</td>\n",
       "      <td>Action, Adventure, Comedy</td>\n",
       "      <td>NaN</td>\n",
       "    </tr>\n",
       "    <tr>\n",
       "      <th>3</th>\n",
       "      <td>3</td>\n",
       "      <td>Avengers: Infinity War</td>\n",
       "      <td>Action, Adventure, Sci-Fi</td>\n",
       "      <td>NaN</td>\n",
       "    </tr>\n",
       "    <tr>\n",
       "      <th>4</th>\n",
       "      <td>4</td>\n",
       "      <td>The Nightingale</td>\n",
       "      <td>Adventure, Drama, Thriller</td>\n",
       "      <td>NaN</td>\n",
       "    </tr>\n",
       "    <tr>\n",
       "      <th>5</th>\n",
       "      <td>5</td>\n",
       "      <td>Ready Player One</td>\n",
       "      <td>Action, Adventure, Sci-Fi</td>\n",
       "      <td>NaN</td>\n",
       "    </tr>\n",
       "    <tr>\n",
       "      <th>6</th>\n",
       "      <td>6</td>\n",
       "      <td>Spider-Man: Into the Spider-Verse</td>\n",
       "      <td>Animation, Action, Adventure</td>\n",
       "      <td>NaN</td>\n",
       "    </tr>\n",
       "    <tr>\n",
       "      <th>7</th>\n",
       "      <td>7</td>\n",
       "      <td>Hereditary</td>\n",
       "      <td>Drama, Horror, Mystery</td>\n",
       "      <td>NaN</td>\n",
       "    </tr>\n",
       "    <tr>\n",
       "      <th>8</th>\n",
       "      <td>8</td>\n",
       "      <td>Black Panther</td>\n",
       "      <td>Action, Adventure, Sci-Fi</td>\n",
       "      <td>NaN</td>\n",
       "    </tr>\n",
       "    <tr>\n",
       "      <th>9</th>\n",
       "      <td>9</td>\n",
       "      <td>Replicas</td>\n",
       "      <td>Drama, Sci-Fi, Thriller</td>\n",
       "      <td>NaN</td>\n",
       "    </tr>\n",
       "    <tr>\n",
       "      <th>10</th>\n",
       "      <td>10</td>\n",
       "      <td>Beautiful Boy</td>\n",
       "      <td>Biography, Drama</td>\n",
       "      <td>NaN</td>\n",
       "    </tr>\n",
       "    <tr>\n",
       "      <th>11</th>\n",
       "      <td>11</td>\n",
       "      <td>Mission: Impossible - Fallout</td>\n",
       "      <td>Action, Adventure, Thriller</td>\n",
       "      <td>NaN</td>\n",
       "    </tr>\n",
       "    <tr>\n",
       "      <th>12</th>\n",
       "      <td>12</td>\n",
       "      <td>Halloween</td>\n",
       "      <td>Crime, Horror, Thriller</td>\n",
       "      <td>NaN</td>\n",
       "    </tr>\n",
       "    <tr>\n",
       "      <th>13</th>\n",
       "      <td>13</td>\n",
       "      <td>Bohemian Rhapsody</td>\n",
       "      <td>Biography, Drama, Music</td>\n",
       "      <td>NaN</td>\n",
       "    </tr>\n",
       "    <tr>\n",
       "      <th>14</th>\n",
       "      <td>14</td>\n",
       "      <td>A Quiet Place</td>\n",
       "      <td>Drama, Horror, Sci-Fi</td>\n",
       "      <td>NaN</td>\n",
       "    </tr>\n",
       "    <tr>\n",
       "      <th>15</th>\n",
       "      <td>15</td>\n",
       "      <td>Fantastic Beasts: The Crimes of Grindelwald</td>\n",
       "      <td>Adventure, Family, Fantasy</td>\n",
       "      <td>NaN</td>\n",
       "    </tr>\n",
       "    <tr>\n",
       "      <th>16</th>\n",
       "      <td>16</td>\n",
       "      <td>Aquaman</td>\n",
       "      <td>Action, Adventure, Fantasy</td>\n",
       "      <td>NaN</td>\n",
       "    </tr>\n",
       "    <tr>\n",
       "      <th>17</th>\n",
       "      <td>17</td>\n",
       "      <td>The Predator</td>\n",
       "      <td>Action, Adventure, Sci-Fi</td>\n",
       "      <td>NaN</td>\n",
       "    </tr>\n",
       "    <tr>\n",
       "      <th>18</th>\n",
       "      <td>18</td>\n",
       "      <td>Incident in a Ghostland</td>\n",
       "      <td>Drama, Horror, Mystery</td>\n",
       "      <td>NaN</td>\n",
       "    </tr>\n",
       "    <tr>\n",
       "      <th>19</th>\n",
       "      <td>19</td>\n",
       "      <td>Suspiria</td>\n",
       "      <td>Drama, Fantasy, Horror</td>\n",
       "      <td>NaN</td>\n",
       "    </tr>\n",
       "    <tr>\n",
       "      <th>20</th>\n",
       "      <td>20</td>\n",
       "      <td>Green Book</td>\n",
       "      <td>Biography, Comedy, Drama</td>\n",
       "      <td>NaN</td>\n",
       "    </tr>\n",
       "    <tr>\n",
       "      <th>21</th>\n",
       "      <td>21</td>\n",
       "      <td>Solo: A Star Wars Story</td>\n",
       "      <td>Action, Adventure, Sci-Fi</td>\n",
       "      <td>NaN</td>\n",
       "    </tr>\n",
       "    <tr>\n",
       "      <th>22</th>\n",
       "      <td>22</td>\n",
       "      <td>Jurassic World: Fallen Kingdom</td>\n",
       "      <td>Action, Adventure, Sci-Fi</td>\n",
       "      <td>NaN</td>\n",
       "    </tr>\n",
       "    <tr>\n",
       "      <th>23</th>\n",
       "      <td>23</td>\n",
       "      <td>A Star Is Born</td>\n",
       "      <td>Drama, Music, Romance</td>\n",
       "      <td>NaN</td>\n",
       "    </tr>\n",
       "    <tr>\n",
       "      <th>24</th>\n",
       "      <td>24</td>\n",
       "      <td>Annihilation</td>\n",
       "      <td>Adventure, Drama, Horror</td>\n",
       "      <td>NaN</td>\n",
       "    </tr>\n",
       "    <tr>\n",
       "      <th>25</th>\n",
       "      <td>25</td>\n",
       "      <td>Mary Poppins Returns</td>\n",
       "      <td>Adventure, Comedy, Family</td>\n",
       "      <td>NaN</td>\n",
       "    </tr>\n",
       "    <tr>\n",
       "      <th>26</th>\n",
       "      <td>26</td>\n",
       "      <td>A Simple Favor</td>\n",
       "      <td>Comedy, Crime, Mystery</td>\n",
       "      <td>NaN</td>\n",
       "    </tr>\n",
       "    <tr>\n",
       "      <th>27</th>\n",
       "      <td>27</td>\n",
       "      <td>Isle of Dogs</td>\n",
       "      <td>Animation, Adventure, Comedy</td>\n",
       "      <td>NaN</td>\n",
       "    </tr>\n",
       "    <tr>\n",
       "      <th>28</th>\n",
       "      <td>28</td>\n",
       "      <td>The Ballad of Buster Scruggs</td>\n",
       "      <td>Comedy, Drama, Musical</td>\n",
       "      <td>NaN</td>\n",
       "    </tr>\n",
       "    <tr>\n",
       "      <th>29</th>\n",
       "      <td>29</td>\n",
       "      <td>Bad Times at the El Royale</td>\n",
       "      <td>Crime, Drama, Mystery</td>\n",
       "      <td>NaN</td>\n",
       "    </tr>\n",
       "  </tbody>\n",
       "</table>\n",
       "</div>"
      ],
      "text/plain": [
       "    Unnamed: 0  ... Unnamed: 0.1\n",
       "0            0  ...          NaN\n",
       "1            1  ...          NaN\n",
       "2            2  ...          NaN\n",
       "3            3  ...          NaN\n",
       "4            4  ...          NaN\n",
       "5            5  ...          NaN\n",
       "6            6  ...          NaN\n",
       "7            7  ...          NaN\n",
       "8            8  ...          NaN\n",
       "9            9  ...          NaN\n",
       "10          10  ...          NaN\n",
       "11          11  ...          NaN\n",
       "12          12  ...          NaN\n",
       "13          13  ...          NaN\n",
       "14          14  ...          NaN\n",
       "15          15  ...          NaN\n",
       "16          16  ...          NaN\n",
       "17          17  ...          NaN\n",
       "18          18  ...          NaN\n",
       "19          19  ...          NaN\n",
       "20          20  ...          NaN\n",
       "21          21  ...          NaN\n",
       "22          22  ...          NaN\n",
       "23          23  ...          NaN\n",
       "24          24  ...          NaN\n",
       "25          25  ...          NaN\n",
       "26          26  ...          NaN\n",
       "27          27  ...          NaN\n",
       "28          28  ...          NaN\n",
       "29          29  ...          NaN\n",
       "\n",
       "[30 rows x 4 columns]"
      ]
     },
     "execution_count": 14,
     "metadata": {},
     "output_type": "execute_result"
    }
   ],
   "source": [
    "genre18.head(30)"
   ]
  },
  {
   "cell_type": "code",
   "execution_count": 138,
   "metadata": {
    "colab": {
     "base_uri": "https://localhost:8080/",
     "height": 206
    },
    "id": "GoNbCr34OF6b",
    "outputId": "b7b99c3c-8624-4bd4-c01c-7276a943f558"
   },
   "outputs": [
    {
     "data": {
      "text/html": [
       "<div>\n",
       "<style scoped>\n",
       "    .dataframe tbody tr th:only-of-type {\n",
       "        vertical-align: middle;\n",
       "    }\n",
       "\n",
       "    .dataframe tbody tr th {\n",
       "        vertical-align: top;\n",
       "    }\n",
       "\n",
       "    .dataframe thead th {\n",
       "        text-align: right;\n",
       "    }\n",
       "</style>\n",
       "<table border=\"1\" class=\"dataframe\">\n",
       "  <thead>\n",
       "    <tr style=\"text-align: right;\">\n",
       "      <th></th>\n",
       "      <th>Unnamed: 0</th>\n",
       "      <th>title</th>\n",
       "      <th>genre</th>\n",
       "    </tr>\n",
       "  </thead>\n",
       "  <tbody>\n",
       "    <tr>\n",
       "      <th>0</th>\n",
       "      <td>0</td>\n",
       "      <td>The King</td>\n",
       "      <td>Biography, Drama, History</td>\n",
       "    </tr>\n",
       "    <tr>\n",
       "      <th>1</th>\n",
       "      <td>1</td>\n",
       "      <td>Knives Out</td>\n",
       "      <td>Comedy, Crime, Drama</td>\n",
       "    </tr>\n",
       "    <tr>\n",
       "      <th>2</th>\n",
       "      <td>2</td>\n",
       "      <td>Avengers: Endgame</td>\n",
       "      <td>Action, Adventure, Drama</td>\n",
       "    </tr>\n",
       "    <tr>\n",
       "      <th>3</th>\n",
       "      <td>3</td>\n",
       "      <td>Once Upon a Time... In Hollywood</td>\n",
       "      <td>Comedy, Drama</td>\n",
       "    </tr>\n",
       "    <tr>\n",
       "      <th>4</th>\n",
       "      <td>4</td>\n",
       "      <td>Jumanji: The Next Level</td>\n",
       "      <td>Action, Adventure, Comedy</td>\n",
       "    </tr>\n",
       "  </tbody>\n",
       "</table>\n",
       "</div>"
      ],
      "text/plain": [
       "   Unnamed: 0                             title                      genre\n",
       "0           0                          The King  Biography, Drama, History\n",
       "1           1                        Knives Out       Comedy, Crime, Drama\n",
       "2           2                 Avengers: Endgame   Action, Adventure, Drama\n",
       "3           3  Once Upon a Time... In Hollywood              Comedy, Drama\n",
       "4           4           Jumanji: The Next Level  Action, Adventure, Comedy"
      ]
     },
     "execution_count": 138,
     "metadata": {},
     "output_type": "execute_result"
    }
   ],
   "source": [
    "genre19.head()"
   ]
  },
  {
   "cell_type": "code",
   "execution_count": null,
   "metadata": {
    "colab": {
     "base_uri": "https://localhost:8080/",
     "height": 206
    },
    "id": "5A5tGjMVOF90",
    "outputId": "f7fd144b-3dc7-432d-f772-7f02d4172b5e"
   },
   "outputs": [
    {
     "data": {
      "text/html": [
       "<div>\n",
       "<style scoped>\n",
       "    .dataframe tbody tr th:only-of-type {\n",
       "        vertical-align: middle;\n",
       "    }\n",
       "\n",
       "    .dataframe tbody tr th {\n",
       "        vertical-align: top;\n",
       "    }\n",
       "\n",
       "    .dataframe thead th {\n",
       "        text-align: right;\n",
       "    }\n",
       "</style>\n",
       "<table border=\"1\" class=\"dataframe\">\n",
       "  <thead>\n",
       "    <tr style=\"text-align: right;\">\n",
       "      <th></th>\n",
       "      <th>Unnamed: 0</th>\n",
       "      <th>title</th>\n",
       "      <th>genre</th>\n",
       "    </tr>\n",
       "  </thead>\n",
       "  <tbody>\n",
       "    <tr>\n",
       "      <th>0</th>\n",
       "      <td>0</td>\n",
       "      <td>365 Days</td>\n",
       "      <td>Drama, Romance</td>\n",
       "    </tr>\n",
       "    <tr>\n",
       "      <th>1</th>\n",
       "      <td>1</td>\n",
       "      <td>The Forgotten Battle</td>\n",
       "      <td>Drama, War</td>\n",
       "    </tr>\n",
       "    <tr>\n",
       "      <th>2</th>\n",
       "      <td>2</td>\n",
       "      <td>Tenet</td>\n",
       "      <td>Action, Sci-Fi, Thriller</td>\n",
       "    </tr>\n",
       "    <tr>\n",
       "      <th>3</th>\n",
       "      <td>3</td>\n",
       "      <td>Promising Young Woman</td>\n",
       "      <td>Crime, Drama, Mystery</td>\n",
       "    </tr>\n",
       "    <tr>\n",
       "      <th>4</th>\n",
       "      <td>4</td>\n",
       "      <td>The Night House</td>\n",
       "      <td>Horror, Mystery, Thriller</td>\n",
       "    </tr>\n",
       "  </tbody>\n",
       "</table>\n",
       "</div>"
      ],
      "text/plain": [
       "   Unnamed: 0                  title                      genre\n",
       "0           0               365 Days             Drama, Romance\n",
       "1           1   The Forgotten Battle                 Drama, War\n",
       "2           2                  Tenet   Action, Sci-Fi, Thriller\n",
       "3           3  Promising Young Woman      Crime, Drama, Mystery\n",
       "4           4        The Night House  Horror, Mystery, Thriller"
      ]
     },
     "execution_count": 16,
     "metadata": {},
     "output_type": "execute_result"
    }
   ],
   "source": [
    "genre20.head()"
   ]
  },
  {
   "cell_type": "code",
   "execution_count": null,
   "metadata": {
    "colab": {
     "base_uri": "https://localhost:8080/",
     "height": 206
    },
    "id": "B1apoFqZOGFW",
    "outputId": "745e02ed-9232-4570-c779-dae8a8a6fc14"
   },
   "outputs": [
    {
     "data": {
      "text/html": [
       "<div>\n",
       "<style scoped>\n",
       "    .dataframe tbody tr th:only-of-type {\n",
       "        vertical-align: middle;\n",
       "    }\n",
       "\n",
       "    .dataframe tbody tr th {\n",
       "        vertical-align: top;\n",
       "    }\n",
       "\n",
       "    .dataframe thead th {\n",
       "        text-align: right;\n",
       "    }\n",
       "</style>\n",
       "<table border=\"1\" class=\"dataframe\">\n",
       "  <thead>\n",
       "    <tr style=\"text-align: right;\">\n",
       "      <th></th>\n",
       "      <th>Unnamed: 0</th>\n",
       "      <th>title</th>\n",
       "      <th>genre</th>\n",
       "    </tr>\n",
       "  </thead>\n",
       "  <tbody>\n",
       "    <tr>\n",
       "      <th>0</th>\n",
       "      <td>0</td>\n",
       "      <td>Eternals</td>\n",
       "      <td>Action, Adventure, Fantasy</td>\n",
       "    </tr>\n",
       "    <tr>\n",
       "      <th>1</th>\n",
       "      <td>1</td>\n",
       "      <td>Dune</td>\n",
       "      <td>Action, Adventure, Drama</td>\n",
       "    </tr>\n",
       "    <tr>\n",
       "      <th>2</th>\n",
       "      <td>2</td>\n",
       "      <td>The Harder They Fall</td>\n",
       "      <td>Action, Drama, Western</td>\n",
       "    </tr>\n",
       "    <tr>\n",
       "      <th>3</th>\n",
       "      <td>3</td>\n",
       "      <td>Red Notice</td>\n",
       "      <td>Action, Comedy, Crime</td>\n",
       "    </tr>\n",
       "    <tr>\n",
       "      <th>4</th>\n",
       "      <td>4</td>\n",
       "      <td>No Time to Die</td>\n",
       "      <td>Action, Adventure, Thriller</td>\n",
       "    </tr>\n",
       "  </tbody>\n",
       "</table>\n",
       "</div>"
      ],
      "text/plain": [
       "   Unnamed: 0                 title                        genre\n",
       "0           0              Eternals   Action, Adventure, Fantasy\n",
       "1           1                  Dune     Action, Adventure, Drama\n",
       "2           2  The Harder They Fall       Action, Drama, Western\n",
       "3           3            Red Notice        Action, Comedy, Crime\n",
       "4           4        No Time to Die  Action, Adventure, Thriller"
      ]
     },
     "execution_count": 17,
     "metadata": {},
     "output_type": "execute_result"
    }
   ],
   "source": [
    "genre21.head()"
   ]
  },
  {
   "cell_type": "code",
   "execution_count": null,
   "metadata": {
    "colab": {
     "base_uri": "https://localhost:8080/",
     "height": 206
    },
    "id": "qS0UOD_EOGJy",
    "outputId": "890d77a6-047b-441a-9eed-8373b4f7029b"
   },
   "outputs": [
    {
     "data": {
      "text/html": [
       "<div>\n",
       "<style scoped>\n",
       "    .dataframe tbody tr th:only-of-type {\n",
       "        vertical-align: middle;\n",
       "    }\n",
       "\n",
       "    .dataframe tbody tr th {\n",
       "        vertical-align: top;\n",
       "    }\n",
       "\n",
       "    .dataframe thead th {\n",
       "        text-align: right;\n",
       "    }\n",
       "</style>\n",
       "<table border=\"1\" class=\"dataframe\">\n",
       "  <thead>\n",
       "    <tr style=\"text-align: right;\">\n",
       "      <th></th>\n",
       "      <th>Unnamed: 0</th>\n",
       "      <th>title</th>\n",
       "      <th>cast_and_crew</th>\n",
       "    </tr>\n",
       "  </thead>\n",
       "  <tbody>\n",
       "    <tr>\n",
       "      <th>0</th>\n",
       "      <td>0</td>\n",
       "      <td>Insidious: The Last Key</td>\n",
       "      <td>Adam Robitel (director); Leigh Whannell (scree...</td>\n",
       "    </tr>\n",
       "    <tr>\n",
       "      <th>1</th>\n",
       "      <td>1</td>\n",
       "      <td>The Strange Ones</td>\n",
       "      <td>Lauren Wolkstein (director); Christopher Radcl...</td>\n",
       "    </tr>\n",
       "    <tr>\n",
       "      <th>2</th>\n",
       "      <td>2</td>\n",
       "      <td>Stratton</td>\n",
       "      <td>Simon West (director); Duncan Falconer, Warren...</td>\n",
       "    </tr>\n",
       "    <tr>\n",
       "      <th>3</th>\n",
       "      <td>3</td>\n",
       "      <td>Sweet Country</td>\n",
       "      <td>Warwick Thornton (director); David Tranter, St...</td>\n",
       "    </tr>\n",
       "    <tr>\n",
       "      <th>4</th>\n",
       "      <td>4</td>\n",
       "      <td>The Commuter</td>\n",
       "      <td>Jaume Collet-Serra (director); Byron Willinger...</td>\n",
       "    </tr>\n",
       "  </tbody>\n",
       "</table>\n",
       "</div>"
      ],
      "text/plain": [
       "   Unnamed: 0  ...                                      cast_and_crew\n",
       "0           0  ...  Adam Robitel (director); Leigh Whannell (scree...\n",
       "1           1  ...  Lauren Wolkstein (director); Christopher Radcl...\n",
       "2           2  ...  Simon West (director); Duncan Falconer, Warren...\n",
       "3           3  ...  Warwick Thornton (director); David Tranter, St...\n",
       "4           4  ...  Jaume Collet-Serra (director); Byron Willinger...\n",
       "\n",
       "[5 rows x 3 columns]"
      ]
     },
     "execution_count": 18,
     "metadata": {},
     "output_type": "execute_result"
    }
   ],
   "source": [
    "movie18.head()"
   ]
  },
  {
   "cell_type": "code",
   "execution_count": 55,
   "metadata": {
    "id": "PUYGDFqEOGNc"
   },
   "outputs": [],
   "source": [
    "moviefinal18=pd.merge(movie18,genre18,on=\"title\")"
   ]
  },
  {
   "cell_type": "code",
   "execution_count": null,
   "metadata": {
    "colab": {
     "base_uri": "https://localhost:8080/",
     "height": 206
    },
    "id": "orK5XXHMOGQ5",
    "outputId": "d61b28d5-b8ab-471a-cf85-af5a0d39e66c"
   },
   "outputs": [
    {
     "data": {
      "text/html": [
       "<div>\n",
       "<style scoped>\n",
       "    .dataframe tbody tr th:only-of-type {\n",
       "        vertical-align: middle;\n",
       "    }\n",
       "\n",
       "    .dataframe tbody tr th {\n",
       "        vertical-align: top;\n",
       "    }\n",
       "\n",
       "    .dataframe thead th {\n",
       "        text-align: right;\n",
       "    }\n",
       "</style>\n",
       "<table border=\"1\" class=\"dataframe\">\n",
       "  <thead>\n",
       "    <tr style=\"text-align: right;\">\n",
       "      <th></th>\n",
       "      <th>Unnamed: 0_x</th>\n",
       "      <th>title</th>\n",
       "      <th>cast_and_crew</th>\n",
       "      <th>Unnamed: 0_y</th>\n",
       "      <th>genre</th>\n",
       "      <th>Unnamed: 0.1</th>\n",
       "    </tr>\n",
       "  </thead>\n",
       "  <tbody>\n",
       "    <tr>\n",
       "      <th>0</th>\n",
       "      <td>23</td>\n",
       "      <td>Fifty Shades Freed</td>\n",
       "      <td>James Foley (director); Niall Leonard (screenp...</td>\n",
       "      <td>30</td>\n",
       "      <td>Drama, Romance, Thriller</td>\n",
       "      <td>NaN</td>\n",
       "    </tr>\n",
       "    <tr>\n",
       "      <th>1</th>\n",
       "      <td>30</td>\n",
       "      <td>Black Panther</td>\n",
       "      <td>Ryan Coogler (director/​screenplay); Joe Rober...</td>\n",
       "      <td>8</td>\n",
       "      <td>Action, Adventure, Sci-Fi</td>\n",
       "      <td>NaN</td>\n",
       "    </tr>\n",
       "    <tr>\n",
       "      <th>2</th>\n",
       "      <td>37</td>\n",
       "      <td>Game Night</td>\n",
       "      <td>Jonathan Goldstein, John Francis Daley (direct...</td>\n",
       "      <td>49</td>\n",
       "      <td>Action, Comedy, Crime</td>\n",
       "      <td>NaN</td>\n",
       "    </tr>\n",
       "    <tr>\n",
       "      <th>3</th>\n",
       "      <td>38</td>\n",
       "      <td>Annihilation</td>\n",
       "      <td>Alex Garland (director/screenplay); Natalie Po...</td>\n",
       "      <td>24</td>\n",
       "      <td>Adventure, Drama, Horror</td>\n",
       "      <td>NaN</td>\n",
       "    </tr>\n",
       "    <tr>\n",
       "      <th>4</th>\n",
       "      <td>42</td>\n",
       "      <td>Red Sparrow</td>\n",
       "      <td>Francis Lawrence (director); Justin Haythe (sc...</td>\n",
       "      <td>38</td>\n",
       "      <td>Action, Drama, Thriller</td>\n",
       "      <td>NaN</td>\n",
       "    </tr>\n",
       "  </tbody>\n",
       "</table>\n",
       "</div>"
      ],
      "text/plain": [
       "   Unnamed: 0_x               title  ...                      genre  Unnamed: 0.1\n",
       "0            23  Fifty Shades Freed  ...   Drama, Romance, Thriller           NaN\n",
       "1            30       Black Panther  ...  Action, Adventure, Sci-Fi           NaN\n",
       "2            37          Game Night  ...      Action, Comedy, Crime           NaN\n",
       "3            38        Annihilation  ...   Adventure, Drama, Horror           NaN\n",
       "4            42         Red Sparrow  ...    Action, Drama, Thriller           NaN\n",
       "\n",
       "[5 rows x 6 columns]"
      ]
     },
     "execution_count": 20,
     "metadata": {},
     "output_type": "execute_result"
    }
   ],
   "source": [
    "moviefinal18.head()"
   ]
  },
  {
   "cell_type": "code",
   "execution_count": 56,
   "metadata": {
    "id": "0Z8BGuS0OGZw"
   },
   "outputs": [],
   "source": [
    "moviefinal18.drop([\"Unnamed: 0_x\",\"Unnamed: 0_y\",\"Unnamed: 0.1\"],axis=1,inplace=True)"
   ]
  },
  {
   "cell_type": "code",
   "execution_count": null,
   "metadata": {
    "colab": {
     "base_uri": "https://localhost:8080/",
     "height": 206
    },
    "id": "w1EtVK4FdeYF",
    "outputId": "208b3b37-7ed6-4c38-bef6-381fd93b788e"
   },
   "outputs": [
    {
     "data": {
      "text/html": [
       "<div>\n",
       "<style scoped>\n",
       "    .dataframe tbody tr th:only-of-type {\n",
       "        vertical-align: middle;\n",
       "    }\n",
       "\n",
       "    .dataframe tbody tr th {\n",
       "        vertical-align: top;\n",
       "    }\n",
       "\n",
       "    .dataframe thead th {\n",
       "        text-align: right;\n",
       "    }\n",
       "</style>\n",
       "<table border=\"1\" class=\"dataframe\">\n",
       "  <thead>\n",
       "    <tr style=\"text-align: right;\">\n",
       "      <th></th>\n",
       "      <th>title</th>\n",
       "      <th>cast_and_crew</th>\n",
       "      <th>genre</th>\n",
       "    </tr>\n",
       "  </thead>\n",
       "  <tbody>\n",
       "    <tr>\n",
       "      <th>0</th>\n",
       "      <td>Fifty Shades Freed</td>\n",
       "      <td>James Foley (director); Niall Leonard (screenp...</td>\n",
       "      <td>Drama, Romance, Thriller</td>\n",
       "    </tr>\n",
       "    <tr>\n",
       "      <th>1</th>\n",
       "      <td>Black Panther</td>\n",
       "      <td>Ryan Coogler (director/​screenplay); Joe Rober...</td>\n",
       "      <td>Action, Adventure, Sci-Fi</td>\n",
       "    </tr>\n",
       "    <tr>\n",
       "      <th>2</th>\n",
       "      <td>Game Night</td>\n",
       "      <td>Jonathan Goldstein, John Francis Daley (direct...</td>\n",
       "      <td>Action, Comedy, Crime</td>\n",
       "    </tr>\n",
       "    <tr>\n",
       "      <th>3</th>\n",
       "      <td>Annihilation</td>\n",
       "      <td>Alex Garland (director/screenplay); Natalie Po...</td>\n",
       "      <td>Adventure, Drama, Horror</td>\n",
       "    </tr>\n",
       "    <tr>\n",
       "      <th>4</th>\n",
       "      <td>Red Sparrow</td>\n",
       "      <td>Francis Lawrence (director); Justin Haythe (sc...</td>\n",
       "      <td>Action, Drama, Thriller</td>\n",
       "    </tr>\n",
       "  </tbody>\n",
       "</table>\n",
       "</div>"
      ],
      "text/plain": [
       "                title  ...                      genre\n",
       "0  Fifty Shades Freed  ...   Drama, Romance, Thriller\n",
       "1       Black Panther  ...  Action, Adventure, Sci-Fi\n",
       "2          Game Night  ...      Action, Comedy, Crime\n",
       "3        Annihilation  ...   Adventure, Drama, Horror\n",
       "4         Red Sparrow  ...    Action, Drama, Thriller\n",
       "\n",
       "[5 rows x 3 columns]"
      ]
     },
     "execution_count": 22,
     "metadata": {},
     "output_type": "execute_result"
    }
   ],
   "source": [
    "moviefinal18.head()"
   ]
  },
  {
   "cell_type": "code",
   "execution_count": 13,
   "metadata": {
    "id": "xPFicDxCdjTu"
   },
   "outputs": [],
   "source": [
    "moviefinal19=pd.merge(movie19,genre19,on=\"title\")"
   ]
  },
  {
   "cell_type": "code",
   "execution_count": null,
   "metadata": {
    "colab": {
     "base_uri": "https://localhost:8080/",
     "height": 206
    },
    "id": "uUjiwRRaduv2",
    "outputId": "391e6018-8e86-4dbd-8cb1-c094747d01af"
   },
   "outputs": [
    {
     "data": {
      "text/html": [
       "<div>\n",
       "<style scoped>\n",
       "    .dataframe tbody tr th:only-of-type {\n",
       "        vertical-align: middle;\n",
       "    }\n",
       "\n",
       "    .dataframe tbody tr th {\n",
       "        vertical-align: top;\n",
       "    }\n",
       "\n",
       "    .dataframe thead th {\n",
       "        text-align: right;\n",
       "    }\n",
       "</style>\n",
       "<table border=\"1\" class=\"dataframe\">\n",
       "  <thead>\n",
       "    <tr style=\"text-align: right;\">\n",
       "      <th></th>\n",
       "      <th>Unnamed: 0_x</th>\n",
       "      <th>title</th>\n",
       "      <th>cast_and_crew</th>\n",
       "      <th>Unnamed: 0_y</th>\n",
       "      <th>genre</th>\n",
       "    </tr>\n",
       "  </thead>\n",
       "  <tbody>\n",
       "    <tr>\n",
       "      <th>0</th>\n",
       "      <td>0</td>\n",
       "      <td>Escape Room</td>\n",
       "      <td>Adam Robitel (director); Bragi F. Schut, Maria...</td>\n",
       "      <td>45</td>\n",
       "      <td>Action, Adventure, Horror</td>\n",
       "    </tr>\n",
       "    <tr>\n",
       "      <th>1</th>\n",
       "      <td>25</td>\n",
       "      <td>Alita: Battle Angel</td>\n",
       "      <td>Robert Rodriguez (director); James Cameron, La...</td>\n",
       "      <td>37</td>\n",
       "      <td>Action, Adventure, Sci-Fi</td>\n",
       "    </tr>\n",
       "    <tr>\n",
       "      <th>2</th>\n",
       "      <td>27</td>\n",
       "      <td>Fighting with My Family</td>\n",
       "      <td>Stephen Merchant (director/screenplay); Floren...</td>\n",
       "      <td>25</td>\n",
       "      <td>Biography, Comedy, Drama</td>\n",
       "    </tr>\n",
       "    <tr>\n",
       "      <th>3</th>\n",
       "      <td>31</td>\n",
       "      <td>Captain Marvel</td>\n",
       "      <td>Anna Boden, Ryan Fleck (directors/screenplay);...</td>\n",
       "      <td>13</td>\n",
       "      <td>Action, Adventure, Sci-Fi</td>\n",
       "    </tr>\n",
       "    <tr>\n",
       "      <th>4</th>\n",
       "      <td>42</td>\n",
       "      <td>Us</td>\n",
       "      <td>Jordan Peele (director/screenplay); Lupita Nyo...</td>\n",
       "      <td>28</td>\n",
       "      <td>Horror, Mystery, Thriller</td>\n",
       "    </tr>\n",
       "  </tbody>\n",
       "</table>\n",
       "</div>"
      ],
      "text/plain": [
       "   Unnamed: 0_x  ...                      genre\n",
       "0             0  ...  Action, Adventure, Horror\n",
       "1            25  ...  Action, Adventure, Sci-Fi\n",
       "2            27  ...   Biography, Comedy, Drama\n",
       "3            31  ...  Action, Adventure, Sci-Fi\n",
       "4            42  ...  Horror, Mystery, Thriller\n",
       "\n",
       "[5 rows x 5 columns]"
      ]
     },
     "execution_count": 24,
     "metadata": {},
     "output_type": "execute_result"
    }
   ],
   "source": [
    "moviefinal19.head()"
   ]
  },
  {
   "cell_type": "code",
   "execution_count": 14,
   "metadata": {
    "id": "oW9KXwVDd1tL"
   },
   "outputs": [],
   "source": [
    "moviefinal19.drop([\"Unnamed: 0_x\",\"Unnamed: 0_y\"],axis=1,inplace=True)"
   ]
  },
  {
   "cell_type": "code",
   "execution_count": null,
   "metadata": {
    "colab": {
     "base_uri": "https://localhost:8080/",
     "height": 206
    },
    "id": "MBYV15Rgd-8Y",
    "outputId": "5ba46e70-7fc5-4a7a-9442-ca5f052b3b6b"
   },
   "outputs": [
    {
     "data": {
      "text/html": [
       "<div>\n",
       "<style scoped>\n",
       "    .dataframe tbody tr th:only-of-type {\n",
       "        vertical-align: middle;\n",
       "    }\n",
       "\n",
       "    .dataframe tbody tr th {\n",
       "        vertical-align: top;\n",
       "    }\n",
       "\n",
       "    .dataframe thead th {\n",
       "        text-align: right;\n",
       "    }\n",
       "</style>\n",
       "<table border=\"1\" class=\"dataframe\">\n",
       "  <thead>\n",
       "    <tr style=\"text-align: right;\">\n",
       "      <th></th>\n",
       "      <th>title</th>\n",
       "      <th>cast_and_crew</th>\n",
       "      <th>genre</th>\n",
       "    </tr>\n",
       "  </thead>\n",
       "  <tbody>\n",
       "    <tr>\n",
       "      <th>0</th>\n",
       "      <td>Escape Room</td>\n",
       "      <td>Adam Robitel (director); Bragi F. Schut, Maria...</td>\n",
       "      <td>Action, Adventure, Horror</td>\n",
       "    </tr>\n",
       "    <tr>\n",
       "      <th>1</th>\n",
       "      <td>Alita: Battle Angel</td>\n",
       "      <td>Robert Rodriguez (director); James Cameron, La...</td>\n",
       "      <td>Action, Adventure, Sci-Fi</td>\n",
       "    </tr>\n",
       "    <tr>\n",
       "      <th>2</th>\n",
       "      <td>Fighting with My Family</td>\n",
       "      <td>Stephen Merchant (director/screenplay); Floren...</td>\n",
       "      <td>Biography, Comedy, Drama</td>\n",
       "    </tr>\n",
       "    <tr>\n",
       "      <th>3</th>\n",
       "      <td>Captain Marvel</td>\n",
       "      <td>Anna Boden, Ryan Fleck (directors/screenplay);...</td>\n",
       "      <td>Action, Adventure, Sci-Fi</td>\n",
       "    </tr>\n",
       "    <tr>\n",
       "      <th>4</th>\n",
       "      <td>Us</td>\n",
       "      <td>Jordan Peele (director/screenplay); Lupita Nyo...</td>\n",
       "      <td>Horror, Mystery, Thriller</td>\n",
       "    </tr>\n",
       "  </tbody>\n",
       "</table>\n",
       "</div>"
      ],
      "text/plain": [
       "                     title  ...                      genre\n",
       "0              Escape Room  ...  Action, Adventure, Horror\n",
       "1      Alita: Battle Angel  ...  Action, Adventure, Sci-Fi\n",
       "2  Fighting with My Family  ...   Biography, Comedy, Drama\n",
       "3           Captain Marvel  ...  Action, Adventure, Sci-Fi\n",
       "4                       Us  ...  Horror, Mystery, Thriller\n",
       "\n",
       "[5 rows x 3 columns]"
      ]
     },
     "execution_count": 26,
     "metadata": {},
     "output_type": "execute_result"
    }
   ],
   "source": [
    "moviefinal19.head()"
   ]
  },
  {
   "cell_type": "code",
   "execution_count": 15,
   "metadata": {
    "id": "OXKRMbdNeEOu"
   },
   "outputs": [],
   "source": [
    "moviefinal20=pd.merge(movie20,genre20,on=\"title\")"
   ]
  },
  {
   "cell_type": "code",
   "execution_count": null,
   "metadata": {
    "colab": {
     "base_uri": "https://localhost:8080/",
     "height": 206
    },
    "id": "vyJmbGCjePRq",
    "outputId": "64c69084-f5fd-467a-a4b4-f102770af37d"
   },
   "outputs": [
    {
     "data": {
      "text/html": [
       "<div>\n",
       "<style scoped>\n",
       "    .dataframe tbody tr th:only-of-type {\n",
       "        vertical-align: middle;\n",
       "    }\n",
       "\n",
       "    .dataframe tbody tr th {\n",
       "        vertical-align: top;\n",
       "    }\n",
       "\n",
       "    .dataframe thead th {\n",
       "        text-align: right;\n",
       "    }\n",
       "</style>\n",
       "<table border=\"1\" class=\"dataframe\">\n",
       "  <thead>\n",
       "    <tr style=\"text-align: right;\">\n",
       "      <th></th>\n",
       "      <th>Unnamed: 0_x</th>\n",
       "      <th>title</th>\n",
       "      <th>cast_and_crew</th>\n",
       "      <th>Unnamed: 0_y</th>\n",
       "      <th>genre</th>\n",
       "    </tr>\n",
       "  </thead>\n",
       "  <tbody>\n",
       "    <tr>\n",
       "      <th>0</th>\n",
       "      <td>15</td>\n",
       "      <td>Nomadland</td>\n",
       "      <td>Chloé Zhao (director/screenplay); Frances McD...</td>\n",
       "      <td>5</td>\n",
       "      <td>Drama</td>\n",
       "    </tr>\n",
       "    <tr>\n",
       "      <th>1</th>\n",
       "      <td>28</td>\n",
       "      <td>Minari</td>\n",
       "      <td>Lee Isaac Chung (director/screenplay); Steven ...</td>\n",
       "      <td>23</td>\n",
       "      <td>Drama</td>\n",
       "    </tr>\n",
       "    <tr>\n",
       "      <th>2</th>\n",
       "      <td>36</td>\n",
       "      <td>I Care a Lot</td>\n",
       "      <td>J Blakeson (director/screenplay); Rosamund Pik...</td>\n",
       "      <td>34</td>\n",
       "      <td>Comedy, Crime, Thriller</td>\n",
       "    </tr>\n",
       "    <tr>\n",
       "      <th>3</th>\n",
       "      <td>50</td>\n",
       "      <td>Boss Level</td>\n",
       "      <td>Joe Carnahan (director/screenplay); Chris Bore...</td>\n",
       "      <td>26</td>\n",
       "      <td>Action, Mystery, Sci-Fi</td>\n",
       "    </tr>\n",
       "    <tr>\n",
       "      <th>4</th>\n",
       "      <td>57</td>\n",
       "      <td>The Courier</td>\n",
       "      <td>Dominic Cooke (director); Tom O'Connor (screen...</td>\n",
       "      <td>9</td>\n",
       "      <td>Drama, History, Thriller</td>\n",
       "    </tr>\n",
       "  </tbody>\n",
       "</table>\n",
       "</div>"
      ],
      "text/plain": [
       "   Unnamed: 0_x         title  ... Unnamed: 0_y                     genre\n",
       "0            15     Nomadland  ...            5                     Drama\n",
       "1            28        Minari  ...           23                     Drama\n",
       "2            36  I Care a Lot  ...           34   Comedy, Crime, Thriller\n",
       "3            50    Boss Level  ...           26   Action, Mystery, Sci-Fi\n",
       "4            57   The Courier  ...            9  Drama, History, Thriller\n",
       "\n",
       "[5 rows x 5 columns]"
      ]
     },
     "execution_count": 28,
     "metadata": {},
     "output_type": "execute_result"
    }
   ],
   "source": [
    "moviefinal20.head()"
   ]
  },
  {
   "cell_type": "code",
   "execution_count": 16,
   "metadata": {
    "id": "c2wwaftUeVmK"
   },
   "outputs": [],
   "source": [
    "moviefinal20.drop([\"Unnamed: 0_x\",\"Unnamed: 0_y\"],axis=1,inplace=True)"
   ]
  },
  {
   "cell_type": "code",
   "execution_count": 17,
   "metadata": {
    "id": "7YWHe17tehYP"
   },
   "outputs": [],
   "source": [
    "moviefinal21=pd.merge(movie21,genre21,on=\"title\")"
   ]
  },
  {
   "cell_type": "code",
   "execution_count": null,
   "metadata": {
    "colab": {
     "base_uri": "https://localhost:8080/",
     "height": 206
    },
    "id": "_QwZksu-erMs",
    "outputId": "bd266f38-f38d-4f5d-9294-83d65ede49b3"
   },
   "outputs": [
    {
     "data": {
      "text/html": [
       "<div>\n",
       "<style scoped>\n",
       "    .dataframe tbody tr th:only-of-type {\n",
       "        vertical-align: middle;\n",
       "    }\n",
       "\n",
       "    .dataframe tbody tr th {\n",
       "        vertical-align: top;\n",
       "    }\n",
       "\n",
       "    .dataframe thead th {\n",
       "        text-align: right;\n",
       "    }\n",
       "</style>\n",
       "<table border=\"1\" class=\"dataframe\">\n",
       "  <thead>\n",
       "    <tr style=\"text-align: right;\">\n",
       "      <th></th>\n",
       "      <th>Unnamed: 0_x</th>\n",
       "      <th>title</th>\n",
       "      <th>cast_and_crew</th>\n",
       "      <th>Unnamed: 0_y</th>\n",
       "      <th>genre</th>\n",
       "    </tr>\n",
       "  </thead>\n",
       "  <tbody>\n",
       "    <tr>\n",
       "      <th>0</th>\n",
       "      <td>98</td>\n",
       "      <td>Army of the Dead</td>\n",
       "      <td>Zack Snyder (director/screenplay); Shay Hatten...</td>\n",
       "      <td>20</td>\n",
       "      <td>Action, Crime, Horror</td>\n",
       "    </tr>\n",
       "    <tr>\n",
       "      <th>1</th>\n",
       "      <td>109</td>\n",
       "      <td>Cruella</td>\n",
       "      <td>Craig Gillespie (director); Dana Fox, Tony McN...</td>\n",
       "      <td>45</td>\n",
       "      <td>Adventure, Comedy, Crime</td>\n",
       "    </tr>\n",
       "    <tr>\n",
       "      <th>2</th>\n",
       "      <td>158</td>\n",
       "      <td>Black Widow</td>\n",
       "      <td>Cate Shortland (director); Eric Pearson (scree...</td>\n",
       "      <td>25</td>\n",
       "      <td>Action, Adventure, Sci-Fi</td>\n",
       "    </tr>\n",
       "    <tr>\n",
       "      <th>3</th>\n",
       "      <td>172</td>\n",
       "      <td>Old</td>\n",
       "      <td>M. Night Shyamalan (director/screenplay); Gael...</td>\n",
       "      <td>32</td>\n",
       "      <td>Drama, Horror, Mystery</td>\n",
       "    </tr>\n",
       "    <tr>\n",
       "      <th>4</th>\n",
       "      <td>179</td>\n",
       "      <td>Jungle Cruise</td>\n",
       "      <td>Jaume Collet-Serra (director); Michael Green, ...</td>\n",
       "      <td>23</td>\n",
       "      <td>Action, Adventure, Comedy</td>\n",
       "    </tr>\n",
       "  </tbody>\n",
       "</table>\n",
       "</div>"
      ],
      "text/plain": [
       "   Unnamed: 0_x             title  ... Unnamed: 0_y                      genre\n",
       "0            98  Army of the Dead  ...           20      Action, Crime, Horror\n",
       "1           109           Cruella  ...           45   Adventure, Comedy, Crime\n",
       "2           158       Black Widow  ...           25  Action, Adventure, Sci-Fi\n",
       "3           172               Old  ...           32     Drama, Horror, Mystery\n",
       "4           179     Jungle Cruise  ...           23  Action, Adventure, Comedy\n",
       "\n",
       "[5 rows x 5 columns]"
      ]
     },
     "execution_count": 31,
     "metadata": {},
     "output_type": "execute_result"
    }
   ],
   "source": [
    "moviefinal21.head()"
   ]
  },
  {
   "cell_type": "code",
   "execution_count": 18,
   "metadata": {
    "id": "qlSbjIe9ev4J"
   },
   "outputs": [],
   "source": [
    "moviefinal21.drop([\"Unnamed: 0_x\",\"Unnamed: 0_y\"],axis=1,inplace=True)"
   ]
  },
  {
   "cell_type": "code",
   "execution_count": 57,
   "metadata": {
    "colab": {
     "base_uri": "https://localhost:8080/",
     "height": 53
    },
    "id": "_y2ZiynJe6QP",
    "outputId": "fc38a377-761b-4753-ee1d-fae7f4bc10bf"
   },
   "outputs": [
    {
     "data": {
      "application/vnd.google.colaboratory.intrinsic+json": {
       "type": "string"
      },
      "text/plain": [
       "'James Foley (director); Niall Leonard (screenplay); Dakota Johnson, Jamie Dornan, Kim Basinger, Eric Johnson, Rita Ora, Luke Grimes, Victor Rasuk, Jennifer Ehle, Marcia Gay Harden'"
      ]
     },
     "execution_count": 57,
     "metadata": {},
     "output_type": "execute_result"
    }
   ],
   "source": [
    "moviefinal18[\"cast_and_crew\"][0]"
   ]
  },
  {
   "cell_type": "code",
   "execution_count": 30,
   "metadata": {
    "colab": {
     "base_uri": "https://localhost:8080/"
    },
    "id": "2SZWdkizYUCy",
    "outputId": "5b0f2311-84ea-4564-bae8-14805b9baf5f"
   },
   "outputs": [
    {
     "data": {
      "text/plain": [
       "str"
      ]
     },
     "execution_count": 30,
     "metadata": {},
     "output_type": "execute_result"
    }
   ],
   "source": [
    "type(moviefinal18[\"cast_and_crew\"][0])"
   ]
  },
  {
   "cell_type": "code",
   "execution_count": 58,
   "metadata": {
    "id": "h2J4EPBXb-I4"
   },
   "outputs": [],
   "source": [
    "moviefinal18[\"director_and_actor\"]=moviefinal18[\"cast_and_crew\"].apply(lambda x :[b for b in x.split(\",\") if \"director\" in b] )"
   ]
  },
  {
   "cell_type": "code",
   "execution_count": 83,
   "metadata": {
    "colab": {
     "base_uri": "https://localhost:8080/"
    },
    "id": "-R_xcCylljb3",
    "outputId": "5f5ecd3e-afac-4cd2-ccbf-6e2f1b3b2fcc"
   },
   "outputs": [
    {
     "data": {
      "text/plain": [
       "0    [James Foley (director); Niall Leonard (screen...\n",
       "1    [Ryan Coogler (director/​screenplay); Joe Robe...\n",
       "2    [ John Francis Daley (directors); Mark Perez (...\n",
       "3    [Alex Garland (director/screenplay); Natalie P...\n",
       "4    [Francis Lawrence (director); Justin Haythe (s...\n",
       "5    [Wes Anderson (director/screenplay); Bryan Cra...\n",
       "6          [Steven Spielberg (director); Ernest Cline]\n",
       "7    [John Krasinski (director/screenplay); Scott B...\n",
       "8    [Anthony Russo and Joe Russo (directors); Chri...\n",
       "9               [David Leitch (director); Rhett Reese]\n",
       "Name: director_and_actor, dtype: object"
      ]
     },
     "execution_count": 83,
     "metadata": {},
     "output_type": "execute_result"
    }
   ],
   "source": [
    "moviefinal18[\"director_and_actor\"].head(10)"
   ]
  },
  {
   "cell_type": "code",
   "execution_count": 86,
   "metadata": {
    "id": "-F2wQ0QAkKK_"
   },
   "outputs": [],
   "source": [
    "moviefinal18[\"director_name\"]=moviefinal18[\"director_and_actor\"].apply(lambda x :[b for b in x[0].split(\";\") if \"director\" in b])"
   ]
  },
  {
   "cell_type": "code",
   "execution_count": 93,
   "metadata": {
    "colab": {
     "base_uri": "https://localhost:8080/"
    },
    "id": "xr5mwvwEx1gz",
    "outputId": "68c0ec24-91c8-4e29-d599-401559aa631a"
   },
   "outputs": [
    {
     "data": {
      "text/plain": [
       "list"
      ]
     },
     "execution_count": 93,
     "metadata": {},
     "output_type": "execute_result"
    }
   ],
   "source": [
    "type(moviefinal18[\"director_name\"][0])"
   ]
  },
  {
   "cell_type": "code",
   "execution_count": 95,
   "metadata": {
    "id": "d5qEaduSjqOg"
   },
   "outputs": [],
   "source": [
    "moviefinal18[\"director_name\"]=moviefinal18[\"director_name\"].apply(lambda x : x[0].strip(\"'(director)','(director/​screenplay)','(directors)'\"))"
   ]
  },
  {
   "cell_type": "code",
   "execution_count": 96,
   "metadata": {
    "colab": {
     "base_uri": "https://localhost:8080/"
    },
    "id": "XOBTyuUnz7WO",
    "outputId": "ffa12749-a4b8-4e34-ab14-b84dc2dfe9fa"
   },
   "outputs": [
    {
     "data": {
      "text/plain": [
       "0            James Foley \n",
       "1           Ryan Coogler \n",
       "2     John Francis Daley \n",
       "3           Alex Garland \n",
       "4       Francis Lawrence \n",
       "Name: director_name, dtype: object"
      ]
     },
     "execution_count": 96,
     "metadata": {},
     "output_type": "execute_result"
    }
   ],
   "source": [
    "moviefinal18[\"director_name\"].head()"
   ]
  },
  {
   "cell_type": "code",
   "execution_count": null,
   "metadata": {
    "id": "N2ScBnJC5h6F"
   },
   "outputs": [],
   "source": []
  },
  {
   "cell_type": "code",
   "execution_count": 98,
   "metadata": {
    "colab": {
     "base_uri": "https://localhost:8080/"
    },
    "id": "Zg4Q8nhP0EHM",
    "outputId": "3076d08c-c276-4aa5-f00a-672e33ee3503"
   },
   "outputs": [
    {
     "data": {
      "text/plain": [
       "['Francis Lawrence (director); Justin Haythe (screenplay); Jennifer Lawrence']"
      ]
     },
     "execution_count": 98,
     "metadata": {},
     "output_type": "execute_result"
    }
   ],
   "source": [
    "moviefinal18[\"director_and_actor\"][4]"
   ]
  },
  {
   "cell_type": "code",
   "execution_count": 117,
   "metadata": {
    "id": "2Adpv6O30TxT"
   },
   "outputs": [],
   "source": [
    "moviefinal18[\"actors\"]=moviefinal18[\"director_and_actor\"].apply(lambda x : [b for b in x[0].split(\";\") if \"(director)\" not in b  and  \"(screenplay)\" not in b  and \"(director/screenplay)\" not in b and \"(director/​screenplay)\" not in b  and \"(directors)\" not in b and \"(co-director)\" not in b and \"(directors/screenplay)\" not in b] )"
   ]
  },
  {
   "cell_type": "code",
   "execution_count": 119,
   "metadata": {
    "colab": {
     "base_uri": "https://localhost:8080/"
    },
    "id": "aTdcamlD6an7",
    "outputId": "03849a33-4258-414d-d1f4-03d92cb06b5e"
   },
   "outputs": [
    {
     "data": {
      "text/plain": [
       "0                      [ Dakota Johnson]\n",
       "1                    [ Chadwick Boseman]\n",
       "2                       [ Jason Bateman]\n",
       "3                     [ Natalie Portman]\n",
       "4                   [ Jennifer Lawrence]\n",
       "5                      [ Bryan Cranston]\n",
       "6                        [ Ernest Cline]\n",
       "7                          [ Scott Beck]\n",
       "8                   [ Robert Downey Jr.]\n",
       "9                         [ Rhett Reese]\n",
       "10                    [ Lawrence Kasdan]\n",
       "11                      [ Toni Collette]\n",
       "12                     [ Derek Connolly]\n",
       "13                   [ Benicio del Toro]\n",
       "14                      [ Chris McKenna]\n",
       "15                     [ Dean Georgaris]\n",
       "16                          [ Spike Lee]\n",
       "17                    [ Peter Chiarelli]\n",
       "18                      [ Boyd Holbrook]\n",
       "19                      [ Anna Kendrick]\n",
       "20                       [ Jeff Pinkner]\n",
       "21                          [ Eric Roth]\n",
       "22                       [ Jeff Bridges]\n",
       "23                       [ Steve Carell]\n",
       "24                       [ Jeff Fradley]\n",
       "25                     [ Dakota Johnson]\n",
       "26                         [ Rami Malek]\n",
       "27                    [ Michael LeSieur]\n",
       "28                      [ Steven Knight]\n",
       "29                   [ Tim Blake Nelson]\n",
       "30                     [ Eddie Redmayne]\n",
       "31                        [ Viola Davis]\n",
       "32                 [ Brian Hayes Currie]\n",
       "33                       [ Ben Chandler]\n",
       "34                      [ Deborah Davis]\n",
       "35                     [ Zain Al Rafeea]\n",
       "36                          [ Phil Lord]\n",
       "37                        [ Emily Blunt]\n",
       "38    [ David Leslie Johnson-McGoldrick]\n",
       "39                     [ Christian Bale]\n",
       "Name: actors, dtype: object"
      ]
     },
     "execution_count": 119,
     "metadata": {},
     "output_type": "execute_result"
    }
   ],
   "source": [
    "moviefinal18[\"actors\"]"
   ]
  },
  {
   "cell_type": "code",
   "execution_count": 120,
   "metadata": {
    "colab": {
     "base_uri": "https://localhost:8080/"
    },
    "id": "WVATWfZN_Mtm",
    "outputId": "3d08fe77-80bc-4b47-8cb6-16d9fdac1d57"
   },
   "outputs": [
    {
     "data": {
      "text/plain": [
       "(270, 3)"
      ]
     },
     "execution_count": 120,
     "metadata": {},
     "output_type": "execute_result"
    }
   ],
   "source": [
    "movie18.shape"
   ]
  },
  {
   "cell_type": "code",
   "execution_count": 122,
   "metadata": {
    "colab": {
     "base_uri": "https://localhost:8080/"
    },
    "id": "hDoP4z1T_Qy0",
    "outputId": "d5b95805-04da-4ee5-92b9-68b22b411d50"
   },
   "outputs": [
    {
     "data": {
      "text/plain": [
       "(300, 4)"
      ]
     },
     "execution_count": 122,
     "metadata": {},
     "output_type": "execute_result"
    }
   ],
   "source": [
    "genre18.shape"
   ]
  },
  {
   "cell_type": "code",
   "execution_count": null,
   "metadata": {
    "id": "7Jbpgp76_aQx"
   },
   "outputs": [],
   "source": []
  }
 ],
 "metadata": {
  "colab": {
   "collapsed_sections": [],
   "name": "datapreprocessing4.ipynb",
   "provenance": []
  },
  "kernelspec": {
   "display_name": "Python 3 (ipykernel)",
   "language": "python",
   "name": "python3"
  },
  "language_info": {
   "codemirror_mode": {
    "name": "ipython",
    "version": 3
   },
   "file_extension": ".py",
   "mimetype": "text/x-python",
   "name": "python",
   "nbconvert_exporter": "python",
   "pygments_lexer": "ipython3",
   "version": "3.9.7"
  }
 },
 "nbformat": 4,
 "nbformat_minor": 1
}
