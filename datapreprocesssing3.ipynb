{
 "cells": [
  {
   "cell_type": "code",
   "execution_count": 26,
   "id": "252ce5eb",
   "metadata": {
    "id": "252ce5eb"
   },
   "outputs": [],
   "source": [
    "import pandas as pd\n",
    "import numpy as np\n",
    "import matplotlib.pyplot as plt\n",
    "%matplotlib inline"
   ]
  },
  {
   "cell_type": "code",
   "execution_count": 3,
   "id": "9bee37a3",
   "metadata": {
    "colab": {
     "base_uri": "https://localhost:8080/"
    },
    "id": "9bee37a3",
    "outputId": "d89ffc17-4c4b-4657-e1bf-84fe81ef4293"
   },
   "outputs": [
    {
     "name": "stdout",
     "output_type": "stream",
     "text": [
      "Collecting autoscraper\n",
      "  Downloading autoscraper-1.1.12-py3-none-any.whl (10 kB)\n",
      "Requirement already satisfied: requests in /usr/local/lib/python3.7/dist-packages (from autoscraper) (2.23.0)\n",
      "Requirement already satisfied: bs4 in /usr/local/lib/python3.7/dist-packages (from autoscraper) (0.0.1)\n",
      "Requirement already satisfied: lxml in /usr/local/lib/python3.7/dist-packages (from autoscraper) (4.2.6)\n",
      "Requirement already satisfied: beautifulsoup4 in /usr/local/lib/python3.7/dist-packages (from bs4->autoscraper) (4.6.3)\n",
      "Requirement already satisfied: chardet<4,>=3.0.2 in /usr/local/lib/python3.7/dist-packages (from requests->autoscraper) (3.0.4)\n",
      "Requirement already satisfied: certifi>=2017.4.17 in /usr/local/lib/python3.7/dist-packages (from requests->autoscraper) (2021.10.8)\n",
      "Requirement already satisfied: idna<3,>=2.5 in /usr/local/lib/python3.7/dist-packages (from requests->autoscraper) (2.10)\n",
      "Requirement already satisfied: urllib3!=1.25.0,!=1.25.1,<1.26,>=1.21.1 in /usr/local/lib/python3.7/dist-packages (from requests->autoscraper) (1.24.3)\n",
      "Installing collected packages: autoscraper\n",
      "Successfully installed autoscraper-1.1.12\n"
     ]
    }
   ],
   "source": [
    "pip install autoscraper"
   ]
  },
  {
   "cell_type": "code",
   "execution_count": 4,
   "id": "044d4045",
   "metadata": {
    "id": "044d4045"
   },
   "outputs": [],
   "source": [
    "from autoscraper import AutoScraper"
   ]
  },
  {
   "cell_type": "code",
   "execution_count": 27,
   "id": "99e152fe",
   "metadata": {
    "id": "99e152fe"
   },
   "outputs": [],
   "source": [
    "scraper=AutoScraper()"
   ]
  },
  {
   "cell_type": "code",
   "execution_count": null,
   "id": "f01253ba",
   "metadata": {
    "id": "f01253ba"
   },
   "outputs": [],
   "source": [
    "url=\"https://en.wikipedia.org/wiki/List_of_American_films_of_2018\""
   ]
  },
  {
   "cell_type": "code",
   "execution_count": null,
   "id": "4a66d3c8",
   "metadata": {
    "id": "4a66d3c8"
   },
   "outputs": [],
   "source": [
    "wanted_list=[\"Insidious: The Last Key\",\"Adam Robitel (director); Leigh Whannell (screenplay); Lin Shaye, Angus Sampson, Leigh Whannell, Spencer Locke, Caitlin Gerard, Kirk Acevedo, Bruce Davison\"]"
   ]
  },
  {
   "cell_type": "code",
   "execution_count": null,
   "id": "d8661c7e",
   "metadata": {
    "id": "d8661c7e"
   },
   "outputs": [],
   "source": [
    "result=scraper.build(url,wanted_list)"
   ]
  },
  {
   "cell_type": "code",
   "execution_count": null,
   "id": "a710aebc",
   "metadata": {
    "id": "a710aebc"
   },
   "outputs": [],
   "source": [
    "result1=scraper.get_result_similar(url,grouped=True)"
   ]
  },
  {
   "cell_type": "code",
   "execution_count": null,
   "id": "328f1645",
   "metadata": {
    "id": "328f1645"
   },
   "outputs": [],
   "source": [
    "result1"
   ]
  },
  {
   "cell_type": "code",
   "execution_count": null,
   "id": "e68faf69",
   "metadata": {
    "id": "e68faf69"
   },
   "outputs": [],
   "source": [
    "scraper.set_rule_aliases({\"rule_n6v2\":\"title\",\"rule_qwrt\":\"cast_and_crew\"})\n",
    "scraper.keep_rules([\"rule_n6v2\",\"rule_qwrt\"])"
   ]
  },
  {
   "cell_type": "code",
   "execution_count": null,
   "id": "8cc5dbaa",
   "metadata": {
    "id": "8cc5dbaa"
   },
   "outputs": [],
   "source": [
    "result2=scraper.get_result_similar(url,group_by_alias=True)"
   ]
  },
  {
   "cell_type": "code",
   "execution_count": null,
   "id": "ae79cc3c",
   "metadata": {
    "id": "ae79cc3c"
   },
   "outputs": [],
   "source": [
    "pd.DataFrame(result2).to_csv(\"movie18.csv\")"
   ]
  },
  {
   "cell_type": "markdown",
   "id": "d2c39e24",
   "metadata": {
    "id": "d2c39e24"
   },
   "source": [
    "# 2019 movies"
   ]
  },
  {
   "cell_type": "code",
   "execution_count": null,
   "id": "fa641fa8",
   "metadata": {
    "id": "fa641fa8"
   },
   "outputs": [],
   "source": [
    "url1=\"https://en.wikipedia.org/wiki/List_of_American_films_of_2019\""
   ]
  },
  {
   "cell_type": "code",
   "execution_count": null,
   "id": "56a57b4f",
   "metadata": {
    "id": "56a57b4f"
   },
   "outputs": [],
   "source": [
    "result19=scraper.get_result_similar(url1,group_by_alias=True)"
   ]
  },
  {
   "cell_type": "code",
   "execution_count": null,
   "id": "42ea9896",
   "metadata": {
    "id": "42ea9896"
   },
   "outputs": [],
   "source": [
    "pd.DataFrame(result19).to_csv(\"movie19.csv\")"
   ]
  },
  {
   "cell_type": "markdown",
   "id": "79c8cd42",
   "metadata": {
    "id": "79c8cd42"
   },
   "source": [
    "# 2020 movies"
   ]
  },
  {
   "cell_type": "code",
   "execution_count": null,
   "id": "6fdfdcb0",
   "metadata": {
    "id": "6fdfdcb0"
   },
   "outputs": [],
   "source": [
    "url2=\"https://en.wikipedia.org/wiki/List_of_American_films_of_2020\""
   ]
  },
  {
   "cell_type": "code",
   "execution_count": null,
   "id": "8c321637",
   "metadata": {
    "id": "8c321637"
   },
   "outputs": [],
   "source": [
    "result20=scraper.get_result_similar(url2,group_by_alias=True)"
   ]
  },
  {
   "cell_type": "code",
   "execution_count": null,
   "id": "68779ac1",
   "metadata": {
    "id": "68779ac1"
   },
   "outputs": [],
   "source": [
    "pd.DataFrame(result20).to_csv(\"movie20.csv\")"
   ]
  },
  {
   "cell_type": "markdown",
   "id": "ab30b9af",
   "metadata": {
    "id": "ab30b9af"
   },
   "source": [
    "# 2021 movies"
   ]
  },
  {
   "cell_type": "code",
   "execution_count": null,
   "id": "86b2402f",
   "metadata": {
    "id": "86b2402f"
   },
   "outputs": [],
   "source": [
    "url3=\"https://en.wikipedia.org/wiki/List_of_American_films_of_2021\""
   ]
  },
  {
   "cell_type": "code",
   "execution_count": null,
   "id": "f562ed33",
   "metadata": {
    "id": "f562ed33"
   },
   "outputs": [],
   "source": [
    "result21=scraper.get_result_similar(url3,group_by_alias=True)"
   ]
  },
  {
   "cell_type": "code",
   "execution_count": null,
   "id": "63e11dff",
   "metadata": {
    "id": "63e11dff"
   },
   "outputs": [],
   "source": [
    "pd.DataFrame(result21).to_csv(\"movie21.csv\")"
   ]
  },
  {
   "cell_type": "markdown",
   "id": "a3673947",
   "metadata": {
    "id": "a3673947"
   },
   "source": [
    "# genre list for 2018\n"
   ]
  },
  {
   "cell_type": "code",
   "execution_count": 28,
   "id": "30bb8c0b",
   "metadata": {
    "id": "30bb8c0b"
   },
   "outputs": [],
   "source": [
    "gen=\"https://www.imdb.com/search/title/?year=2018&title_type=feature&\""
   ]
  },
  {
   "cell_type": "code",
   "execution_count": 41,
   "id": "86853c4a",
   "metadata": {
    "id": "86853c4a"
   },
   "outputs": [],
   "source": [
    "wanted_list=[\"Crazy Rich Asians\",\"Comedy, Drama, Romance\"]"
   ]
  },
  {
   "cell_type": "code",
   "execution_count": 42,
   "id": "ba0813b0",
   "metadata": {
    "id": "ba0813b0"
   },
   "outputs": [],
   "source": [
    "scraper1=AutoScraper()"
   ]
  },
  {
   "cell_type": "code",
   "execution_count": 43,
   "id": "1d954c47",
   "metadata": {
    "id": "1d954c47"
   },
   "outputs": [],
   "source": [
    "res=scraper1.build(gen,wanted_list)"
   ]
  },
  {
   "cell_type": "code",
   "execution_count": null,
   "id": "n4BDsTdVNHVS",
   "metadata": {
    "id": "n4BDsTdVNHVS"
   },
   "outputs": [],
   "source": [
    "res"
   ]
  },
  {
   "cell_type": "code",
   "execution_count": 45,
   "id": "QLQO33Atvwau",
   "metadata": {
    "id": "QLQO33Atvwau"
   },
   "outputs": [],
   "source": [
    "res1=scraper1.get_result_similar(gen,grouped=True)"
   ]
  },
  {
   "cell_type": "code",
   "execution_count": 46,
   "id": "LSwNOWXrv0dH",
   "metadata": {
    "colab": {
     "base_uri": "https://localhost:8080/"
    },
    "id": "LSwNOWXrv0dH",
    "outputId": "62036016-44c4-4306-e7eb-9c11fa14c906"
   },
   "outputs": [
    {
     "data": {
      "text/plain": [
       "{'rule_jksv': ['Venom',\n",
       "  'Crazy Rich Asians',\n",
       "  'Deadpool 2',\n",
       "  'Avengers: Infinity War',\n",
       "  'Spider-Man: Into the Spider-Verse',\n",
       "  'Ready Player One',\n",
       "  'Black Panther',\n",
       "  'Bohemian Rhapsody',\n",
       "  'Vice',\n",
       "  'Hereditary',\n",
       "  'The Nightingale',\n",
       "  'Aquaman',\n",
       "  'Beautiful Boy',\n",
       "  'A Quiet Place',\n",
       "  \"Ocean's Eight\",\n",
       "  'Green Book',\n",
       "  'The Grinch',\n",
       "  'Suspiria',\n",
       "  'A Star Is Born',\n",
       "  'The Predator',\n",
       "  'Mission: Impossible - Fallout',\n",
       "  'Jurassic World: Fallen Kingdom',\n",
       "  'Fantastic Beasts: The Crimes of Grindelwald',\n",
       "  'Red Sparrow',\n",
       "  'The Princess Switch',\n",
       "  'Ant-Man and the Wasp',\n",
       "  'Solo: A Star Wars Story',\n",
       "  'The Ballad of Buster Scruggs',\n",
       "  'The Favourite',\n",
       "  'Hunter Killer',\n",
       "  'Annihilation',\n",
       "  'The Christmas Chronicles',\n",
       "  'Fifty Shades Freed',\n",
       "  'Halloween',\n",
       "  'Mamma Mia! Here We Go Again',\n",
       "  'Isle of Dogs',\n",
       "  'White Boy Rick',\n",
       "  'The House That Jack Built',\n",
       "  'The Mule',\n",
       "  'Outlaw King',\n",
       "  'Capernaum',\n",
       "  'Incident in a Ghostland',\n",
       "  'A Simple Favor',\n",
       "  'Bird Box',\n",
       "  'Ophelia',\n",
       "  'Game Night',\n",
       "  'Skyscraper',\n",
       "  'BlacKkKlansman',\n",
       "  'A Vigilante',\n",
       "  'The Equalizer 2'],\n",
       " 'rule_o17b': ['Venom',\n",
       "  'Crazy Rich Asians',\n",
       "  'Deadpool 2',\n",
       "  'Avengers: Infinity War',\n",
       "  'Spider-Man: Into the Spider-Verse',\n",
       "  'Ready Player One',\n",
       "  'Black Panther',\n",
       "  'Bohemian Rhapsody',\n",
       "  'Vice',\n",
       "  'Hereditary',\n",
       "  'The Nightingale',\n",
       "  'Aquaman',\n",
       "  'Beautiful Boy',\n",
       "  'A Quiet Place',\n",
       "  \"Ocean's Eight\",\n",
       "  'Green Book',\n",
       "  'The Grinch',\n",
       "  'Suspiria',\n",
       "  'A Star Is Born',\n",
       "  'The Predator',\n",
       "  'Mission: Impossible - Fallout',\n",
       "  'Jurassic World: Fallen Kingdom',\n",
       "  'Fantastic Beasts: The Crimes of Grindelwald',\n",
       "  'Red Sparrow',\n",
       "  'The Princess Switch',\n",
       "  'Ant-Man and the Wasp',\n",
       "  'Solo: A Star Wars Story',\n",
       "  'The Ballad of Buster Scruggs',\n",
       "  'The Favourite',\n",
       "  'Hunter Killer',\n",
       "  'Annihilation',\n",
       "  'The Christmas Chronicles',\n",
       "  'Fifty Shades Freed',\n",
       "  'Halloween',\n",
       "  'Mamma Mia! Here We Go Again',\n",
       "  'Isle of Dogs',\n",
       "  'White Boy Rick',\n",
       "  'The House That Jack Built',\n",
       "  'The Mule',\n",
       "  'Outlaw King',\n",
       "  'Capernaum',\n",
       "  'Incident in a Ghostland',\n",
       "  'A Simple Favor',\n",
       "  'Bird Box',\n",
       "  'Ophelia',\n",
       "  'Game Night',\n",
       "  'Skyscraper',\n",
       "  'BlacKkKlansman',\n",
       "  'A Vigilante',\n",
       "  'The Equalizer 2'],\n",
       " 'rule_xppe': ['Action, Adventure, Sci-Fi',\n",
       "  'Comedy, Drama, Romance',\n",
       "  'Action, Adventure, Comedy',\n",
       "  'Action, Adventure, Sci-Fi',\n",
       "  'Animation, Action, Adventure',\n",
       "  'Action, Adventure, Sci-Fi',\n",
       "  'Action, Adventure, Sci-Fi',\n",
       "  'Biography, Drama, Music',\n",
       "  'Biography, Comedy, Drama',\n",
       "  'Drama, Horror, Mystery',\n",
       "  'Adventure, Drama, Thriller',\n",
       "  'Action, Adventure, Fantasy',\n",
       "  'Biography, Drama',\n",
       "  'Drama, Horror, Sci-Fi',\n",
       "  'Action, Comedy, Crime',\n",
       "  'Biography, Comedy, Drama',\n",
       "  'Animation, Adventure, Comedy',\n",
       "  'Drama, Fantasy, Horror',\n",
       "  'Drama, Music, Romance',\n",
       "  'Action, Adventure, Sci-Fi',\n",
       "  'Action, Adventure, Thriller',\n",
       "  'Action, Adventure, Sci-Fi',\n",
       "  'Adventure, Family, Fantasy',\n",
       "  'Action, Drama, Thriller',\n",
       "  'Comedy, Drama, Family',\n",
       "  'Action, Adventure, Comedy',\n",
       "  'Action, Adventure, Sci-Fi',\n",
       "  'Comedy, Drama, Musical',\n",
       "  'Biography, Comedy, Drama',\n",
       "  'Action, Thriller',\n",
       "  'Adventure, Drama, Horror',\n",
       "  'Adventure, Comedy, Family',\n",
       "  'Drama, Romance, Thriller',\n",
       "  'Crime, Horror, Thriller',\n",
       "  'Comedy, Musical, Romance',\n",
       "  'Animation, Adventure, Comedy',\n",
       "  'Crime, Drama',\n",
       "  'Crime, Drama, Horror',\n",
       "  'Crime, Drama, Thriller',\n",
       "  'Action, Biography, Drama',\n",
       "  'Drama',\n",
       "  'Drama, Horror, Mystery',\n",
       "  'Comedy, Crime, Mystery',\n",
       "  'Horror, Sci-Fi',\n",
       "  'Drama, Romance, Thriller',\n",
       "  'Action, Comedy, Crime',\n",
       "  'Action, Adventure, Thriller',\n",
       "  'Biography, Comedy, Crime',\n",
       "  'Crime, Drama, Mystery',\n",
       "  'Action, Crime, Thriller']}"
      ]
     },
     "execution_count": 46,
     "metadata": {},
     "output_type": "execute_result"
    }
   ],
   "source": [
    "res1"
   ]
  },
  {
   "cell_type": "code",
   "execution_count": null,
   "id": "iMrtTw4ZLDKw",
   "metadata": {
    "id": "iMrtTw4ZLDKw"
   },
   "outputs": [],
   "source": [
    "res1"
   ]
  },
  {
   "cell_type": "code",
   "execution_count": 13,
   "id": "78a0b6a7",
   "metadata": {
    "id": "78a0b6a7"
   },
   "outputs": [],
   "source": [
    "scraper1.set_rule_aliases({\"rule_bv2w\":\"title\",\"\":\"genre\"})\n",
    "scraper1.keep_rules([\"rule_b1r0\",\"rule_v857\"])"
   ]
  },
  {
   "cell_type": "code",
   "execution_count": 14,
   "id": "4mWzNiohwy9s",
   "metadata": {
    "id": "4mWzNiohwy9s"
   },
   "outputs": [],
   "source": [
    "res1=scraper1.get_result_similar(gen,group_by_alias=True)"
   ]
  },
  {
   "cell_type": "code",
   "execution_count": null,
   "id": "ree-Pot8xi2A",
   "metadata": {
    "id": "ree-Pot8xi2A"
   },
   "outputs": [],
   "source": [
    "res1"
   ]
  },
  {
   "cell_type": "code",
   "execution_count": null,
   "id": "d7e9755c",
   "metadata": {
    "colab": {
     "base_uri": "https://localhost:8080/"
    },
    "id": "d7e9755c",
    "outputId": "5d13bc5b-85d1-4f16-ba99-aae2fe47bb8d"
   },
   "outputs": [
    {
     "data": {
      "text/plain": [
       "2"
      ]
     },
     "execution_count": 27,
     "metadata": {},
     "output_type": "execute_result"
    }
   ],
   "source": [
    "len(res1)"
   ]
  },
  {
   "cell_type": "code",
   "execution_count": null,
   "id": "4cf960b2",
   "metadata": {
    "id": "4cf960b2"
   },
   "outputs": [],
   "source": [
    "inlist=np.arange(51,12550,50)"
   ]
  },
  {
   "cell_type": "code",
   "execution_count": null,
   "id": "1be3dffe",
   "metadata": {
    "id": "1be3dffe"
   },
   "outputs": [],
   "source": [
    "res2=[]\n",
    "for v in inlist:\n",
    "    gen1=\"https://www.imdb.com/search/title/?title_type=feature&year=2018-01-01,2018-12-31&start={}&ref_=adv_nxt\".format(v)\n",
    "    resd=scraper1.get_result_similar(gen1,group_by_alias=True)\n",
    "    res2.append(resd)"
   ]
  },
  {
   "cell_type": "code",
   "execution_count": null,
   "id": "b84ce712",
   "metadata": {
    "id": "b84ce712"
   },
   "outputs": [],
   "source": [
    "pd.DataFrame(res2).to_csv(\"genre.csv\")"
   ]
  },
  {
   "cell_type": "code",
   "execution_count": null,
   "id": "bdcbebd3",
   "metadata": {
    "id": "bdcbebd3"
   },
   "outputs": [],
   "source": [
    "ress=pd.DataFrame(res2)"
   ]
  },
  {
   "cell_type": "code",
   "execution_count": null,
   "id": "58cb062d",
   "metadata": {
    "id": "58cb062d",
    "outputId": "13cd1f81-5093-47c8-9c75-7b153ed9ea4d"
   },
   "outputs": [
    {
     "data": {
      "text/html": [
       "<div>\n",
       "<style scoped>\n",
       "    .dataframe tbody tr th:only-of-type {\n",
       "        vertical-align: middle;\n",
       "    }\n",
       "\n",
       "    .dataframe tbody tr th {\n",
       "        vertical-align: top;\n",
       "    }\n",
       "\n",
       "    .dataframe thead th {\n",
       "        text-align: right;\n",
       "    }\n",
       "</style>\n",
       "<table border=\"1\" class=\"dataframe\">\n",
       "  <thead>\n",
       "    <tr style=\"text-align: right;\">\n",
       "      <th></th>\n",
       "      <th>title</th>\n",
       "      <th>genre</th>\n",
       "    </tr>\n",
       "  </thead>\n",
       "  <tbody>\n",
       "    <tr>\n",
       "      <th>0</th>\n",
       "      <td>[Tomb Raider, Bumblebee, Den skyldige, Incredi...</td>\n",
       "      <td>[Action, Adventure, Fantasy, Action, Adventure...</td>\n",
       "    </tr>\n",
       "    <tr>\n",
       "      <th>1</th>\n",
       "      <td>[12 Strong, MILF, To All the Boys I've Loved B...</td>\n",
       "      <td>[Action, Drama, History, Comedy, Comedy, Drama...</td>\n",
       "    </tr>\n",
       "    <tr>\n",
       "      <th>2</th>\n",
       "      <td>[Thunder Road, Hotel Mumbai, Durante la tormen...</td>\n",
       "      <td>[Comedy, Drama, Action, Drama, History, Drama,...</td>\n",
       "    </tr>\n",
       "    <tr>\n",
       "      <th>3</th>\n",
       "      <td>[Between Earth and Sky, Kimi no suizô o tabet...</td>\n",
       "      <td>[Crime, Drama, Mystery, Animation, Drama, Fami...</td>\n",
       "    </tr>\n",
       "    <tr>\n",
       "      <th>4</th>\n",
       "      <td>[Vita &amp; Virginia, Accident Man, Skin, The Week...</td>\n",
       "      <td>[Biography, Drama, Romance, Action, Crime, Thr...</td>\n",
       "    </tr>\n",
       "  </tbody>\n",
       "</table>\n",
       "</div>"
      ],
      "text/plain": [
       "                                               title  \\\n",
       "0  [Tomb Raider, Bumblebee, Den skyldige, Incredi...   \n",
       "1  [12 Strong, MILF, To All the Boys I've Loved B...   \n",
       "2  [Thunder Road, Hotel Mumbai, Durante la tormen...   \n",
       "3  [Between Earth and Sky, Kimi no suizô o tabet...   \n",
       "4  [Vita & Virginia, Accident Man, Skin, The Week...   \n",
       "\n",
       "                                               genre  \n",
       "0  [Action, Adventure, Fantasy, Action, Adventure...  \n",
       "1  [Action, Drama, History, Comedy, Comedy, Drama...  \n",
       "2  [Comedy, Drama, Action, Drama, History, Drama,...  \n",
       "3  [Crime, Drama, Mystery, Animation, Drama, Fami...  \n",
       "4  [Biography, Drama, Romance, Action, Crime, Thr...  "
      ]
     },
     "execution_count": 70,
     "metadata": {},
     "output_type": "execute_result"
    }
   ],
   "source": [
    "ress.head()"
   ]
  },
  {
   "cell_type": "code",
   "execution_count": null,
   "id": "PK8yweOWrk4X",
   "metadata": {
    "id": "PK8yweOWrk4X"
   },
   "outputs": [],
   "source": [
    "movie18=pd.read_csv(\"/content/movie18.csv\")"
   ]
  },
  {
   "cell_type": "code",
   "execution_count": null,
   "id": "zAV4oItHrusg",
   "metadata": {
    "id": "zAV4oItHrusg"
   },
   "outputs": [],
   "source": [
    "movie19=pd.read_csv(\"/content/movie19.csv\")"
   ]
  },
  {
   "cell_type": "code",
   "execution_count": null,
   "id": "QpYu5GSDr5hX",
   "metadata": {
    "id": "QpYu5GSDr5hX"
   },
   "outputs": [],
   "source": [
    "movie20=pd.read_csv(\"/content/movie20.csv\")"
   ]
  },
  {
   "cell_type": "code",
   "execution_count": null,
   "id": "XFt3v0WJsROa",
   "metadata": {
    "id": "XFt3v0WJsROa"
   },
   "outputs": [],
   "source": [
    "movie21=pd.read_csv(\"/content/movie21.csv\")"
   ]
  },
  {
   "cell_type": "code",
   "execution_count": 16,
   "id": "D7strAR3saTU",
   "metadata": {
    "id": "D7strAR3saTU"
   },
   "outputs": [],
   "source": [
    "genre18=pd.read_csv(\"/content/genre.csv\")"
   ]
  },
  {
   "cell_type": "code",
   "execution_count": null,
   "id": "ztZRW9zSsyu-",
   "metadata": {
    "colab": {
     "base_uri": "https://localhost:8080/",
     "height": 206
    },
    "id": "ztZRW9zSsyu-",
    "outputId": "393571cc-eb33-4068-fd69-e5fb82a26366"
   },
   "outputs": [
    {
     "data": {
      "text/html": [
       "<div>\n",
       "<style scoped>\n",
       "    .dataframe tbody tr th:only-of-type {\n",
       "        vertical-align: middle;\n",
       "    }\n",
       "\n",
       "    .dataframe tbody tr th {\n",
       "        vertical-align: top;\n",
       "    }\n",
       "\n",
       "    .dataframe thead th {\n",
       "        text-align: right;\n",
       "    }\n",
       "</style>\n",
       "<table border=\"1\" class=\"dataframe\">\n",
       "  <thead>\n",
       "    <tr style=\"text-align: right;\">\n",
       "      <th></th>\n",
       "      <th>Unnamed: 0</th>\n",
       "      <th>title</th>\n",
       "      <th>cast_and_crew</th>\n",
       "    </tr>\n",
       "  </thead>\n",
       "  <tbody>\n",
       "    <tr>\n",
       "      <th>0</th>\n",
       "      <td>0</td>\n",
       "      <td>Insidious: The Last Key</td>\n",
       "      <td>Adam Robitel (director); Leigh Whannell (scree...</td>\n",
       "    </tr>\n",
       "    <tr>\n",
       "      <th>1</th>\n",
       "      <td>1</td>\n",
       "      <td>The Strange Ones</td>\n",
       "      <td>Lauren Wolkstein (director); Christopher Radcl...</td>\n",
       "    </tr>\n",
       "    <tr>\n",
       "      <th>2</th>\n",
       "      <td>2</td>\n",
       "      <td>Stratton</td>\n",
       "      <td>Simon West (director); Duncan Falconer, Warren...</td>\n",
       "    </tr>\n",
       "    <tr>\n",
       "      <th>3</th>\n",
       "      <td>3</td>\n",
       "      <td>Sweet Country</td>\n",
       "      <td>Warwick Thornton (director); David Tranter, St...</td>\n",
       "    </tr>\n",
       "    <tr>\n",
       "      <th>4</th>\n",
       "      <td>4</td>\n",
       "      <td>The Commuter</td>\n",
       "      <td>Jaume Collet-Serra (director); Byron Willinger...</td>\n",
       "    </tr>\n",
       "  </tbody>\n",
       "</table>\n",
       "</div>"
      ],
      "text/plain": [
       "   Unnamed: 0  ...                                      cast_and_crew\n",
       "0           0  ...  Adam Robitel (director); Leigh Whannell (scree...\n",
       "1           1  ...  Lauren Wolkstein (director); Christopher Radcl...\n",
       "2           2  ...  Simon West (director); Duncan Falconer, Warren...\n",
       "3           3  ...  Warwick Thornton (director); David Tranter, St...\n",
       "4           4  ...  Jaume Collet-Serra (director); Byron Willinger...\n",
       "\n",
       "[5 rows x 3 columns]"
      ]
     },
     "execution_count": 12,
     "metadata": {},
     "output_type": "execute_result"
    }
   ],
   "source": [
    "movie18.head()"
   ]
  },
  {
   "cell_type": "code",
   "execution_count": null,
   "id": "_O4bNkI6u1xZ",
   "metadata": {
    "colab": {
     "base_uri": "https://localhost:8080/",
     "height": 206
    },
    "id": "_O4bNkI6u1xZ",
    "outputId": "f139b522-d892-4a09-a884-a20cb63de0ba"
   },
   "outputs": [
    {
     "data": {
      "text/html": [
       "<div>\n",
       "<style scoped>\n",
       "    .dataframe tbody tr th:only-of-type {\n",
       "        vertical-align: middle;\n",
       "    }\n",
       "\n",
       "    .dataframe tbody tr th {\n",
       "        vertical-align: top;\n",
       "    }\n",
       "\n",
       "    .dataframe thead th {\n",
       "        text-align: right;\n",
       "    }\n",
       "</style>\n",
       "<table border=\"1\" class=\"dataframe\">\n",
       "  <thead>\n",
       "    <tr style=\"text-align: right;\">\n",
       "      <th></th>\n",
       "      <th>Unnamed: 0</th>\n",
       "      <th>title</th>\n",
       "      <th>cast_and_crew</th>\n",
       "    </tr>\n",
       "  </thead>\n",
       "  <tbody>\n",
       "    <tr>\n",
       "      <th>0</th>\n",
       "      <td>0</td>\n",
       "      <td>Escape Room</td>\n",
       "      <td>Adam Robitel (director); Bragi F. Schut, Maria...</td>\n",
       "    </tr>\n",
       "    <tr>\n",
       "      <th>1</th>\n",
       "      <td>1</td>\n",
       "      <td>Rust Creek</td>\n",
       "      <td>Jen McGowan (director); Julie Lipson (screenpl...</td>\n",
       "    </tr>\n",
       "    <tr>\n",
       "      <th>2</th>\n",
       "      <td>2</td>\n",
       "      <td>American Hangman</td>\n",
       "      <td>Wilson Coneybeare (director/screenplay); Donal...</td>\n",
       "    </tr>\n",
       "    <tr>\n",
       "      <th>3</th>\n",
       "      <td>3</td>\n",
       "      <td>A Dog's Way Home</td>\n",
       "      <td>Charles Martin Smith (director); W. Bruce Came...</td>\n",
       "    </tr>\n",
       "    <tr>\n",
       "      <th>4</th>\n",
       "      <td>4</td>\n",
       "      <td>The Upside</td>\n",
       "      <td>Neil Burger (director); Jon Hartmere (screenpl...</td>\n",
       "    </tr>\n",
       "  </tbody>\n",
       "</table>\n",
       "</div>"
      ],
      "text/plain": [
       "   Unnamed: 0  ...                                      cast_and_crew\n",
       "0           0  ...  Adam Robitel (director); Bragi F. Schut, Maria...\n",
       "1           1  ...  Jen McGowan (director); Julie Lipson (screenpl...\n",
       "2           2  ...  Wilson Coneybeare (director/screenplay); Donal...\n",
       "3           3  ...  Charles Martin Smith (director); W. Bruce Came...\n",
       "4           4  ...  Neil Burger (director); Jon Hartmere (screenpl...\n",
       "\n",
       "[5 rows x 3 columns]"
      ]
     },
     "execution_count": 13,
     "metadata": {},
     "output_type": "execute_result"
    }
   ],
   "source": [
    "movie19.head()"
   ]
  },
  {
   "cell_type": "code",
   "execution_count": null,
   "id": "pmxR-xBDu9wZ",
   "metadata": {
    "colab": {
     "base_uri": "https://localhost:8080/",
     "height": 206
    },
    "id": "pmxR-xBDu9wZ",
    "outputId": "32aa6f2a-641d-47d4-f617-4dd6ea51db76"
   },
   "outputs": [
    {
     "data": {
      "text/html": [
       "<div>\n",
       "<style scoped>\n",
       "    .dataframe tbody tr th:only-of-type {\n",
       "        vertical-align: middle;\n",
       "    }\n",
       "\n",
       "    .dataframe tbody tr th {\n",
       "        vertical-align: top;\n",
       "    }\n",
       "\n",
       "    .dataframe thead th {\n",
       "        text-align: right;\n",
       "    }\n",
       "</style>\n",
       "<table border=\"1\" class=\"dataframe\">\n",
       "  <thead>\n",
       "    <tr style=\"text-align: right;\">\n",
       "      <th></th>\n",
       "      <th>Unnamed: 0</th>\n",
       "      <th>title</th>\n",
       "      <th>cast_and_crew</th>\n",
       "    </tr>\n",
       "  </thead>\n",
       "  <tbody>\n",
       "    <tr>\n",
       "      <th>0</th>\n",
       "      <td>0</td>\n",
       "      <td>Shadow in the Cloud</td>\n",
       "      <td>Roseanne Liang (director/screenplay); Max Land...</td>\n",
       "    </tr>\n",
       "    <tr>\n",
       "      <th>1</th>\n",
       "      <td>1</td>\n",
       "      <td>The White Tiger</td>\n",
       "      <td>Ramin Bahrani (director/screenplay); Adarsh Go...</td>\n",
       "    </tr>\n",
       "    <tr>\n",
       "      <th>2</th>\n",
       "      <td>2</td>\n",
       "      <td>Locked Down</td>\n",
       "      <td>Doug Liman (director); Steven Knight (screenpl...</td>\n",
       "    </tr>\n",
       "    <tr>\n",
       "      <th>3</th>\n",
       "      <td>3</td>\n",
       "      <td>The Dig</td>\n",
       "      <td>Simon Stone (director); Moira Buffini (screenp...</td>\n",
       "    </tr>\n",
       "    <tr>\n",
       "      <th>4</th>\n",
       "      <td>4</td>\n",
       "      <td>Outside the Wire</td>\n",
       "      <td>Mikael Håfström (director); Rob Yescombe, Ro...</td>\n",
       "    </tr>\n",
       "  </tbody>\n",
       "</table>\n",
       "</div>"
      ],
      "text/plain": [
       "   Unnamed: 0  ...                                      cast_and_crew\n",
       "0           0  ...  Roseanne Liang (director/screenplay); Max Land...\n",
       "1           1  ...  Ramin Bahrani (director/screenplay); Adarsh Go...\n",
       "2           2  ...  Doug Liman (director); Steven Knight (screenpl...\n",
       "3           3  ...  Simon Stone (director); Moira Buffini (screenp...\n",
       "4           4  ...  Mikael Håfström (director); Rob Yescombe, Ro...\n",
       "\n",
       "[5 rows x 3 columns]"
      ]
     },
     "execution_count": 14,
     "metadata": {},
     "output_type": "execute_result"
    }
   ],
   "source": [
    "movie20.head()"
   ]
  },
  {
   "cell_type": "code",
   "execution_count": null,
   "id": "4Hyr0hvzu-RY",
   "metadata": {
    "colab": {
     "base_uri": "https://localhost:8080/",
     "height": 206
    },
    "id": "4Hyr0hvzu-RY",
    "outputId": "2845b153-8ff5-4a66-e286-6f203031c7d9"
   },
   "outputs": [
    {
     "data": {
      "text/html": [
       "<div>\n",
       "<style scoped>\n",
       "    .dataframe tbody tr th:only-of-type {\n",
       "        vertical-align: middle;\n",
       "    }\n",
       "\n",
       "    .dataframe tbody tr th {\n",
       "        vertical-align: top;\n",
       "    }\n",
       "\n",
       "    .dataframe thead th {\n",
       "        text-align: right;\n",
       "    }\n",
       "</style>\n",
       "<table border=\"1\" class=\"dataframe\">\n",
       "  <thead>\n",
       "    <tr style=\"text-align: right;\">\n",
       "      <th></th>\n",
       "      <th>Unnamed: 0</th>\n",
       "      <th>title</th>\n",
       "      <th>cast_and_crew</th>\n",
       "    </tr>\n",
       "  </thead>\n",
       "  <tbody>\n",
       "    <tr>\n",
       "      <th>0</th>\n",
       "      <td>0</td>\n",
       "      <td>Shadow in the Cloud</td>\n",
       "      <td>Roseanne Liang (director/screenplay); Max Land...</td>\n",
       "    </tr>\n",
       "    <tr>\n",
       "      <th>1</th>\n",
       "      <td>1</td>\n",
       "      <td>The White Tiger</td>\n",
       "      <td>Ramin Bahrani (director/screenplay); Adarsh Go...</td>\n",
       "    </tr>\n",
       "    <tr>\n",
       "      <th>2</th>\n",
       "      <td>2</td>\n",
       "      <td>Locked Down</td>\n",
       "      <td>Doug Liman (director); Steven Knight (screenpl...</td>\n",
       "    </tr>\n",
       "    <tr>\n",
       "      <th>3</th>\n",
       "      <td>3</td>\n",
       "      <td>The Dig</td>\n",
       "      <td>Simon Stone (director); Moira Buffini (screenp...</td>\n",
       "    </tr>\n",
       "    <tr>\n",
       "      <th>4</th>\n",
       "      <td>4</td>\n",
       "      <td>Outside the Wire</td>\n",
       "      <td>Mikael Håfström (director); Rob Yescombe, Ro...</td>\n",
       "    </tr>\n",
       "  </tbody>\n",
       "</table>\n",
       "</div>"
      ],
      "text/plain": [
       "   Unnamed: 0  ...                                      cast_and_crew\n",
       "0           0  ...  Roseanne Liang (director/screenplay); Max Land...\n",
       "1           1  ...  Ramin Bahrani (director/screenplay); Adarsh Go...\n",
       "2           2  ...  Doug Liman (director); Steven Knight (screenpl...\n",
       "3           3  ...  Simon Stone (director); Moira Buffini (screenp...\n",
       "4           4  ...  Mikael Håfström (director); Rob Yescombe, Ro...\n",
       "\n",
       "[5 rows x 3 columns]"
      ]
     },
     "execution_count": 15,
     "metadata": {},
     "output_type": "execute_result"
    }
   ],
   "source": [
    "movie21.head()"
   ]
  },
  {
   "cell_type": "code",
   "execution_count": null,
   "id": "L54BLFqIu-T_",
   "metadata": {
    "colab": {
     "base_uri": "https://localhost:8080/",
     "height": 206
    },
    "id": "L54BLFqIu-T_",
    "outputId": "96379811-0776-4f23-aedb-c3bb77d3c9b8"
   },
   "outputs": [
    {
     "data": {
      "text/html": [
       "<div>\n",
       "<style scoped>\n",
       "    .dataframe tbody tr th:only-of-type {\n",
       "        vertical-align: middle;\n",
       "    }\n",
       "\n",
       "    .dataframe tbody tr th {\n",
       "        vertical-align: top;\n",
       "    }\n",
       "\n",
       "    .dataframe thead th {\n",
       "        text-align: right;\n",
       "    }\n",
       "</style>\n",
       "<table border=\"1\" class=\"dataframe\">\n",
       "  <thead>\n",
       "    <tr style=\"text-align: right;\">\n",
       "      <th></th>\n",
       "      <th>Unnamed: 0</th>\n",
       "      <th>title</th>\n",
       "      <th>genre</th>\n",
       "    </tr>\n",
       "  </thead>\n",
       "  <tbody>\n",
       "    <tr>\n",
       "      <th>0</th>\n",
       "      <td>0</td>\n",
       "      <td>['Tomb Raider', 'Bumblebee', 'Den skyldige', '...</td>\n",
       "      <td>['Action, Adventure, Fantasy', 'Action, Advent...</td>\n",
       "    </tr>\n",
       "    <tr>\n",
       "      <th>1</th>\n",
       "      <td>1</td>\n",
       "      <td>['12 Strong', 'MILF', \"To All the Boys I've Lo...</td>\n",
       "      <td>['Action, Drama, History', 'Comedy', 'Comedy, ...</td>\n",
       "    </tr>\n",
       "    <tr>\n",
       "      <th>2</th>\n",
       "      <td>2</td>\n",
       "      <td>['Thunder Road', 'Hotel Mumbai', 'Durante la t...</td>\n",
       "      <td>['Comedy, Drama', 'Action, Drama, History', 'D...</td>\n",
       "    </tr>\n",
       "    <tr>\n",
       "      <th>3</th>\n",
       "      <td>3</td>\n",
       "      <td>['Between Earth and Sky', 'Kimi no suizô o ta...</td>\n",
       "      <td>['Crime, Drama, Mystery', 'Animation, Drama, F...</td>\n",
       "    </tr>\n",
       "    <tr>\n",
       "      <th>4</th>\n",
       "      <td>4</td>\n",
       "      <td>['Vita &amp; Virginia', 'Accident Man', 'Skin', 'T...</td>\n",
       "      <td>['Biography, Drama, Romance', 'Action, Crime, ...</td>\n",
       "    </tr>\n",
       "  </tbody>\n",
       "</table>\n",
       "</div>"
      ],
      "text/plain": [
       "   Unnamed: 0  ...                                              genre\n",
       "0           0  ...  ['Action, Adventure, Fantasy', 'Action, Advent...\n",
       "1           1  ...  ['Action, Drama, History', 'Comedy', 'Comedy, ...\n",
       "2           2  ...  ['Comedy, Drama', 'Action, Drama, History', 'D...\n",
       "3           3  ...  ['Crime, Drama, Mystery', 'Animation, Drama, F...\n",
       "4           4  ...  ['Biography, Drama, Romance', 'Action, Crime, ...\n",
       "\n",
       "[5 rows x 3 columns]"
      ]
     },
     "execution_count": 16,
     "metadata": {},
     "output_type": "execute_result"
    }
   ],
   "source": [
    "genre18.head()"
   ]
  },
  {
   "cell_type": "code",
   "execution_count": 17,
   "id": "CQ38nTEvu-Wd",
   "metadata": {
    "id": "CQ38nTEvu-Wd"
   },
   "outputs": [],
   "source": [
    "genre18=pd.concat([pd.DataFrame(res1),genre18],axis=0)"
   ]
  },
  {
   "cell_type": "code",
   "execution_count": 18,
   "id": "URagy4EzFNgR",
   "metadata": {
    "id": "URagy4EzFNgR"
   },
   "outputs": [],
   "source": [
    "genre18.to_csv(\"newgenre18.csv\")"
   ]
  },
  {
   "cell_type": "code",
   "execution_count": null,
   "id": "E4akO4U8u-aK",
   "metadata": {
    "id": "E4akO4U8u-aK"
   },
   "outputs": [],
   "source": [
    "gen19=\"https://www.imdb.com/search/title/?year=2019&title_type=feature&\""
   ]
  },
  {
   "cell_type": "code",
   "execution_count": null,
   "id": "RvK-F0Ufu-cT",
   "metadata": {
    "id": "RvK-F0Ufu-cT"
   },
   "outputs": [],
   "source": [
    "res1=scraper1.get_result_similar(gen19,group_by_alias=True)"
   ]
  },
  {
   "cell_type": "code",
   "execution_count": null,
   "id": "7Po2EvU_u-e3",
   "metadata": {
    "id": "7Po2EvU_u-e3"
   },
   "outputs": [],
   "source": [
    "res1"
   ]
  },
  {
   "cell_type": "code",
   "execution_count": null,
   "id": "OANc0yPA0D4z",
   "metadata": {
    "id": "OANc0yPA0D4z"
   },
   "outputs": [],
   "source": [
    "inlist1=np.arange(51,12000,50)"
   ]
  },
  {
   "cell_type": "code",
   "execution_count": null,
   "id": "cz6oMLctu-hr",
   "metadata": {
    "id": "cz6oMLctu-hr"
   },
   "outputs": [],
   "source": [
    "res3=[]\n",
    "for t in inlist1:\n",
    "  gen1=\"https://www.imdb.com/search/title/?title_type=feature&year=2019-01-01,2019-12-31&start={}&ref_=adv_nxt\".format(t)\n",
    "  f=scraper1.get_result_similar(gen1,group_by_alias=True)\n",
    "  res3.append(f)"
   ]
  },
  {
   "cell_type": "code",
   "execution_count": null,
   "id": "_OhpfrMrDwJ1",
   "metadata": {
    "id": "_OhpfrMrDwJ1"
   },
   "outputs": [],
   "source": [
    "res3"
   ]
  },
  {
   "cell_type": "code",
   "execution_count": null,
   "id": "QYrrVrq40CHz",
   "metadata": {
    "id": "QYrrVrq40CHz"
   },
   "outputs": [],
   "source": [
    "genre19=pd.DataFrame(res3,columns=[\"title\",\"genre\"])"
   ]
  },
  {
   "cell_type": "code",
   "execution_count": null,
   "id": "3LG1uy1Z0DF0",
   "metadata": {
    "colab": {
     "base_uri": "https://localhost:8080/",
     "height": 206
    },
    "id": "3LG1uy1Z0DF0",
    "outputId": "d32e62cc-3ad9-4bde-91ef-9df66f63c779"
   },
   "outputs": [
    {
     "data": {
      "text/html": [
       "<div>\n",
       "<style scoped>\n",
       "    .dataframe tbody tr th:only-of-type {\n",
       "        vertical-align: middle;\n",
       "    }\n",
       "\n",
       "    .dataframe tbody tr th {\n",
       "        vertical-align: top;\n",
       "    }\n",
       "\n",
       "    .dataframe thead th {\n",
       "        text-align: right;\n",
       "    }\n",
       "</style>\n",
       "<table border=\"1\" class=\"dataframe\">\n",
       "  <thead>\n",
       "    <tr style=\"text-align: right;\">\n",
       "      <th></th>\n",
       "      <th>title</th>\n",
       "      <th>genre</th>\n",
       "    </tr>\n",
       "  </thead>\n",
       "  <tbody>\n",
       "    <tr>\n",
       "      <th>0</th>\n",
       "      <td>[Marriage Story, Official Secrets, The Lion Ki...</td>\n",
       "      <td>[Comedy, Drama, Romance, Biography, Crime, Dra...</td>\n",
       "    </tr>\n",
       "    <tr>\n",
       "      <th>1</th>\n",
       "      <td>[Saint Maud, Guns Akimbo, The Hustle, Judy, Go...</td>\n",
       "      <td>[Drama, Horror, Mystery, Action, Comedy, Crime...</td>\n",
       "    </tr>\n",
       "    <tr>\n",
       "      <th>2</th>\n",
       "      <td>[Waiting for the Barbarians, The Mortuary Coll...</td>\n",
       "      <td>[Drama, Fantasy, Horror, Animation, Drama, Fan...</td>\n",
       "    </tr>\n",
       "    <tr>\n",
       "      <th>3</th>\n",
       "      <td>[Aquaslash, Someone Great, Blinded by the Ligh...</td>\n",
       "      <td>[Comedy, Horror, Comedy, Romance, Comedy, Dram...</td>\n",
       "    </tr>\n",
       "    <tr>\n",
       "      <th>4</th>\n",
       "      <td>[The Wandering Earth, War, Poms, Jexi, Satanic...</td>\n",
       "      <td>[Action, Adventure, Sci-Fi, Action, Adventure,...</td>\n",
       "    </tr>\n",
       "  </tbody>\n",
       "</table>\n",
       "</div>"
      ],
      "text/plain": [
       "                                               title                                              genre\n",
       "0  [Marriage Story, Official Secrets, The Lion Ki...  [Comedy, Drama, Romance, Biography, Crime, Dra...\n",
       "1  [Saint Maud, Guns Akimbo, The Hustle, Judy, Go...  [Drama, Horror, Mystery, Action, Comedy, Crime...\n",
       "2  [Waiting for the Barbarians, The Mortuary Coll...  [Drama, Fantasy, Horror, Animation, Drama, Fan...\n",
       "3  [Aquaslash, Someone Great, Blinded by the Ligh...  [Comedy, Horror, Comedy, Romance, Comedy, Dram...\n",
       "4  [The Wandering Earth, War, Poms, Jexi, Satanic...  [Action, Adventure, Sci-Fi, Action, Adventure,..."
      ]
     },
     "execution_count": 39,
     "metadata": {},
     "output_type": "execute_result"
    }
   ],
   "source": [
    "genre19.head()"
   ]
  },
  {
   "cell_type": "code",
   "execution_count": null,
   "id": "pX9AI34YEinV",
   "metadata": {
    "id": "pX9AI34YEinV"
   },
   "outputs": [],
   "source": [
    "gen19=pd.DataFrame(res1,columns=[\"title\",\"genre\"])"
   ]
  },
  {
   "cell_type": "code",
   "execution_count": null,
   "id": "UGxwYTtUE3Pf",
   "metadata": {
    "id": "UGxwYTtUE3Pf"
   },
   "outputs": [],
   "source": [
    "genre19=pd.concat([gen19,genre19],axis=0)"
   ]
  },
  {
   "cell_type": "code",
   "execution_count": null,
   "id": "pBgjfjUbu-kc",
   "metadata": {
    "id": "pBgjfjUbu-kc"
   },
   "outputs": [],
   "source": [
    "genre19.to_csv(\"genre19.csv\")"
   ]
  },
  {
   "cell_type": "code",
   "execution_count": null,
   "id": "IaDXEyj8u-m-",
   "metadata": {
    "id": "IaDXEyj8u-m-"
   },
   "outputs": [],
   "source": [
    "gen20=\"https://www.imdb.com/search/title/?year=2020&title_type=feature&\""
   ]
  },
  {
   "cell_type": "code",
   "execution_count": null,
   "id": "piYTcZE9u-qK",
   "metadata": {
    "id": "piYTcZE9u-qK"
   },
   "outputs": [],
   "source": [
    "res20=scraper1.get_result_similar(gen20,group_by_alias=True)"
   ]
  },
  {
   "cell_type": "code",
   "execution_count": null,
   "id": "WNkcOwSTF5_s",
   "metadata": {
    "id": "WNkcOwSTF5_s"
   },
   "outputs": [],
   "source": [
    "res20"
   ]
  },
  {
   "cell_type": "code",
   "execution_count": null,
   "id": "zherMzgBGErj",
   "metadata": {
    "id": "zherMzgBGErj"
   },
   "outputs": [],
   "source": [
    "inlist2=np.arange(51,10000,50)"
   ]
  },
  {
   "cell_type": "code",
   "execution_count": null,
   "id": "vDADgdM_F_Us",
   "metadata": {
    "id": "vDADgdM_F_Us"
   },
   "outputs": [],
   "source": [
    "res200=[]\n",
    "for e in inlist2:\n",
    "  gen200=\"https://www.imdb.com/search/title/?title_type=feature&year=2020-01-01,2020-12-31&start={}&ref_=adv_nxt\".format(e)\n",
    "  c=scraper1.get_result_similar(gen200,group_by_alias=True)\n",
    "  res200.append(c)\n"
   ]
  },
  {
   "cell_type": "code",
   "execution_count": null,
   "id": "m1w6im4ZJOBX",
   "metadata": {
    "id": "m1w6im4ZJOBX"
   },
   "outputs": [],
   "source": [
    "res200"
   ]
  },
  {
   "cell_type": "code",
   "execution_count": null,
   "id": "Mm91Sk22HCXm",
   "metadata": {
    "id": "Mm91Sk22HCXm"
   },
   "outputs": [],
   "source": [
    "genre20=pd.concat([pd.DataFrame(res20),pd.DataFrame(res200)])"
   ]
  },
  {
   "cell_type": "code",
   "execution_count": null,
   "id": "ckWJSYIAIckH",
   "metadata": {
    "id": "ckWJSYIAIckH"
   },
   "outputs": [],
   "source": [
    "genre20.to_csv(\"genre20.csv\")"
   ]
  },
  {
   "cell_type": "code",
   "execution_count": null,
   "id": "iYGoz83DIk6o",
   "metadata": {
    "id": "iYGoz83DIk6o"
   },
   "outputs": [],
   "source": [
    "gen21=\"https://www.imdb.com/search/title/?year=2021&title_type=feature&\""
   ]
  },
  {
   "cell_type": "code",
   "execution_count": null,
   "id": "PoXhDcpeJDBA",
   "metadata": {
    "id": "PoXhDcpeJDBA"
   },
   "outputs": [],
   "source": [
    "res21=scraper1.get_result_similar(gen21,group_by_alias=True)"
   ]
  },
  {
   "cell_type": "code",
   "execution_count": null,
   "id": "SnYFzzXBJw9S",
   "metadata": {
    "id": "SnYFzzXBJw9S"
   },
   "outputs": [],
   "source": [
    "inlist4=np.arange(51,12000,50)"
   ]
  },
  {
   "cell_type": "code",
   "execution_count": null,
   "id": "GDCahoiSJnTX",
   "metadata": {
    "id": "GDCahoiSJnTX"
   },
   "outputs": [],
   "source": [
    "res211=[]\n",
    "for h in inlist4:\n",
    "  gen211=\"https://www.imdb.com/search/title/?title_type=feature&year=2021-01-01,2021-12-31&start={}&ref_=adv_nxt\".format(h)\n",
    "  res212=scraper1.get_result_similar(gen211,group_by_alias=True)\n",
    "  res211.append(res212)"
   ]
  },
  {
   "cell_type": "code",
   "execution_count": null,
   "id": "KdNCDMPxKyuV",
   "metadata": {
    "id": "KdNCDMPxKyuV"
   },
   "outputs": [],
   "source": [
    "genre21=pd.concat([pd.DataFrame(res21),pd.DataFrame(res211)],axis=0)"
   ]
  },
  {
   "cell_type": "code",
   "execution_count": null,
   "id": "e2ML23tILA9R",
   "metadata": {
    "id": "e2ML23tILA9R"
   },
   "outputs": [],
   "source": [
    "genre21.to_csv(\"genre21.csv\")"
   ]
  }
 ],
 "metadata": {
  "colab": {
   "collapsed_sections": [],
   "name": "datapreprocessing3 (1).ipynb",
   "provenance": []
  },
  "kernelspec": {
   "display_name": "Python 3 (ipykernel)",
   "language": "python",
   "name": "python3"
  },
  "language_info": {
   "codemirror_mode": {
    "name": "ipython",
    "version": 3
   },
   "file_extension": ".py",
   "mimetype": "text/x-python",
   "name": "python",
   "nbconvert_exporter": "python",
   "pygments_lexer": "ipython3",
   "version": "3.9.7"
  }
 },
 "nbformat": 4,
 "nbformat_minor": 5
}
