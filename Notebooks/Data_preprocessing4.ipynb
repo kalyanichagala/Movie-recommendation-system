{
 "cells": [
  {
   "cell_type": "code",
   "execution_count": 63,
   "id": "c1a981f4",
   "metadata": {},
   "outputs": [],
   "source": [
    "import numpy as np\n",
    "import pandas as pd"
   ]
  },
  {
   "cell_type": "code",
   "execution_count": 64,
   "id": "6fbfbfb5",
   "metadata": {},
   "outputs": [
    {
     "name": "stdout",
     "output_type": "stream",
     "text": [
      "C:\\Users\\srava\\Downloads\n"
     ]
    }
   ],
   "source": [
    "%cd \"C:\\Users\\srava\\Downloads\""
   ]
  },
  {
   "cell_type": "markdown",
   "id": "7c0805c5",
   "metadata": {},
   "source": [
    "# 2018 movies"
   ]
  },
  {
   "cell_type": "code",
   "execution_count": 112,
   "id": "9e4ff827",
   "metadata": {},
   "outputs": [],
   "source": [
    "genre18=pd.read_csv(\"genre18.csv\")"
   ]
  },
  {
   "cell_type": "code",
   "execution_count": 113,
   "id": "3abf6317",
   "metadata": {},
   "outputs": [],
   "source": [
    "movie18=pd.read_csv(\"movie18.csv\")"
   ]
  },
  {
   "cell_type": "code",
   "execution_count": 114,
   "id": "135b74cb",
   "metadata": {},
   "outputs": [
    {
     "data": {
      "text/plain": [
       "(272, 3)"
      ]
     },
     "execution_count": 114,
     "metadata": {},
     "output_type": "execute_result"
    }
   ],
   "source": [
    "movie18.shape"
   ]
  },
  {
   "cell_type": "code",
   "execution_count": 115,
   "id": "9639ac08",
   "metadata": {},
   "outputs": [],
   "source": [
    "pd.set_option(\"display.max_rows\",None,\"display.max_columns\",None)"
   ]
  },
  {
   "cell_type": "code",
   "execution_count": 116,
   "id": "f315affc",
   "metadata": {},
   "outputs": [],
   "source": [
    "gen1850=genre18.iloc[50:249]"
   ]
  },
  {
   "cell_type": "code",
   "execution_count": 117,
   "id": "165c5633",
   "metadata": {},
   "outputs": [
    {
     "data": {
      "text/html": [
       "<div>\n",
       "<style scoped>\n",
       "    .dataframe tbody tr th:only-of-type {\n",
       "        vertical-align: middle;\n",
       "    }\n",
       "\n",
       "    .dataframe tbody tr th {\n",
       "        vertical-align: top;\n",
       "    }\n",
       "\n",
       "    .dataframe thead th {\n",
       "        text-align: right;\n",
       "    }\n",
       "</style>\n",
       "<table border=\"1\" class=\"dataframe\">\n",
       "  <thead>\n",
       "    <tr style=\"text-align: right;\">\n",
       "      <th></th>\n",
       "      <th>Unnamed: 0</th>\n",
       "      <th>title</th>\n",
       "      <th>genre</th>\n",
       "    </tr>\n",
       "  </thead>\n",
       "  <tbody>\n",
       "    <tr>\n",
       "      <th>50</th>\n",
       "      <td>0</td>\n",
       "      <td>['The Nightingale', 'The House That Jack Built...</td>\n",
       "      <td>['Adventure, Drama, Thriller', 'Crime, Drama, ...</td>\n",
       "    </tr>\n",
       "    <tr>\n",
       "      <th>51</th>\n",
       "      <td>1</td>\n",
       "      <td>['Extinction', \"At Eternity's Gate\", 'Instant ...</td>\n",
       "      <td>['Action, Drama, Sci-Fi', 'Biography, Drama, H...</td>\n",
       "    </tr>\n",
       "    <tr>\n",
       "      <th>52</th>\n",
       "      <td>2</td>\n",
       "      <td>['On the Basis of Sex', 'MILF', 'White Boy Ric...</td>\n",
       "      <td>['Biography, Drama', 'Comedy', 'Crime, Drama',...</td>\n",
       "    </tr>\n",
       "    <tr>\n",
       "      <th>53</th>\n",
       "      <td>3</td>\n",
       "      <td>['Fahrenheit 451', 'The Darkest Minds', 'Boy E...</td>\n",
       "      <td>['Drama, Sci-Fi, Thriller', 'Action, Adventure...</td>\n",
       "    </tr>\n",
       "    <tr>\n",
       "      <th>54</th>\n",
       "      <td>4</td>\n",
       "      <td>['Gringo', 'I Can Only Imagine', 'Unfriended: ...</td>\n",
       "      <td>['Action, Comedy, Crime', 'Biography, Drama, F...</td>\n",
       "    </tr>\n",
       "  </tbody>\n",
       "</table>\n",
       "</div>"
      ],
      "text/plain": [
       "    Unnamed: 0                                              title  \\\n",
       "50           0  ['The Nightingale', 'The House That Jack Built...   \n",
       "51           1  ['Extinction', \"At Eternity's Gate\", 'Instant ...   \n",
       "52           2  ['On the Basis of Sex', 'MILF', 'White Boy Ric...   \n",
       "53           3  ['Fahrenheit 451', 'The Darkest Minds', 'Boy E...   \n",
       "54           4  ['Gringo', 'I Can Only Imagine', 'Unfriended: ...   \n",
       "\n",
       "                                                genre  \n",
       "50  ['Adventure, Drama, Thriller', 'Crime, Drama, ...  \n",
       "51  ['Action, Drama, Sci-Fi', 'Biography, Drama, H...  \n",
       "52  ['Biography, Drama', 'Comedy', 'Crime, Drama',...  \n",
       "53  ['Drama, Sci-Fi, Thriller', 'Action, Adventure...  \n",
       "54  ['Action, Comedy, Crime', 'Biography, Drama, F...  "
      ]
     },
     "execution_count": 117,
     "metadata": {},
     "output_type": "execute_result"
    }
   ],
   "source": [
    "gen1850.head()"
   ]
  },
  {
   "cell_type": "code",
   "execution_count": 118,
   "id": "88985ae1",
   "metadata": {},
   "outputs": [
    {
     "name": "stderr",
     "output_type": "stream",
     "text": [
      "C:\\Users\\srava\\anaconda\\lib\\site-packages\\pandas\\core\\frame.py:4906: SettingWithCopyWarning: \n",
      "A value is trying to be set on a copy of a slice from a DataFrame\n",
      "\n",
      "See the caveats in the documentation: https://pandas.pydata.org/pandas-docs/stable/user_guide/indexing.html#returning-a-view-versus-a-copy\n",
      "  return super().drop(\n"
     ]
    }
   ],
   "source": [
    "gen1850.drop([\"Unnamed: 0\"],axis=1,inplace=True)"
   ]
  },
  {
   "cell_type": "code",
   "execution_count": 119,
   "id": "211dc203",
   "metadata": {},
   "outputs": [],
   "source": [
    "import ast"
   ]
  },
  {
   "cell_type": "code",
   "execution_count": 120,
   "id": "8af8c3cc",
   "metadata": {},
   "outputs": [
    {
     "name": "stderr",
     "output_type": "stream",
     "text": [
      "C:\\Users\\srava\\AppData\\Local\\Temp/ipykernel_8216/1068166817.py:1: SettingWithCopyWarning: \n",
      "A value is trying to be set on a copy of a slice from a DataFrame.\n",
      "Try using .loc[row_indexer,col_indexer] = value instead\n",
      "\n",
      "See the caveats in the documentation: https://pandas.pydata.org/pandas-docs/stable/user_guide/indexing.html#returning-a-view-versus-a-copy\n",
      "  gen1850[\"title\"]=gen1850[\"title\"].apply(lambda x :ast.literal_eval(x))\n"
     ]
    }
   ],
   "source": [
    "gen1850[\"title\"]=gen1850[\"title\"].apply(lambda x :ast.literal_eval(x))"
   ]
  },
  {
   "cell_type": "code",
   "execution_count": 121,
   "id": "08b7d86d",
   "metadata": {},
   "outputs": [
    {
     "name": "stderr",
     "output_type": "stream",
     "text": [
      "C:\\Users\\srava\\AppData\\Local\\Temp/ipykernel_8216/1291146049.py:1: SettingWithCopyWarning: \n",
      "A value is trying to be set on a copy of a slice from a DataFrame.\n",
      "Try using .loc[row_indexer,col_indexer] = value instead\n",
      "\n",
      "See the caveats in the documentation: https://pandas.pydata.org/pandas-docs/stable/user_guide/indexing.html#returning-a-view-versus-a-copy\n",
      "  gen1850[\"genre\"]=gen1850[\"genre\"].apply(lambda x :ast.literal_eval(x))\n"
     ]
    }
   ],
   "source": [
    "gen1850[\"genre\"]=gen1850[\"genre\"].apply(lambda x :ast.literal_eval(x))"
   ]
  },
  {
   "cell_type": "code",
   "execution_count": 122,
   "id": "16d8df84",
   "metadata": {},
   "outputs": [],
   "source": [
    "gen1850=gen1850.reset_index(drop=True)"
   ]
  },
  {
   "cell_type": "code",
   "execution_count": 123,
   "id": "cbc6ef17",
   "metadata": {
    "scrolled": true
   },
   "outputs": [],
   "source": [
    "ge18=pd.DataFrame({})\n",
    "for i in range(199):\n",
    "    d=pd.DataFrame(list(zip(list(gen1850.iloc[i][\"title\"]),list(gen1850.iloc[i][\"genre\"]))),columns=[\"title\",\"genre\"])\n",
    "    ge18=pd.concat([ge18,d],axis=0)\n",
    "    \n",
    "    \n",
    "    "
   ]
  },
  {
   "cell_type": "code",
   "execution_count": 124,
   "id": "6c238c8e",
   "metadata": {},
   "outputs": [
    {
     "data": {
      "text/html": [
       "<div>\n",
       "<style scoped>\n",
       "    .dataframe tbody tr th:only-of-type {\n",
       "        vertical-align: middle;\n",
       "    }\n",
       "\n",
       "    .dataframe tbody tr th {\n",
       "        vertical-align: top;\n",
       "    }\n",
       "\n",
       "    .dataframe thead th {\n",
       "        text-align: right;\n",
       "    }\n",
       "</style>\n",
       "<table border=\"1\" class=\"dataframe\">\n",
       "  <thead>\n",
       "    <tr style=\"text-align: right;\">\n",
       "      <th></th>\n",
       "      <th>title</th>\n",
       "      <th>genre</th>\n",
       "    </tr>\n",
       "  </thead>\n",
       "  <tbody>\n",
       "    <tr>\n",
       "      <th>0</th>\n",
       "      <td>The Nightingale</td>\n",
       "      <td>Adventure, Drama, Thriller</td>\n",
       "    </tr>\n",
       "    <tr>\n",
       "      <th>1</th>\n",
       "      <td>The House That Jack Built</td>\n",
       "      <td>Crime, Drama, Horror</td>\n",
       "    </tr>\n",
       "    <tr>\n",
       "      <th>2</th>\n",
       "      <td>Incredibles 2</td>\n",
       "      <td>Animation, Action, Adventure</td>\n",
       "    </tr>\n",
       "    <tr>\n",
       "      <th>3</th>\n",
       "      <td>Den of Thieves</td>\n",
       "      <td>Action, Crime, Drama</td>\n",
       "    </tr>\n",
       "    <tr>\n",
       "      <th>4</th>\n",
       "      <td>A Million Little Pieces</td>\n",
       "      <td>Drama</td>\n",
       "    </tr>\n",
       "  </tbody>\n",
       "</table>\n",
       "</div>"
      ],
      "text/plain": [
       "                       title                         genre\n",
       "0            The Nightingale    Adventure, Drama, Thriller\n",
       "1  The House That Jack Built          Crime, Drama, Horror\n",
       "2              Incredibles 2  Animation, Action, Adventure\n",
       "3             Den of Thieves          Action, Crime, Drama\n",
       "4    A Million Little Pieces                         Drama"
      ]
     },
     "execution_count": 124,
     "metadata": {},
     "output_type": "execute_result"
    }
   ],
   "source": [
    "ge18.head()"
   ]
  },
  {
   "cell_type": "code",
   "execution_count": 125,
   "id": "6f865c95",
   "metadata": {},
   "outputs": [],
   "source": [
    "ge18=pd.concat([genre18.iloc[0:50],ge18])"
   ]
  },
  {
   "cell_type": "code",
   "execution_count": 126,
   "id": "6f4cd909",
   "metadata": {},
   "outputs": [
    {
     "data": {
      "text/plain": [
       "(9649, 3)"
      ]
     },
     "execution_count": 126,
     "metadata": {},
     "output_type": "execute_result"
    }
   ],
   "source": [
    "ge18.shape"
   ]
  },
  {
   "cell_type": "code",
   "execution_count": 127,
   "id": "3297608d",
   "metadata": {},
   "outputs": [],
   "source": [
    "ge18=ge18.reset_index(drop=True)"
   ]
  },
  {
   "cell_type": "code",
   "execution_count": 128,
   "id": "2ef08b1b",
   "metadata": {},
   "outputs": [],
   "source": [
    "movie18[\"title\"]=movie18[\"title\"].str.lower()"
   ]
  },
  {
   "cell_type": "code",
   "execution_count": 129,
   "id": "dc90c556",
   "metadata": {},
   "outputs": [],
   "source": [
    "ge18[\"title\"]=ge18[\"title\"].str.lower()"
   ]
  },
  {
   "cell_type": "code",
   "execution_count": 130,
   "id": "63055676",
   "metadata": {},
   "outputs": [
    {
     "data": {
      "text/html": [
       "<div>\n",
       "<style scoped>\n",
       "    .dataframe tbody tr th:only-of-type {\n",
       "        vertical-align: middle;\n",
       "    }\n",
       "\n",
       "    .dataframe tbody tr th {\n",
       "        vertical-align: top;\n",
       "    }\n",
       "\n",
       "    .dataframe thead th {\n",
       "        text-align: right;\n",
       "    }\n",
       "</style>\n",
       "<table border=\"1\" class=\"dataframe\">\n",
       "  <thead>\n",
       "    <tr style=\"text-align: right;\">\n",
       "      <th></th>\n",
       "      <th>Unnamed: 0</th>\n",
       "      <th>title</th>\n",
       "      <th>genre</th>\n",
       "    </tr>\n",
       "  </thead>\n",
       "  <tbody>\n",
       "    <tr>\n",
       "      <th>0</th>\n",
       "      <td>0.0</td>\n",
       "      <td>mary poppins returns</td>\n",
       "      <td>Adventure, Comedy, Family</td>\n",
       "    </tr>\n",
       "    <tr>\n",
       "      <th>1</th>\n",
       "      <td>1.0</td>\n",
       "      <td>spider-man: into the spider-verse</td>\n",
       "      <td>Animation, Action, Adventure</td>\n",
       "    </tr>\n",
       "    <tr>\n",
       "      <th>2</th>\n",
       "      <td>2.0</td>\n",
       "      <td>venom</td>\n",
       "      <td>Action, Adventure, Sci-Fi</td>\n",
       "    </tr>\n",
       "    <tr>\n",
       "      <th>3</th>\n",
       "      <td>3.0</td>\n",
       "      <td>avengers: infinity war</td>\n",
       "      <td>Action, Adventure, Sci-Fi</td>\n",
       "    </tr>\n",
       "    <tr>\n",
       "      <th>4</th>\n",
       "      <td>4.0</td>\n",
       "      <td>ready player one</td>\n",
       "      <td>Action, Adventure, Sci-Fi</td>\n",
       "    </tr>\n",
       "  </tbody>\n",
       "</table>\n",
       "</div>"
      ],
      "text/plain": [
       "   Unnamed: 0                              title                         genre\n",
       "0         0.0               mary poppins returns     Adventure, Comedy, Family\n",
       "1         1.0  spider-man: into the spider-verse  Animation, Action, Adventure\n",
       "2         2.0                              venom     Action, Adventure, Sci-Fi\n",
       "3         3.0             avengers: infinity war     Action, Adventure, Sci-Fi\n",
       "4         4.0                   ready player one     Action, Adventure, Sci-Fi"
      ]
     },
     "execution_count": 130,
     "metadata": {},
     "output_type": "execute_result"
    }
   ],
   "source": [
    "ge18.head()"
   ]
  },
  {
   "cell_type": "code",
   "execution_count": 131,
   "id": "9996158b",
   "metadata": {},
   "outputs": [],
   "source": [
    "ge18.drop([\"Unnamed: 0\"],axis=1,inplace=True)"
   ]
  },
  {
   "cell_type": "code",
   "execution_count": 132,
   "id": "e6afc9a0",
   "metadata": {},
   "outputs": [
    {
     "data": {
      "text/html": [
       "<div>\n",
       "<style scoped>\n",
       "    .dataframe tbody tr th:only-of-type {\n",
       "        vertical-align: middle;\n",
       "    }\n",
       "\n",
       "    .dataframe tbody tr th {\n",
       "        vertical-align: top;\n",
       "    }\n",
       "\n",
       "    .dataframe thead th {\n",
       "        text-align: right;\n",
       "    }\n",
       "</style>\n",
       "<table border=\"1\" class=\"dataframe\">\n",
       "  <thead>\n",
       "    <tr style=\"text-align: right;\">\n",
       "      <th></th>\n",
       "      <th>title</th>\n",
       "      <th>genre</th>\n",
       "    </tr>\n",
       "  </thead>\n",
       "  <tbody>\n",
       "    <tr>\n",
       "      <th>0</th>\n",
       "      <td>mary poppins returns</td>\n",
       "      <td>Adventure, Comedy, Family</td>\n",
       "    </tr>\n",
       "    <tr>\n",
       "      <th>1</th>\n",
       "      <td>spider-man: into the spider-verse</td>\n",
       "      <td>Animation, Action, Adventure</td>\n",
       "    </tr>\n",
       "    <tr>\n",
       "      <th>2</th>\n",
       "      <td>venom</td>\n",
       "      <td>Action, Adventure, Sci-Fi</td>\n",
       "    </tr>\n",
       "    <tr>\n",
       "      <th>3</th>\n",
       "      <td>avengers: infinity war</td>\n",
       "      <td>Action, Adventure, Sci-Fi</td>\n",
       "    </tr>\n",
       "    <tr>\n",
       "      <th>4</th>\n",
       "      <td>ready player one</td>\n",
       "      <td>Action, Adventure, Sci-Fi</td>\n",
       "    </tr>\n",
       "  </tbody>\n",
       "</table>\n",
       "</div>"
      ],
      "text/plain": [
       "                               title                         genre\n",
       "0               mary poppins returns     Adventure, Comedy, Family\n",
       "1  spider-man: into the spider-verse  Animation, Action, Adventure\n",
       "2                              venom     Action, Adventure, Sci-Fi\n",
       "3             avengers: infinity war     Action, Adventure, Sci-Fi\n",
       "4                   ready player one     Action, Adventure, Sci-Fi"
      ]
     },
     "execution_count": 132,
     "metadata": {},
     "output_type": "execute_result"
    }
   ],
   "source": [
    "ge18.head()"
   ]
  },
  {
   "cell_type": "code",
   "execution_count": 133,
   "id": "f3846d35",
   "metadata": {},
   "outputs": [],
   "source": [
    "#merging 2018 movies cast & crew dataset and their respective genres\n",
    "moviefinal18=pd.merge(movie18,ge18,on=\"title\")"
   ]
  },
  {
   "cell_type": "code",
   "execution_count": 134,
   "id": "a12fb70b",
   "metadata": {},
   "outputs": [],
   "source": [
    "moviefinal18.drop(\"Unnamed: 0\",axis=1,inplace=True)"
   ]
  },
  {
   "cell_type": "code",
   "execution_count": 135,
   "id": "f7b63a43",
   "metadata": {},
   "outputs": [
    {
     "data": {
      "text/html": [
       "<div>\n",
       "<style scoped>\n",
       "    .dataframe tbody tr th:only-of-type {\n",
       "        vertical-align: middle;\n",
       "    }\n",
       "\n",
       "    .dataframe tbody tr th {\n",
       "        vertical-align: top;\n",
       "    }\n",
       "\n",
       "    .dataframe thead th {\n",
       "        text-align: right;\n",
       "    }\n",
       "</style>\n",
       "<table border=\"1\" class=\"dataframe\">\n",
       "  <thead>\n",
       "    <tr style=\"text-align: right;\">\n",
       "      <th></th>\n",
       "      <th>title</th>\n",
       "      <th>cast_and_crew</th>\n",
       "      <th>genre</th>\n",
       "    </tr>\n",
       "  </thead>\n",
       "  <tbody>\n",
       "    <tr>\n",
       "      <th>0</th>\n",
       "      <td>insidious: the last key</td>\n",
       "      <td>Adam Robitel (director); Leigh Whannell (scree...</td>\n",
       "      <td>Horror, Mystery, Thriller</td>\n",
       "    </tr>\n",
       "    <tr>\n",
       "      <th>1</th>\n",
       "      <td>the commuter</td>\n",
       "      <td>Jaume Collet-Serra (director); Byron Willinger...</td>\n",
       "      <td>Action, Mystery, Thriller</td>\n",
       "    </tr>\n",
       "    <tr>\n",
       "      <th>2</th>\n",
       "      <td>proud mary</td>\n",
       "      <td>Babak Najafi (director); John S. Newman, Chris...</td>\n",
       "      <td>Action, Crime, Drama</td>\n",
       "    </tr>\n",
       "    <tr>\n",
       "      <th>3</th>\n",
       "      <td>acts of violence</td>\n",
       "      <td>Brett Donowho (director); Nicolas Aaron Mezzan...</td>\n",
       "      <td>Action, Crime</td>\n",
       "    </tr>\n",
       "    <tr>\n",
       "      <th>4</th>\n",
       "      <td>12 strong</td>\n",
       "      <td>Nicolai Fuglsig (director); Peter Craig, Ted T...</td>\n",
       "      <td>Action, Drama, History</td>\n",
       "    </tr>\n",
       "  </tbody>\n",
       "</table>\n",
       "</div>"
      ],
      "text/plain": [
       "                     title                                      cast_and_crew  \\\n",
       "0  insidious: the last key  Adam Robitel (director); Leigh Whannell (scree...   \n",
       "1             the commuter  Jaume Collet-Serra (director); Byron Willinger...   \n",
       "2               proud mary  Babak Najafi (director); John S. Newman, Chris...   \n",
       "3         acts of violence  Brett Donowho (director); Nicolas Aaron Mezzan...   \n",
       "4                12 strong  Nicolai Fuglsig (director); Peter Craig, Ted T...   \n",
       "\n",
       "                       genre  \n",
       "0  Horror, Mystery, Thriller  \n",
       "1  Action, Mystery, Thriller  \n",
       "2       Action, Crime, Drama  \n",
       "3              Action, Crime  \n",
       "4     Action, Drama, History  "
      ]
     },
     "execution_count": 135,
     "metadata": {},
     "output_type": "execute_result"
    }
   ],
   "source": [
    "moviefinal18.head()"
   ]
  },
  {
   "cell_type": "markdown",
   "id": "6693fcdd",
   "metadata": {},
   "source": [
    "# 2019 movies"
   ]
  },
  {
   "cell_type": "code",
   "execution_count": 137,
   "id": "bedfbe7d",
   "metadata": {},
   "outputs": [],
   "source": [
    "movie19=pd.read_csv(\"movie19.csv\")"
   ]
  },
  {
   "cell_type": "code",
   "execution_count": 138,
   "id": "c8c896d3",
   "metadata": {},
   "outputs": [],
   "source": [
    "genre19=pd.read_csv(\"genre19.csv\")"
   ]
  },
  {
   "cell_type": "code",
   "execution_count": 139,
   "id": "a45b8140",
   "metadata": {},
   "outputs": [
    {
     "data": {
      "text/html": [
       "<div>\n",
       "<style scoped>\n",
       "    .dataframe tbody tr th:only-of-type {\n",
       "        vertical-align: middle;\n",
       "    }\n",
       "\n",
       "    .dataframe tbody tr th {\n",
       "        vertical-align: top;\n",
       "    }\n",
       "\n",
       "    .dataframe thead th {\n",
       "        text-align: right;\n",
       "    }\n",
       "</style>\n",
       "<table border=\"1\" class=\"dataframe\">\n",
       "  <thead>\n",
       "    <tr style=\"text-align: right;\">\n",
       "      <th></th>\n",
       "      <th>Unnamed: 0</th>\n",
       "      <th>title</th>\n",
       "      <th>genre</th>\n",
       "    </tr>\n",
       "  </thead>\n",
       "  <tbody>\n",
       "    <tr>\n",
       "      <th>0</th>\n",
       "      <td>0</td>\n",
       "      <td>Spider-Man: Far from Home</td>\n",
       "      <td>Action, Adventure, Sci-Fi</td>\n",
       "    </tr>\n",
       "    <tr>\n",
       "      <th>1</th>\n",
       "      <td>1</td>\n",
       "      <td>Avengers: Endgame</td>\n",
       "      <td>Action, Adventure, Drama</td>\n",
       "    </tr>\n",
       "    <tr>\n",
       "      <th>2</th>\n",
       "      <td>2</td>\n",
       "      <td>Knives Out</td>\n",
       "      <td>Comedy, Crime, Drama</td>\n",
       "    </tr>\n",
       "    <tr>\n",
       "      <th>3</th>\n",
       "      <td>3</td>\n",
       "      <td>Klaus</td>\n",
       "      <td>Animation, Adventure, Comedy</td>\n",
       "    </tr>\n",
       "    <tr>\n",
       "      <th>4</th>\n",
       "      <td>4</td>\n",
       "      <td>Little Women</td>\n",
       "      <td>Drama, Romance</td>\n",
       "    </tr>\n",
       "  </tbody>\n",
       "</table>\n",
       "</div>"
      ],
      "text/plain": [
       "   Unnamed: 0                      title                         genre\n",
       "0           0  Spider-Man: Far from Home     Action, Adventure, Sci-Fi\n",
       "1           1          Avengers: Endgame      Action, Adventure, Drama\n",
       "2           2                 Knives Out          Comedy, Crime, Drama\n",
       "3           3                      Klaus  Animation, Adventure, Comedy\n",
       "4           4               Little Women                Drama, Romance"
      ]
     },
     "execution_count": 139,
     "metadata": {},
     "output_type": "execute_result"
    }
   ],
   "source": [
    "genre19.head()"
   ]
  },
  {
   "cell_type": "code",
   "execution_count": 140,
   "id": "719cc843",
   "metadata": {},
   "outputs": [],
   "source": [
    "gen1950=genre19.iloc[50:249]"
   ]
  },
  {
   "cell_type": "code",
   "execution_count": 141,
   "id": "cddc5898",
   "metadata": {},
   "outputs": [
    {
     "name": "stderr",
     "output_type": "stream",
     "text": [
      "C:\\Users\\srava\\anaconda\\lib\\site-packages\\pandas\\core\\frame.py:4906: SettingWithCopyWarning: \n",
      "A value is trying to be set on a copy of a slice from a DataFrame\n",
      "\n",
      "See the caveats in the documentation: https://pandas.pydata.org/pandas-docs/stable/user_guide/indexing.html#returning-a-view-versus-a-copy\n",
      "  return super().drop(\n"
     ]
    }
   ],
   "source": [
    "gen1950.drop(\"Unnamed: 0\",axis=1,inplace=True)"
   ]
  },
  {
   "cell_type": "code",
   "execution_count": 142,
   "id": "c1260740",
   "metadata": {},
   "outputs": [],
   "source": [
    "gen1950=gen1950.reset_index(drop=True)"
   ]
  },
  {
   "cell_type": "code",
   "execution_count": 143,
   "id": "ecd62dd0",
   "metadata": {},
   "outputs": [],
   "source": [
    "gen1950[\"title\"]=gen1950[\"title\"].apply(lambda x :ast.literal_eval(x))"
   ]
  },
  {
   "cell_type": "code",
   "execution_count": 144,
   "id": "356aa4a7",
   "metadata": {},
   "outputs": [],
   "source": [
    "gen1950[\"genre\"]=gen1950[\"genre\"].apply(lambda x :ast.literal_eval(x))"
   ]
  },
  {
   "cell_type": "code",
   "execution_count": 145,
   "id": "c5ceb673",
   "metadata": {},
   "outputs": [],
   "source": [
    "ge19=pd.DataFrame({})\n",
    "for i in range(199):\n",
    "    #print(i)\n",
    "    d=pd.DataFrame(list(zip(list(gen1950.iloc[i][\"title\"]),list(gen1950.iloc[i][\"genre\"]))),columns=[\"title\",\"genre\"])\n",
    "    #print(d)\n",
    "    ge19=pd.concat([ge19,d],axis=0)"
   ]
  },
  {
   "cell_type": "code",
   "execution_count": 146,
   "id": "8cafffc5",
   "metadata": {},
   "outputs": [],
   "source": [
    "ge19=ge19.reset_index(drop=True)"
   ]
  },
  {
   "cell_type": "code",
   "execution_count": 147,
   "id": "5199f8ea",
   "metadata": {},
   "outputs": [],
   "source": [
    "ge19=pd.concat([genre19.iloc[0:50].drop(\"Unnamed: 0\",axis=1),ge19])"
   ]
  },
  {
   "cell_type": "code",
   "execution_count": 148,
   "id": "cf1b094e",
   "metadata": {},
   "outputs": [],
   "source": [
    "#merging 2019 movies cast & crew dataset with their respective genres\n",
    "moviefinal19=pd.merge(movie19,ge19,on=\"title\")"
   ]
  },
  {
   "cell_type": "code",
   "execution_count": 151,
   "id": "3a0449db",
   "metadata": {},
   "outputs": [],
   "source": [
    "moviefinal19.drop(\"Unnamed: 0\",axis=1,inplace=True)"
   ]
  },
  {
   "cell_type": "markdown",
   "id": "a0060cf5",
   "metadata": {},
   "source": [
    "# Movies 2020"
   ]
  },
  {
   "cell_type": "code",
   "execution_count": 153,
   "id": "3d29e1dd",
   "metadata": {},
   "outputs": [],
   "source": [
    "movie20=pd.read_csv(\"movie20.csv\")"
   ]
  },
  {
   "cell_type": "code",
   "execution_count": 154,
   "id": "2bc54835",
   "metadata": {},
   "outputs": [],
   "source": [
    "genre20=pd.read_csv(\"genre20.csv\")"
   ]
  },
  {
   "cell_type": "code",
   "execution_count": 155,
   "id": "48960833",
   "metadata": {},
   "outputs": [
    {
     "data": {
      "text/html": [
       "<div>\n",
       "<style scoped>\n",
       "    .dataframe tbody tr th:only-of-type {\n",
       "        vertical-align: middle;\n",
       "    }\n",
       "\n",
       "    .dataframe tbody tr th {\n",
       "        vertical-align: top;\n",
       "    }\n",
       "\n",
       "    .dataframe thead th {\n",
       "        text-align: right;\n",
       "    }\n",
       "</style>\n",
       "<table border=\"1\" class=\"dataframe\">\n",
       "  <thead>\n",
       "    <tr style=\"text-align: right;\">\n",
       "      <th></th>\n",
       "      <th>Unnamed: 0</th>\n",
       "      <th>title</th>\n",
       "      <th>genre</th>\n",
       "    </tr>\n",
       "  </thead>\n",
       "  <tbody>\n",
       "    <tr>\n",
       "      <th>0</th>\n",
       "      <td>0</td>\n",
       "      <td>365 dni</td>\n",
       "      <td>Drama, Romance</td>\n",
       "    </tr>\n",
       "    <tr>\n",
       "      <th>1</th>\n",
       "      <td>1</td>\n",
       "      <td>Promising Young Woman</td>\n",
       "      <td>Crime, Drama, Mystery</td>\n",
       "    </tr>\n",
       "    <tr>\n",
       "      <th>2</th>\n",
       "      <td>2</td>\n",
       "      <td>Tenet</td>\n",
       "      <td>Action, Sci-Fi, Thriller</td>\n",
       "    </tr>\n",
       "    <tr>\n",
       "      <th>3</th>\n",
       "      <td>3</td>\n",
       "      <td>The Father</td>\n",
       "      <td>Drama, Mystery</td>\n",
       "    </tr>\n",
       "    <tr>\n",
       "      <th>4</th>\n",
       "      <td>4</td>\n",
       "      <td>The Devil All the Time</td>\n",
       "      <td>Crime, Drama, Thriller</td>\n",
       "    </tr>\n",
       "  </tbody>\n",
       "</table>\n",
       "</div>"
      ],
      "text/plain": [
       "   Unnamed: 0                   title                     genre\n",
       "0           0                 365 dni            Drama, Romance\n",
       "1           1   Promising Young Woman     Crime, Drama, Mystery\n",
       "2           2                   Tenet  Action, Sci-Fi, Thriller\n",
       "3           3              The Father            Drama, Mystery\n",
       "4           4  The Devil All the Time    Crime, Drama, Thriller"
      ]
     },
     "execution_count": 155,
     "metadata": {},
     "output_type": "execute_result"
    }
   ],
   "source": [
    "genre20.head()"
   ]
  },
  {
   "cell_type": "code",
   "execution_count": 156,
   "id": "4efdc592",
   "metadata": {},
   "outputs": [],
   "source": [
    "gen2050=genre20.iloc[50:249]"
   ]
  },
  {
   "cell_type": "code",
   "execution_count": 157,
   "id": "682957dd",
   "metadata": {},
   "outputs": [
    {
     "name": "stderr",
     "output_type": "stream",
     "text": [
      "C:\\Users\\srava\\anaconda\\lib\\site-packages\\pandas\\core\\frame.py:4906: SettingWithCopyWarning: \n",
      "A value is trying to be set on a copy of a slice from a DataFrame\n",
      "\n",
      "See the caveats in the documentation: https://pandas.pydata.org/pandas-docs/stable/user_guide/indexing.html#returning-a-view-versus-a-copy\n",
      "  return super().drop(\n"
     ]
    }
   ],
   "source": [
    "gen2050.drop(\"Unnamed: 0\",axis=1,inplace=True)"
   ]
  },
  {
   "cell_type": "code",
   "execution_count": 158,
   "id": "96b818f2",
   "metadata": {},
   "outputs": [],
   "source": [
    "gen2050=gen2050.reset_index(drop=True)"
   ]
  },
  {
   "cell_type": "code",
   "execution_count": 159,
   "id": "49ddd53d",
   "metadata": {},
   "outputs": [],
   "source": [
    "gen2050[\"title\"]=gen2050[\"title\"].apply(lambda x :ast.literal_eval(x))"
   ]
  },
  {
   "cell_type": "code",
   "execution_count": 160,
   "id": "633a6538",
   "metadata": {},
   "outputs": [],
   "source": [
    "gen2050[\"genre\"]=gen2050[\"genre\"].apply(lambda x :ast.literal_eval(x))"
   ]
  },
  {
   "cell_type": "code",
   "execution_count": 161,
   "id": "74d01580",
   "metadata": {},
   "outputs": [],
   "source": [
    "ge20=pd.DataFrame({})\n",
    "for i in range(199):\n",
    "    #print(i)\n",
    "    d=pd.DataFrame(list(zip(list(gen2050.iloc[i][\"title\"]),list(gen2050.iloc[i][\"genre\"]))),columns=[\"title\",\"genre\"])\n",
    "    #print(d)\n",
    "    ge20=pd.concat([ge20,d],axis=0)"
   ]
  },
  {
   "cell_type": "code",
   "execution_count": 162,
   "id": "9582da85",
   "metadata": {},
   "outputs": [],
   "source": [
    "ge20=ge20.reset_index(drop=True)"
   ]
  },
  {
   "cell_type": "code",
   "execution_count": 163,
   "id": "aa0e3294",
   "metadata": {},
   "outputs": [],
   "source": [
    "ge20=pd.concat([genre20.iloc[0:50].drop(\"Unnamed: 0\",axis=1),ge20],axis=0)"
   ]
  },
  {
   "cell_type": "code",
   "execution_count": 164,
   "id": "48e212a3",
   "metadata": {},
   "outputs": [],
   "source": [
    "#merging 2020 movies cast & crew dataset and their respective genres\n",
    "moviefinal20=pd.merge(movie20,ge20,on=\"title\")"
   ]
  },
  {
   "cell_type": "code",
   "execution_count": 168,
   "id": "06b386ff",
   "metadata": {},
   "outputs": [],
   "source": [
    "moviefinal20.drop(\"Unnamed: 0\",axis=1,inplace=True)"
   ]
  },
  {
   "cell_type": "markdown",
   "id": "87618a55",
   "metadata": {},
   "source": [
    "# 2021 movies"
   ]
  },
  {
   "cell_type": "code",
   "execution_count": 170,
   "id": "79d6976f",
   "metadata": {},
   "outputs": [],
   "source": [
    "movie21=pd.read_csv(\"movie21.csv\")"
   ]
  },
  {
   "cell_type": "code",
   "execution_count": 171,
   "id": "47cd5c19",
   "metadata": {},
   "outputs": [],
   "source": [
    "genre21=pd.read_csv(\"genre21.csv\")"
   ]
  },
  {
   "cell_type": "code",
   "execution_count": 172,
   "id": "14c82b6e",
   "metadata": {},
   "outputs": [],
   "source": [
    "gen2150=genre21.iloc[50:249]"
   ]
  },
  {
   "cell_type": "code",
   "execution_count": 173,
   "id": "2ffb04c3",
   "metadata": {},
   "outputs": [
    {
     "name": "stderr",
     "output_type": "stream",
     "text": [
      "C:\\Users\\srava\\anaconda\\lib\\site-packages\\pandas\\core\\frame.py:4906: SettingWithCopyWarning: \n",
      "A value is trying to be set on a copy of a slice from a DataFrame\n",
      "\n",
      "See the caveats in the documentation: https://pandas.pydata.org/pandas-docs/stable/user_guide/indexing.html#returning-a-view-versus-a-copy\n",
      "  return super().drop(\n"
     ]
    }
   ],
   "source": [
    "gen2150.drop(\"Unnamed: 0\",axis=1,inplace=True)"
   ]
  },
  {
   "cell_type": "code",
   "execution_count": 174,
   "id": "6fbfc84d",
   "metadata": {},
   "outputs": [],
   "source": [
    "gen2150=gen2150.reset_index(drop=True)"
   ]
  },
  {
   "cell_type": "code",
   "execution_count": 175,
   "id": "4714eb34",
   "metadata": {},
   "outputs": [],
   "source": [
    "gen2150[\"title\"]=gen2150[\"title\"].apply(lambda x :ast.literal_eval(x))"
   ]
  },
  {
   "cell_type": "code",
   "execution_count": 176,
   "id": "4aeb77a5",
   "metadata": {},
   "outputs": [],
   "source": [
    "gen2150[\"genre\"]=gen2150[\"genre\"].apply(lambda x :ast.literal_eval(x))"
   ]
  },
  {
   "cell_type": "code",
   "execution_count": 177,
   "id": "e379ecd0",
   "metadata": {},
   "outputs": [],
   "source": [
    "ge21=pd.DataFrame({})\n",
    "for i in range(199):\n",
    "    #print(i)\n",
    "    d=pd.DataFrame(list(zip(list(gen2150.iloc[i][\"title\"]),list(gen2150.iloc[i][\"genre\"]))),columns=[\"title\",\"genre\"])\n",
    "    #print(d)\n",
    "    ge21=pd.concat([ge21,d],axis=0)"
   ]
  },
  {
   "cell_type": "code",
   "execution_count": 178,
   "id": "98a2a44e",
   "metadata": {},
   "outputs": [],
   "source": [
    "ge21=ge21.reset_index(drop=True)"
   ]
  },
  {
   "cell_type": "code",
   "execution_count": 179,
   "id": "a39e2c88",
   "metadata": {},
   "outputs": [],
   "source": [
    "ge21=pd.concat([genre21.iloc[0:50].drop(\"Unnamed: 0\",axis=1),ge21])"
   ]
  },
  {
   "cell_type": "code",
   "execution_count": 180,
   "id": "b7d9e37d",
   "metadata": {},
   "outputs": [],
   "source": [
    "#merging 2018 movies cast & crew dataset and their respective genres\n",
    "moviefinal21=pd.merge(movie21,ge21,on=\"title\")"
   ]
  },
  {
   "cell_type": "code",
   "execution_count": 183,
   "id": "752bfade",
   "metadata": {},
   "outputs": [],
   "source": [
    "moviefinal21.drop(\"Unnamed: 0\",axis=1,inplace=True)"
   ]
  },
  {
   "cell_type": "code",
   "execution_count": 184,
   "id": "6acfba55",
   "metadata": {},
   "outputs": [],
   "source": [
    "moviefinal=pd.concat([moviefinal18,moviefinal19,moviefinal20,moviefinal21],axis=0)"
   ]
  },
  {
   "cell_type": "code",
   "execution_count": 185,
   "id": "df4bb603",
   "metadata": {},
   "outputs": [
    {
     "data": {
      "text/html": [
       "<div>\n",
       "<style scoped>\n",
       "    .dataframe tbody tr th:only-of-type {\n",
       "        vertical-align: middle;\n",
       "    }\n",
       "\n",
       "    .dataframe tbody tr th {\n",
       "        vertical-align: top;\n",
       "    }\n",
       "\n",
       "    .dataframe thead th {\n",
       "        text-align: right;\n",
       "    }\n",
       "</style>\n",
       "<table border=\"1\" class=\"dataframe\">\n",
       "  <thead>\n",
       "    <tr style=\"text-align: right;\">\n",
       "      <th></th>\n",
       "      <th>title</th>\n",
       "      <th>cast_and_crew</th>\n",
       "      <th>genre</th>\n",
       "    </tr>\n",
       "  </thead>\n",
       "  <tbody>\n",
       "    <tr>\n",
       "      <th>0</th>\n",
       "      <td>insidious: the last key</td>\n",
       "      <td>Adam Robitel (director); Leigh Whannell (scree...</td>\n",
       "      <td>Horror, Mystery, Thriller</td>\n",
       "    </tr>\n",
       "    <tr>\n",
       "      <th>1</th>\n",
       "      <td>the commuter</td>\n",
       "      <td>Jaume Collet-Serra (director); Byron Willinger...</td>\n",
       "      <td>Action, Mystery, Thriller</td>\n",
       "    </tr>\n",
       "    <tr>\n",
       "      <th>2</th>\n",
       "      <td>proud mary</td>\n",
       "      <td>Babak Najafi (director); John S. Newman, Chris...</td>\n",
       "      <td>Action, Crime, Drama</td>\n",
       "    </tr>\n",
       "    <tr>\n",
       "      <th>3</th>\n",
       "      <td>acts of violence</td>\n",
       "      <td>Brett Donowho (director); Nicolas Aaron Mezzan...</td>\n",
       "      <td>Action, Crime</td>\n",
       "    </tr>\n",
       "    <tr>\n",
       "      <th>4</th>\n",
       "      <td>12 strong</td>\n",
       "      <td>Nicolai Fuglsig (director); Peter Craig, Ted T...</td>\n",
       "      <td>Action, Drama, History</td>\n",
       "    </tr>\n",
       "  </tbody>\n",
       "</table>\n",
       "</div>"
      ],
      "text/plain": [
       "                     title                                      cast_and_crew  \\\n",
       "0  insidious: the last key  Adam Robitel (director); Leigh Whannell (scree...   \n",
       "1             the commuter  Jaume Collet-Serra (director); Byron Willinger...   \n",
       "2               proud mary  Babak Najafi (director); John S. Newman, Chris...   \n",
       "3         acts of violence  Brett Donowho (director); Nicolas Aaron Mezzan...   \n",
       "4                12 strong  Nicolai Fuglsig (director); Peter Craig, Ted T...   \n",
       "\n",
       "                       genre  \n",
       "0  Horror, Mystery, Thriller  \n",
       "1  Action, Mystery, Thriller  \n",
       "2       Action, Crime, Drama  \n",
       "3              Action, Crime  \n",
       "4     Action, Drama, History  "
      ]
     },
     "execution_count": 185,
     "metadata": {},
     "output_type": "execute_result"
    }
   ],
   "source": [
    "moviefinal.head()"
   ]
  },
  {
   "cell_type": "code",
   "execution_count": 187,
   "id": "b83f9552",
   "metadata": {},
   "outputs": [],
   "source": [
    "moviefinal=moviefinal.reset_index(drop=True)"
   ]
  },
  {
   "cell_type": "code",
   "execution_count": 188,
   "id": "a17daaa7",
   "metadata": {},
   "outputs": [
    {
     "data": {
      "text/plain": [
       "(916, 3)"
      ]
     },
     "execution_count": 188,
     "metadata": {},
     "output_type": "execute_result"
    }
   ],
   "source": [
    "moviefinal.shape"
   ]
  },
  {
   "cell_type": "code",
   "execution_count": 189,
   "id": "bc892834",
   "metadata": {},
   "outputs": [
    {
     "data": {
      "text/html": [
       "<div>\n",
       "<style scoped>\n",
       "    .dataframe tbody tr th:only-of-type {\n",
       "        vertical-align: middle;\n",
       "    }\n",
       "\n",
       "    .dataframe tbody tr th {\n",
       "        vertical-align: top;\n",
       "    }\n",
       "\n",
       "    .dataframe thead th {\n",
       "        text-align: right;\n",
       "    }\n",
       "</style>\n",
       "<table border=\"1\" class=\"dataframe\">\n",
       "  <thead>\n",
       "    <tr style=\"text-align: right;\">\n",
       "      <th></th>\n",
       "      <th>title</th>\n",
       "      <th>cast_and_crew</th>\n",
       "      <th>genre</th>\n",
       "    </tr>\n",
       "  </thead>\n",
       "  <tbody>\n",
       "    <tr>\n",
       "      <th>911</th>\n",
       "      <td>Sing 2</td>\n",
       "      <td>Garth Jennings (director/screenplay); Matthew ...</td>\n",
       "      <td>Animation, Adventure, Comedy</td>\n",
       "    </tr>\n",
       "    <tr>\n",
       "      <th>912</th>\n",
       "      <td>The King's Man</td>\n",
       "      <td>Matthew Vaughn (director/screenplay); Karl Gaj...</td>\n",
       "      <td>Action, Adventure, Comedy</td>\n",
       "    </tr>\n",
       "    <tr>\n",
       "      <th>913</th>\n",
       "      <td>The Tragedy of Macbeth</td>\n",
       "      <td>Joel Coen (director/screenplay); Denzel Washin...</td>\n",
       "      <td>Drama, History, Thriller</td>\n",
       "    </tr>\n",
       "    <tr>\n",
       "      <th>914</th>\n",
       "      <td>A Journal for Jordan</td>\n",
       "      <td>Denzel Washington (director); Virgil Williams ...</td>\n",
       "      <td>Drama</td>\n",
       "    </tr>\n",
       "    <tr>\n",
       "      <th>915</th>\n",
       "      <td>American Underdog</td>\n",
       "      <td>Erwin brothers (directors); Jon Erwin, David A...</td>\n",
       "      <td>Biography, Drama, Sport</td>\n",
       "    </tr>\n",
       "  </tbody>\n",
       "</table>\n",
       "</div>"
      ],
      "text/plain": [
       "                      title  \\\n",
       "911                  Sing 2   \n",
       "912          The King's Man   \n",
       "913  The Tragedy of Macbeth   \n",
       "914    A Journal for Jordan   \n",
       "915       American Underdog   \n",
       "\n",
       "                                         cast_and_crew  \\\n",
       "911  Garth Jennings (director/screenplay); Matthew ...   \n",
       "912  Matthew Vaughn (director/screenplay); Karl Gaj...   \n",
       "913  Joel Coen (director/screenplay); Denzel Washin...   \n",
       "914  Denzel Washington (director); Virgil Williams ...   \n",
       "915  Erwin brothers (directors); Jon Erwin, David A...   \n",
       "\n",
       "                            genre  \n",
       "911  Animation, Adventure, Comedy  \n",
       "912     Action, Adventure, Comedy  \n",
       "913      Drama, History, Thriller  \n",
       "914                         Drama  \n",
       "915       Biography, Drama, Sport  "
      ]
     },
     "execution_count": 189,
     "metadata": {},
     "output_type": "execute_result"
    }
   ],
   "source": [
    "moviefinal.tail()"
   ]
  },
  {
   "cell_type": "code",
   "execution_count": 191,
   "id": "6ee8e48e",
   "metadata": {},
   "outputs": [],
   "source": [
    "moviefinal.to_csv(\"moviefinalnew.csv\",index=False)"
   ]
  },
  {
   "cell_type": "code",
   "execution_count": null,
   "id": "e7d89f21",
   "metadata": {},
   "outputs": [],
   "source": []
  }
 ],
 "metadata": {
  "kernelspec": {
   "display_name": "Python 3 (ipykernel)",
   "language": "python",
   "name": "python3"
  },
  "language_info": {
   "codemirror_mode": {
    "name": "ipython",
    "version": 3
   },
   "file_extension": ".py",
   "mimetype": "text/x-python",
   "name": "python",
   "nbconvert_exporter": "python",
   "pygments_lexer": "ipython3",
   "version": "3.9.7"
  }
 },
 "nbformat": 4,
 "nbformat_minor": 5
}
