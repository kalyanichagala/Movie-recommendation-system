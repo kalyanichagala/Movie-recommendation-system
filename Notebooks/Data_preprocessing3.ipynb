{
 "cells": [
  {
   "cell_type": "code",
   "execution_count": 14,
   "id": "252ce5eb",
   "metadata": {
    "id": "252ce5eb"
   },
   "outputs": [],
   "source": [
    "import pandas as pd\n",
    "import numpy as np"
   ]
  },
  {
   "cell_type": "code",
   "execution_count": 3,
   "id": "9bee37a3",
   "metadata": {
    "colab": {
     "base_uri": "https://localhost:8080/"
    },
    "id": "9bee37a3",
    "outputId": "738c229a-3da1-49d3-ce76-e5fcde2a1bcd"
   },
   "outputs": [],
   "source": [
    "#pip install autoscraper"
   ]
  },
  {
   "cell_type": "code",
   "execution_count": 4,
   "id": "044d4045",
   "metadata": {
    "id": "044d4045"
   },
   "outputs": [],
   "source": [
    "#importing autoscraper to scrape the web\n",
    "from autoscraper import AutoScraper"
   ]
  },
  {
   "cell_type": "code",
   "execution_count": 64,
   "id": "99e152fe",
   "metadata": {
    "id": "99e152fe"
   },
   "outputs": [],
   "source": [
    "scraper=AutoScraper()"
   ]
  },
  {
   "cell_type": "markdown",
   "id": "6ec15ba2",
   "metadata": {},
   "source": [
    "# 2018 movies"
   ]
  },
  {
   "cell_type": "code",
   "execution_count": 65,
   "id": "f01253ba",
   "metadata": {
    "id": "f01253ba"
   },
   "outputs": [],
   "source": [
    "#list of 2018 american films from wikipedia\n",
    "url=\"https://en.wikipedia.org/wiki/List_of_American_films_of_2018\""
   ]
  },
  {
   "cell_type": "code",
   "execution_count": 66,
   "id": "4a66d3c8",
   "metadata": {
    "id": "4a66d3c8"
   },
   "outputs": [],
   "source": [
    "wanted_list=[\"Insidious: The Last Key\",\"Adam Robitel (director); Leigh Whannell (screenplay); Lin Shaye, Angus Sampson, Leigh Whannell, Spencer Locke, Caitlin Gerard, Kirk Acevedo, Bruce Davison\"]"
   ]
  },
  {
   "cell_type": "code",
   "execution_count": 67,
   "id": "d8661c7e",
   "metadata": {
    "id": "d8661c7e"
   },
   "outputs": [],
   "source": [
    "result=scraper.build(url,wanted_list)"
   ]
  },
  {
   "cell_type": "code",
   "execution_count": 68,
   "id": "a710aebc",
   "metadata": {
    "id": "a710aebc"
   },
   "outputs": [],
   "source": [
    "result1=scraper.get_result_similar(url,grouped=True)"
   ]
  },
  {
   "cell_type": "code",
   "execution_count": 70,
   "id": "e68faf69",
   "metadata": {
    "id": "e68faf69"
   },
   "outputs": [],
   "source": [
    "scraper.set_rule_aliases({'rule_2i2b':\"title\",'rule_enmv':\"cast_and_crew\"})\n",
    "scraper.keep_rules(['rule_2i2b','rule_enmv'])"
   ]
  },
  {
   "cell_type": "code",
   "execution_count": 71,
   "id": "8cc5dbaa",
   "metadata": {
    "id": "8cc5dbaa"
   },
   "outputs": [],
   "source": [
    "result2=scraper.get_result_similar(url,group_by_alias=True)"
   ]
  },
  {
   "cell_type": "code",
   "execution_count": 14,
   "id": "ae79cc3c",
   "metadata": {
    "id": "ae79cc3c"
   },
   "outputs": [],
   "source": [
    "pd.DataFrame(result2).to_csv(\"movie18.csv\")"
   ]
  },
  {
   "cell_type": "markdown",
   "id": "d2c39e24",
   "metadata": {
    "id": "d2c39e24"
   },
   "source": [
    "# 2019 movies"
   ]
  },
  {
   "cell_type": "code",
   "execution_count": 15,
   "id": "fa641fa8",
   "metadata": {
    "id": "fa641fa8"
   },
   "outputs": [],
   "source": [
    "#list of 2019 american films from wikipedia\n",
    "url1=\"https://en.wikipedia.org/wiki/List_of_American_films_of_2019\""
   ]
  },
  {
   "cell_type": "code",
   "execution_count": 16,
   "id": "56a57b4f",
   "metadata": {
    "id": "56a57b4f"
   },
   "outputs": [],
   "source": [
    "result19=scraper.get_result_similar(url1,group_by_alias=True)"
   ]
  },
  {
   "cell_type": "code",
   "execution_count": 17,
   "id": "42ea9896",
   "metadata": {
    "id": "42ea9896"
   },
   "outputs": [],
   "source": [
    "pd.DataFrame(result19).to_csv(\"movie19.csv\")"
   ]
  },
  {
   "cell_type": "markdown",
   "id": "79c8cd42",
   "metadata": {
    "id": "79c8cd42"
   },
   "source": [
    "# 2020 movies"
   ]
  },
  {
   "cell_type": "code",
   "execution_count": 18,
   "id": "6fdfdcb0",
   "metadata": {
    "id": "6fdfdcb0"
   },
   "outputs": [],
   "source": [
    "#list of 2020 american films from wikipedia\n",
    "url2=\"https://en.wikipedia.org/wiki/List_of_American_films_of_2020\""
   ]
  },
  {
   "cell_type": "code",
   "execution_count": 19,
   "id": "8c321637",
   "metadata": {
    "id": "8c321637"
   },
   "outputs": [],
   "source": [
    "result20=scraper.get_result_similar(url2,group_by_alias=True)"
   ]
  },
  {
   "cell_type": "code",
   "execution_count": 20,
   "id": "68779ac1",
   "metadata": {
    "id": "68779ac1"
   },
   "outputs": [],
   "source": [
    "pd.DataFrame(result20).to_csv(\"movie20.csv\")"
   ]
  },
  {
   "cell_type": "markdown",
   "id": "ab30b9af",
   "metadata": {
    "id": "ab30b9af"
   },
   "source": [
    "# 2021 movies"
   ]
  },
  {
   "cell_type": "code",
   "execution_count": 21,
   "id": "86b2402f",
   "metadata": {
    "id": "86b2402f"
   },
   "outputs": [],
   "source": [
    "#list of 2021 american films from wikipedia\n",
    "url3=\"https://en.wikipedia.org/wiki/List_of_American_films_of_2021\""
   ]
  },
  {
   "cell_type": "code",
   "execution_count": 22,
   "id": "f562ed33",
   "metadata": {
    "id": "f562ed33"
   },
   "outputs": [],
   "source": [
    "result21=scraper.get_result_similar(url3,group_by_alias=True)"
   ]
  },
  {
   "cell_type": "code",
   "execution_count": 23,
   "id": "63e11dff",
   "metadata": {
    "id": "63e11dff"
   },
   "outputs": [],
   "source": [
    "pd.DataFrame(result21).to_csv(\"movie21.csv\")"
   ]
  },
  {
   "cell_type": "markdown",
   "id": "a3673947",
   "metadata": {
    "id": "a3673947"
   },
   "source": [
    "# genre list for 2018\n"
   ]
  },
  {
   "cell_type": "code",
   "execution_count": 1,
   "id": "30bb8c0b",
   "metadata": {
    "id": "30bb8c0b"
   },
   "outputs": [],
   "source": [
    "#getting genres for 2018 movies from imdb\n",
    "gen=\"https://www.imdb.com/search/title/?year=2018&title_type=feature&\""
   ]
  },
  {
   "cell_type": "code",
   "execution_count": 2,
   "id": "86853c4a",
   "metadata": {
    "id": "86853c4a"
   },
   "outputs": [],
   "source": [
    "wanted_list=[\"Venom\",\"Action, Adventure, Sci-Fi\"]"
   ]
  },
  {
   "cell_type": "code",
   "execution_count": 5,
   "id": "ba0813b0",
   "metadata": {
    "id": "ba0813b0"
   },
   "outputs": [],
   "source": [
    "scrapergen=AutoScraper()"
   ]
  },
  {
   "cell_type": "code",
   "execution_count": 6,
   "id": "1d954c47",
   "metadata": {
    "id": "1d954c47"
   },
   "outputs": [],
   "source": [
    "res=scrapergen.build(gen,wanted_list)"
   ]
  },
  {
   "cell_type": "code",
   "execution_count": 7,
   "id": "QLQO33Atvwau",
   "metadata": {
    "id": "QLQO33Atvwau"
   },
   "outputs": [],
   "source": [
    "resk=scrapergen.get_result_similar(gen,grouped=True)"
   ]
  },
  {
   "cell_type": "code",
   "execution_count": 9,
   "id": "e5b5a83f",
   "metadata": {},
   "outputs": [],
   "source": [
    "scrapergen.set_rule_aliases({'rule_nizs':\"title\",'rule_2984':\"genre\"})"
   ]
  },
  {
   "cell_type": "code",
   "execution_count": 10,
   "id": "78a0b6a7",
   "metadata": {
    "id": "78a0b6a7"
   },
   "outputs": [],
   "source": [
    "scrapergen.keep_rules(['rule_nizs','rule_2984'])"
   ]
  },
  {
   "cell_type": "code",
   "execution_count": 11,
   "id": "4mWzNiohwy9s",
   "metadata": {
    "id": "4mWzNiohwy9s"
   },
   "outputs": [],
   "source": [
    "res1=scrapergen.get_result_similar(gen,group_by_alias=True)"
   ]
  },
  {
   "cell_type": "code",
   "execution_count": 15,
   "id": "4cf960b2",
   "metadata": {
    "id": "4cf960b2"
   },
   "outputs": [],
   "source": [
    "inlist=np.arange(51,12550,50)"
   ]
  },
  {
   "cell_type": "code",
   "execution_count": 17,
   "id": "1be3dffe",
   "metadata": {
    "id": "1be3dffe"
   },
   "outputs": [],
   "source": [
    "res2=[]\n",
    "for v in inlist:\n",
    "    gen1=\"https://www.imdb.com/search/title/?title_type=feature&year=2018-01-01,2018-12-31&start={}&ref_=adv_nxt\".format(v)\n",
    "    resd=scrapergen.get_result_similar(gen1,group_by_alias=True)\n",
    "    res2.append(resd)"
   ]
  },
  {
   "cell_type": "code",
   "execution_count": 20,
   "id": "CQ38nTEvu-Wd",
   "metadata": {
    "id": "CQ38nTEvu-Wd"
   },
   "outputs": [],
   "source": [
    "genre18=pd.concat([pd.DataFrame(res1),pd.DataFrame(res2)],axis=0)"
   ]
  },
  {
   "cell_type": "code",
   "execution_count": 23,
   "id": "URagy4EzFNgR",
   "metadata": {
    "id": "URagy4EzFNgR"
   },
   "outputs": [],
   "source": [
    "genre18.to_csv(\"genre18.csv\")"
   ]
  },
  {
   "cell_type": "markdown",
   "id": "dc64bfab",
   "metadata": {},
   "source": [
    "# genre list for 2019"
   ]
  },
  {
   "cell_type": "code",
   "execution_count": 24,
   "id": "E4akO4U8u-aK",
   "metadata": {
    "id": "E4akO4U8u-aK"
   },
   "outputs": [],
   "source": [
    "#getting genres for 2019 movies from imdb\n",
    "gen19=\"https://www.imdb.com/search/title/?year=2019&title_type=feature&\""
   ]
  },
  {
   "cell_type": "code",
   "execution_count": 26,
   "id": "RvK-F0Ufu-cT",
   "metadata": {
    "id": "RvK-F0Ufu-cT"
   },
   "outputs": [],
   "source": [
    "res1=scrapergen.get_result_similar(gen19,group_by_alias=True)"
   ]
  },
  {
   "cell_type": "code",
   "execution_count": 28,
   "id": "OANc0yPA0D4z",
   "metadata": {
    "id": "OANc0yPA0D4z"
   },
   "outputs": [],
   "source": [
    "inlist1=np.arange(51,12000,50)"
   ]
  },
  {
   "cell_type": "code",
   "execution_count": 30,
   "id": "cz6oMLctu-hr",
   "metadata": {
    "id": "cz6oMLctu-hr"
   },
   "outputs": [],
   "source": [
    "res3=[]\n",
    "for t in inlist1:\n",
    "  gen1=\"https://www.imdb.com/search/title/?title_type=feature&year=2019-01-01,2019-12-31&start={}&ref_=adv_nxt\".format(t)\n",
    "  f=scrapergen.get_result_similar(gen1,group_by_alias=True)\n",
    "  res3.append(f)"
   ]
  },
  {
   "cell_type": "code",
   "execution_count": 32,
   "id": "QYrrVrq40CHz",
   "metadata": {
    "id": "QYrrVrq40CHz"
   },
   "outputs": [],
   "source": [
    "genre19=pd.DataFrame(res3,columns=[\"title\",\"genre\"])"
   ]
  },
  {
   "cell_type": "code",
   "execution_count": 34,
   "id": "pX9AI34YEinV",
   "metadata": {
    "id": "pX9AI34YEinV"
   },
   "outputs": [],
   "source": [
    "gen19=pd.DataFrame(res1,columns=[\"title\",\"genre\"])"
   ]
  },
  {
   "cell_type": "code",
   "execution_count": 35,
   "id": "UGxwYTtUE3Pf",
   "metadata": {
    "id": "UGxwYTtUE3Pf"
   },
   "outputs": [],
   "source": [
    "genre19=pd.concat([gen19,genre19],axis=0)"
   ]
  },
  {
   "cell_type": "code",
   "execution_count": 38,
   "id": "pBgjfjUbu-kc",
   "metadata": {
    "id": "pBgjfjUbu-kc"
   },
   "outputs": [],
   "source": [
    "genre19.to_csv(\"genre19.csv\")"
   ]
  },
  {
   "cell_type": "markdown",
   "id": "4e399618",
   "metadata": {},
   "source": [
    "# genre list for 2020"
   ]
  },
  {
   "cell_type": "code",
   "execution_count": 39,
   "id": "IaDXEyj8u-m-",
   "metadata": {
    "id": "IaDXEyj8u-m-"
   },
   "outputs": [],
   "source": [
    "#getting genres for 2020 movies from imdb\n",
    "gen20=\"https://www.imdb.com/search/title/?year=2020&title_type=feature&\""
   ]
  },
  {
   "cell_type": "code",
   "execution_count": 41,
   "id": "piYTcZE9u-qK",
   "metadata": {
    "id": "piYTcZE9u-qK"
   },
   "outputs": [],
   "source": [
    "res20=scrapergen.get_result_similar(gen20,group_by_alias=True)"
   ]
  },
  {
   "cell_type": "code",
   "execution_count": 43,
   "id": "zherMzgBGErj",
   "metadata": {
    "id": "zherMzgBGErj"
   },
   "outputs": [],
   "source": [
    "inlist2=np.arange(51,10000,50)"
   ]
  },
  {
   "cell_type": "code",
   "execution_count": 45,
   "id": "vDADgdM_F_Us",
   "metadata": {
    "id": "vDADgdM_F_Us"
   },
   "outputs": [],
   "source": [
    "res200=[]\n",
    "for e in inlist2:\n",
    "  gen200=\"https://www.imdb.com/search/title/?title_type=feature&year=2020-01-01,2020-12-31&start={}&ref_=adv_nxt\".format(e)\n",
    "  c=scrapergen.get_result_similar(gen200,group_by_alias=True)\n",
    "  res200.append(c)\n"
   ]
  },
  {
   "cell_type": "code",
   "execution_count": 47,
   "id": "Mm91Sk22HCXm",
   "metadata": {
    "id": "Mm91Sk22HCXm"
   },
   "outputs": [],
   "source": [
    "genre20=pd.concat([pd.DataFrame(res20),pd.DataFrame(res200)])"
   ]
  },
  {
   "cell_type": "code",
   "execution_count": 50,
   "id": "ckWJSYIAIckH",
   "metadata": {
    "id": "ckWJSYIAIckH"
   },
   "outputs": [],
   "source": [
    "genre20.to_csv(\"genre20.csv\")"
   ]
  },
  {
   "cell_type": "markdown",
   "id": "e2f9eef8",
   "metadata": {},
   "source": [
    "# genre list for 2021 \n"
   ]
  },
  {
   "cell_type": "code",
   "execution_count": 51,
   "id": "iYGoz83DIk6o",
   "metadata": {
    "id": "iYGoz83DIk6o"
   },
   "outputs": [],
   "source": [
    "#getting genres for 2021 movies from imdb\n",
    "gen21=\"https://www.imdb.com/search/title/?year=2021&title_type=feature&\""
   ]
  },
  {
   "cell_type": "code",
   "execution_count": 53,
   "id": "PoXhDcpeJDBA",
   "metadata": {
    "id": "PoXhDcpeJDBA"
   },
   "outputs": [],
   "source": [
    "res21=scrapergen.get_result_similar(gen21,group_by_alias=True)"
   ]
  },
  {
   "cell_type": "code",
   "execution_count": 54,
   "id": "SnYFzzXBJw9S",
   "metadata": {
    "id": "SnYFzzXBJw9S"
   },
   "outputs": [],
   "source": [
    "inlist4=np.arange(51,12000,50)"
   ]
  },
  {
   "cell_type": "code",
   "execution_count": 56,
   "id": "GDCahoiSJnTX",
   "metadata": {
    "id": "GDCahoiSJnTX"
   },
   "outputs": [],
   "source": [
    "res211=[]\n",
    "for h in inlist4:\n",
    "  gen211=\"https://www.imdb.com/search/title/?title_type=feature&year=2021-01-01,2021-12-31&start={}&ref_=adv_nxt\".format(h)\n",
    "  res212=scrapergen.get_result_similar(gen211,group_by_alias=True)\n",
    "  res211.append(res212)"
   ]
  },
  {
   "cell_type": "code",
   "execution_count": 57,
   "id": "KdNCDMPxKyuV",
   "metadata": {
    "id": "KdNCDMPxKyuV"
   },
   "outputs": [],
   "source": [
    "genre21=pd.concat([pd.DataFrame(res21),pd.DataFrame(res211)],axis=0)"
   ]
  },
  {
   "cell_type": "code",
   "execution_count": 60,
   "id": "e2ML23tILA9R",
   "metadata": {
    "id": "e2ML23tILA9R"
   },
   "outputs": [],
   "source": [
    "genre21.to_csv(\"genre21.csv\")"
   ]
  }
 ],
 "metadata": {
  "colab": {
   "collapsed_sections": [],
   "name": "datapreprocessing3.ipynb",
   "provenance": []
  },
  "kernelspec": {
   "display_name": "Python 3 (ipykernel)",
   "language": "python",
   "name": "python3"
  },
  "language_info": {
   "codemirror_mode": {
    "name": "ipython",
    "version": 3
   },
   "file_extension": ".py",
   "mimetype": "text/x-python",
   "name": "python",
   "nbconvert_exporter": "python",
   "pygments_lexer": "ipython3",
   "version": "3.9.7"
  }
 },
 "nbformat": 4,
 "nbformat_minor": 5
}
