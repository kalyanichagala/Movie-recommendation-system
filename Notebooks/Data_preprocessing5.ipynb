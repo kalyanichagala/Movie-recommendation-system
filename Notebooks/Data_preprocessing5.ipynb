{
 "cells": [
  {
   "cell_type": "code",
   "execution_count": 41,
   "id": "8997046b",
   "metadata": {},
   "outputs": [],
   "source": [
    "import pandas as pd"
   ]
  },
  {
   "cell_type": "code",
   "execution_count": 42,
   "id": "ad21fa86",
   "metadata": {},
   "outputs": [],
   "source": [
    "import numpy as np"
   ]
  },
  {
   "cell_type": "code",
   "execution_count": 43,
   "id": "7619d2eb",
   "metadata": {},
   "outputs": [
    {
     "name": "stdout",
     "output_type": "stream",
     "text": [
      "C:\\Users\\srava\\Downloads\n"
     ]
    }
   ],
   "source": [
    "%cd \"C:\\Users\\srava\\Downloads\""
   ]
  },
  {
   "cell_type": "code",
   "execution_count": 44,
   "id": "80be10d3",
   "metadata": {},
   "outputs": [],
   "source": [
    "moviefinal=pd.read_csv(\"moviefinalnew.csv\")"
   ]
  },
  {
   "cell_type": "code",
   "execution_count": 45,
   "id": "1afe1d2e",
   "metadata": {},
   "outputs": [
    {
     "data": {
      "text/html": [
       "<div>\n",
       "<style scoped>\n",
       "    .dataframe tbody tr th:only-of-type {\n",
       "        vertical-align: middle;\n",
       "    }\n",
       "\n",
       "    .dataframe tbody tr th {\n",
       "        vertical-align: top;\n",
       "    }\n",
       "\n",
       "    .dataframe thead th {\n",
       "        text-align: right;\n",
       "    }\n",
       "</style>\n",
       "<table border=\"1\" class=\"dataframe\">\n",
       "  <thead>\n",
       "    <tr style=\"text-align: right;\">\n",
       "      <th></th>\n",
       "      <th>title</th>\n",
       "      <th>cast_and_crew</th>\n",
       "      <th>genre</th>\n",
       "    </tr>\n",
       "  </thead>\n",
       "  <tbody>\n",
       "    <tr>\n",
       "      <th>0</th>\n",
       "      <td>insidious: the last key</td>\n",
       "      <td>Adam Robitel (director); Leigh Whannell (scree...</td>\n",
       "      <td>Horror, Mystery, Thriller</td>\n",
       "    </tr>\n",
       "    <tr>\n",
       "      <th>1</th>\n",
       "      <td>the commuter</td>\n",
       "      <td>Jaume Collet-Serra (director); Byron Willinger...</td>\n",
       "      <td>Action, Mystery, Thriller</td>\n",
       "    </tr>\n",
       "    <tr>\n",
       "      <th>2</th>\n",
       "      <td>proud mary</td>\n",
       "      <td>Babak Najafi (director); John S. Newman, Chris...</td>\n",
       "      <td>Action, Crime, Drama</td>\n",
       "    </tr>\n",
       "    <tr>\n",
       "      <th>3</th>\n",
       "      <td>acts of violence</td>\n",
       "      <td>Brett Donowho (director); Nicolas Aaron Mezzan...</td>\n",
       "      <td>Action, Crime</td>\n",
       "    </tr>\n",
       "    <tr>\n",
       "      <th>4</th>\n",
       "      <td>12 strong</td>\n",
       "      <td>Nicolai Fuglsig (director); Peter Craig, Ted T...</td>\n",
       "      <td>Action, Drama, History</td>\n",
       "    </tr>\n",
       "  </tbody>\n",
       "</table>\n",
       "</div>"
      ],
      "text/plain": [
       "                     title                                      cast_and_crew  \\\n",
       "0  insidious: the last key  Adam Robitel (director); Leigh Whannell (scree...   \n",
       "1             the commuter  Jaume Collet-Serra (director); Byron Willinger...   \n",
       "2               proud mary  Babak Najafi (director); John S. Newman, Chris...   \n",
       "3         acts of violence  Brett Donowho (director); Nicolas Aaron Mezzan...   \n",
       "4                12 strong  Nicolai Fuglsig (director); Peter Craig, Ted T...   \n",
       "\n",
       "                       genre  \n",
       "0  Horror, Mystery, Thriller  \n",
       "1  Action, Mystery, Thriller  \n",
       "2       Action, Crime, Drama  \n",
       "3              Action, Crime  \n",
       "4     Action, Drama, History  "
      ]
     },
     "execution_count": 45,
     "metadata": {},
     "output_type": "execute_result"
    }
   ],
   "source": [
    "#Now we are going to extract the director names and actor names from the cast & crew column\n",
    "moviefinal.head()"
   ]
  },
  {
   "cell_type": "code",
   "execution_count": 46,
   "id": "3c2f7408",
   "metadata": {},
   "outputs": [
    {
     "data": {
      "text/plain": [
       "(916, 3)"
      ]
     },
     "execution_count": 46,
     "metadata": {},
     "output_type": "execute_result"
    }
   ],
   "source": [
    "moviefinal.shape"
   ]
  },
  {
   "cell_type": "code",
   "execution_count": 47,
   "id": "19a5d0f1",
   "metadata": {},
   "outputs": [],
   "source": [
    "moviefinal[\"director_and_actor\"]=moviefinal[\"cast_and_crew\"].apply(lambda x :[b for b in x.split(\",\") if \"director\" in b] )"
   ]
  },
  {
   "cell_type": "code",
   "execution_count": 48,
   "id": "ca3d9064",
   "metadata": {},
   "outputs": [],
   "source": [
    "moviefinal[\"director_name\"]=moviefinal[\"director_and_actor\"].apply(lambda x :[b for b in x[0].split(\";\") if \"director\" in b] if x!=[] else \"Not Available\")"
   ]
  },
  {
   "cell_type": "code",
   "execution_count": 49,
   "id": "1235b629",
   "metadata": {},
   "outputs": [],
   "source": [
    "pd.set_option(\"display.max_rows\",None,\"display.max_columns\",None)"
   ]
  },
  {
   "cell_type": "code",
   "execution_count": 50,
   "id": "ab5bcf41",
   "metadata": {},
   "outputs": [],
   "source": [
    "moviefinal[\"director_name\"]=moviefinal[\"director_name\"].apply(lambda x : x[0].strip(\"'(director)','(director/​screenplay)','(directors)','(director/screenw'\"))"
   ]
  },
  {
   "cell_type": "code",
   "execution_count": 51,
   "id": "4adba1be",
   "metadata": {},
   "outputs": [],
   "source": [
    "moviefinal[\"director_name\"]=moviefinal[\"director_name\"].apply(lambda x: x.strip(\"(director): Tom K\"))"
   ]
  },
  {
   "cell_type": "code",
   "execution_count": 52,
   "id": "3edf6f99",
   "metadata": {},
   "outputs": [],
   "source": [
    "moviefinal[\"actors\"]=moviefinal[\"director_and_actor\"].apply(lambda x : [b for b in x[0].split(\";\") if \"(director)\" not in b  and  \"(screenplay)\" not in b  and \"(director/screenplay)\" not in b and \"(director/​screenplay)\" not in b  and \"(directors)\" not in b and \"(co-director)\" not in b and \"(directors/screenplay)\" not in b and \"(director/screenpaly)\" not in b and \"(co-director/screenplay)\" not in b and \"(writer)\" not in b and \"(director\" not in b and \"(screeplay)\" not in b and \"(screenwriter)\" not in b and \"(director/screenwriter)\" not in b and \"(screenwriter)\" not in b and \"(screenpaly)\" not in b and \"(director/screenwriter)\" not in b and \"(director/sceenplay)\" not in b and \"(screnplay)\" not in b ] if x!=[] else \"Not Available\")"
   ]
  },
  {
   "cell_type": "code",
   "execution_count": 53,
   "id": "3567b1e7",
   "metadata": {},
   "outputs": [],
   "source": [
    "moviefinal[\"actors\"]=moviefinal[\"actors\"].apply(lambda x : x[0] if x!=[] else \"Not Available\")"
   ]
  },
  {
   "cell_type": "code",
   "execution_count": 54,
   "id": "ab4250c3",
   "metadata": {},
   "outputs": [],
   "source": [
    "moviefinal[\"actor2\"]=moviefinal[\"cast_and_crew\"].str.split(\",\")"
   ]
  },
  {
   "cell_type": "code",
   "execution_count": 55,
   "id": "6ad74b22",
   "metadata": {},
   "outputs": [],
   "source": [
    "moviefinal[\"actor2\"]=moviefinal[\"actor2\"].apply(lambda x:x[1] if (len(x)>=2 and (\"(director)\"  not in x[1]) and (\"(director)\" not in x[1]) and (\"(director/screenplay)\" not in x[1]) and (\"(directors)\" not in x[1]) and (\"(screenplay)\" not in x[1]) and (\"(directors/screenplay)\" not in x[1]) and (\"(screenplay/story)\" not in x[1]) and \"screenplay)\" not in x[1] and \"(co-director)\" not in x[1] and \"(story)\" not in x[1] and \"(director/screenpaly)\" not in x[1] and \"(directors)\" not in x[1] and \"(director\" not in x[1])  else x[0] if ((\"(director)\" not in x[0]) and (\"(director/screenplay)\" not in x[0]) and \"(directors/screenplay)\" not in x[0] and \"(screenplay/story)\" not in x[0] and \"screenplay)\" not in x[0] and \"(co-director)\" not in x[0] and \"(story)\" not in x[0] and \"(director/screenpaly)\" not in x[0] and \"(directors)\" not in x[0] and \"(director\" not in x[0]) else x[2] if len(x)>=2 else \"Not Available\")"
   ]
  },
  {
   "cell_type": "code",
   "execution_count": 56,
   "id": "44fc50be",
   "metadata": {},
   "outputs": [],
   "source": [
    "moviefinal[\"actor3\"]=moviefinal[\"cast_and_crew\"].str.split(\",\")"
   ]
  },
  {
   "cell_type": "code",
   "execution_count": 57,
   "id": "cf804b99",
   "metadata": {},
   "outputs": [],
   "source": [
    "moviefinal[\"actor3\"]=moviefinal[\"actor3\"].apply(lambda x : x[3] if len(x)>=4 and \"(screenplay)\" not in x[3] else x[4] if len(x)>=5 else \"Not Available\")"
   ]
  },
  {
   "cell_type": "code",
   "execution_count": 58,
   "id": "4f5e1474",
   "metadata": {},
   "outputs": [],
   "source": [
    "movienew=pd.DataFrame({})"
   ]
  },
  {
   "cell_type": "code",
   "execution_count": 59,
   "id": "6c188d34",
   "metadata": {},
   "outputs": [],
   "source": [
    "movienew[[\"director_name\",\"genres\",\"actor_1_name\",\"actor_2_name\",\"actor_3_name\",\"movie_title\"]]=moviefinal[[\"director_name\",\"genre\",\"actors\",\"actor2\",\"actor3\",\"title\"]]"
   ]
  },
  {
   "cell_type": "code",
   "execution_count": 61,
   "id": "2df084fb",
   "metadata": {},
   "outputs": [
    {
     "data": {
      "text/html": [
       "<div>\n",
       "<style scoped>\n",
       "    .dataframe tbody tr th:only-of-type {\n",
       "        vertical-align: middle;\n",
       "    }\n",
       "\n",
       "    .dataframe tbody tr th {\n",
       "        vertical-align: top;\n",
       "    }\n",
       "\n",
       "    .dataframe thead th {\n",
       "        text-align: right;\n",
       "    }\n",
       "</style>\n",
       "<table border=\"1\" class=\"dataframe\">\n",
       "  <thead>\n",
       "    <tr style=\"text-align: right;\">\n",
       "      <th></th>\n",
       "      <th>director_name</th>\n",
       "      <th>genres</th>\n",
       "      <th>actor_1_name</th>\n",
       "      <th>actor_2_name</th>\n",
       "      <th>actor_3_name</th>\n",
       "      <th>movie_title</th>\n",
       "    </tr>\n",
       "  </thead>\n",
       "  <tbody>\n",
       "    <tr>\n",
       "      <th>911</th>\n",
       "      <td>Garth Jennings</td>\n",
       "      <td>Animation, Adventure, Comedy</td>\n",
       "      <td>Matthew McConaughey</td>\n",
       "      <td>Reese Witherspoon</td>\n",
       "      <td>Taron Egerton</td>\n",
       "      <td>Sing 2</td>\n",
       "    </tr>\n",
       "    <tr>\n",
       "      <th>912</th>\n",
       "      <td>Matthew Vaughn</td>\n",
       "      <td>Action, Adventure, Comedy</td>\n",
       "      <td>Ralph Fiennes</td>\n",
       "      <td>Gemma Arterton</td>\n",
       "      <td>Matthew Goode</td>\n",
       "      <td>The King's Man</td>\n",
       "    </tr>\n",
       "    <tr>\n",
       "      <th>913</th>\n",
       "      <td>Joel Coen</td>\n",
       "      <td>Drama, History, Thriller</td>\n",
       "      <td>Denzel Washington</td>\n",
       "      <td>Frances McDormand</td>\n",
       "      <td>Alex Hassell</td>\n",
       "      <td>The Tragedy of Macbeth</td>\n",
       "    </tr>\n",
       "    <tr>\n",
       "      <th>914</th>\n",
       "      <td>Denzel Washington</td>\n",
       "      <td>Drama</td>\n",
       "      <td>Michael B. Jordan</td>\n",
       "      <td>Chanté Adams</td>\n",
       "      <td>Not Available</td>\n",
       "      <td>A Journal for Jordan</td>\n",
       "    </tr>\n",
       "    <tr>\n",
       "      <th>915</th>\n",
       "      <td>Erwin brothers</td>\n",
       "      <td>Biography, Drama, Sport</td>\n",
       "      <td>Jon Erwin</td>\n",
       "      <td>David Aaron Cohen</td>\n",
       "      <td>Anna Paquin</td>\n",
       "      <td>American Underdog</td>\n",
       "    </tr>\n",
       "  </tbody>\n",
       "</table>\n",
       "</div>"
      ],
      "text/plain": [
       "         director_name                        genres          actor_1_name  \\\n",
       "911     Garth Jennings  Animation, Adventure, Comedy   Matthew McConaughey   \n",
       "912     Matthew Vaughn     Action, Adventure, Comedy         Ralph Fiennes   \n",
       "913          Joel Coen      Drama, History, Thriller     Denzel Washington   \n",
       "914  Denzel Washington                         Drama     Michael B. Jordan   \n",
       "915     Erwin brothers       Biography, Drama, Sport             Jon Erwin   \n",
       "\n",
       "           actor_2_name    actor_3_name             movie_title  \n",
       "911   Reese Witherspoon   Taron Egerton                  Sing 2  \n",
       "912      Gemma Arterton   Matthew Goode          The King's Man  \n",
       "913   Frances McDormand    Alex Hassell  The Tragedy of Macbeth  \n",
       "914       Chanté Adams   Not Available    A Journal for Jordan  \n",
       "915   David Aaron Cohen     Anna Paquin       American Underdog  "
      ]
     },
     "execution_count": 61,
     "metadata": {},
     "output_type": "execute_result"
    }
   ],
   "source": [
    "movienew.tail()"
   ]
  },
  {
   "cell_type": "code",
   "execution_count": 62,
   "id": "8134611e",
   "metadata": {},
   "outputs": [],
   "source": [
    "import re"
   ]
  },
  {
   "cell_type": "code",
   "execution_count": 63,
   "id": "977afed6",
   "metadata": {},
   "outputs": [],
   "source": [
    "movienew[\"genres\"]=movienew[\"genres\"].apply(lambda x : re.sub(r'[^A-Za-z]',\" \",x))"
   ]
  },
  {
   "cell_type": "code",
   "execution_count": 64,
   "id": "2f6de428",
   "metadata": {},
   "outputs": [
    {
     "data": {
      "text/html": [
       "<div>\n",
       "<style scoped>\n",
       "    .dataframe tbody tr th:only-of-type {\n",
       "        vertical-align: middle;\n",
       "    }\n",
       "\n",
       "    .dataframe tbody tr th {\n",
       "        vertical-align: top;\n",
       "    }\n",
       "\n",
       "    .dataframe thead th {\n",
       "        text-align: right;\n",
       "    }\n",
       "</style>\n",
       "<table border=\"1\" class=\"dataframe\">\n",
       "  <thead>\n",
       "    <tr style=\"text-align: right;\">\n",
       "      <th></th>\n",
       "      <th>director_name</th>\n",
       "      <th>genres</th>\n",
       "      <th>actor_1_name</th>\n",
       "      <th>actor_2_name</th>\n",
       "      <th>actor_3_name</th>\n",
       "      <th>movie_title</th>\n",
       "    </tr>\n",
       "  </thead>\n",
       "  <tbody>\n",
       "    <tr>\n",
       "      <th>0</th>\n",
       "      <td>Adam Robitel</td>\n",
       "      <td>Horror  Mystery  Thriller</td>\n",
       "      <td>Lin Shaye</td>\n",
       "      <td>Angus Sampson</td>\n",
       "      <td>Spencer Locke</td>\n",
       "      <td>insidious: the last key</td>\n",
       "    </tr>\n",
       "    <tr>\n",
       "      <th>1</th>\n",
       "      <td>Jaume Collet-Serra</td>\n",
       "      <td>Action  Mystery  Thriller</td>\n",
       "      <td>Byron Willinger</td>\n",
       "      <td>Vera Farmiga</td>\n",
       "      <td>Patrick Wilson</td>\n",
       "      <td>the commuter</td>\n",
       "    </tr>\n",
       "    <tr>\n",
       "      <th>2</th>\n",
       "      <td>Babak Najaf</td>\n",
       "      <td>Action  Crime  Drama</td>\n",
       "      <td>John S. Newman</td>\n",
       "      <td>Billy Brown</td>\n",
       "      <td>Danny Glover</td>\n",
       "      <td>proud mary</td>\n",
       "    </tr>\n",
       "    <tr>\n",
       "      <th>3</th>\n",
       "      <td>Brett Donowh</td>\n",
       "      <td>Action  Crime</td>\n",
       "      <td>Bruce Willis</td>\n",
       "      <td>Cole Hauser</td>\n",
       "      <td>Melissa Bolona</td>\n",
       "      <td>acts of violence</td>\n",
       "    </tr>\n",
       "    <tr>\n",
       "      <th>4</th>\n",
       "      <td>Nicolai Fuglsig</td>\n",
       "      <td>Action  Drama  History</td>\n",
       "      <td>Peter Craig</td>\n",
       "      <td>Michael Shannon</td>\n",
       "      <td>Michael Peña</td>\n",
       "      <td>12 strong</td>\n",
       "    </tr>\n",
       "  </tbody>\n",
       "</table>\n",
       "</div>"
      ],
      "text/plain": [
       "        director_name                     genres      actor_1_name  \\\n",
       "0        Adam Robitel  Horror  Mystery  Thriller         Lin Shaye   \n",
       "1  Jaume Collet-Serra  Action  Mystery  Thriller   Byron Willinger   \n",
       "2         Babak Najaf       Action  Crime  Drama    John S. Newman   \n",
       "3        Brett Donowh              Action  Crime      Bruce Willis   \n",
       "4     Nicolai Fuglsig     Action  Drama  History       Peter Craig   \n",
       "\n",
       "       actor_2_name     actor_3_name              movie_title  \n",
       "0     Angus Sampson    Spencer Locke  insidious: the last key  \n",
       "1      Vera Farmiga   Patrick Wilson             the commuter  \n",
       "2       Billy Brown     Danny Glover               proud mary  \n",
       "3       Cole Hauser   Melissa Bolona         acts of violence  \n",
       "4   Michael Shannon    Michael Peña                12 strong  "
      ]
     },
     "execution_count": 64,
     "metadata": {},
     "output_type": "execute_result"
    }
   ],
   "source": [
    "movienew.head()"
   ]
  },
  {
   "cell_type": "code",
   "execution_count": 40,
   "id": "ba02b4cf",
   "metadata": {},
   "outputs": [
    {
     "data": {
      "text/plain": [
       "director_name    0\n",
       "genres           0\n",
       "actor_1_name     0\n",
       "actor_2_name     0\n",
       "actor_3_name     0\n",
       "movie_title      0\n",
       "dtype: int64"
      ]
     },
     "execution_count": 40,
     "metadata": {},
     "output_type": "execute_result"
    }
   ],
   "source": [
    "movienew.isnull().sum()"
   ]
  },
  {
   "cell_type": "code",
   "execution_count": 65,
   "id": "79fa82e2",
   "metadata": {},
   "outputs": [],
   "source": [
    "movieold=pd.read_csv(\"data1.csv\")"
   ]
  },
  {
   "cell_type": "code",
   "execution_count": 66,
   "id": "e9d85fb2",
   "metadata": {},
   "outputs": [],
   "source": [
    "movieold2=pd.read_csv(\"data2.csv\")"
   ]
  },
  {
   "cell_type": "code",
   "execution_count": 67,
   "id": "17fc7431",
   "metadata": {},
   "outputs": [],
   "source": [
    "finalmoviedata_all=pd.concat([movieold,movieold2,movienew],axis=0)"
   ]
  },
  {
   "cell_type": "code",
   "execution_count": 69,
   "id": "eb445417",
   "metadata": {},
   "outputs": [],
   "source": [
    "finalmoviedata_all=finalmoviedata_all.reset_index(drop=True)"
   ]
  },
  {
   "cell_type": "code",
   "execution_count": 70,
   "id": "2d4e1ca2",
   "metadata": {},
   "outputs": [
    {
     "data": {
      "text/plain": [
       "(6490, 6)"
      ]
     },
     "execution_count": 70,
     "metadata": {},
     "output_type": "execute_result"
    }
   ],
   "source": [
    "finalmoviedata_all.shape"
   ]
  },
  {
   "cell_type": "code",
   "execution_count": 71,
   "id": "c278c22c",
   "metadata": {},
   "outputs": [
    {
     "data": {
      "text/plain": [
       "director_name    0\n",
       "genres           7\n",
       "actor_1_name     0\n",
       "actor_2_name     0\n",
       "actor_3_name     0\n",
       "movie_title      0\n",
       "dtype: int64"
      ]
     },
     "execution_count": 71,
     "metadata": {},
     "output_type": "execute_result"
    }
   ],
   "source": [
    "finalmoviedata_all.isnull().sum()"
   ]
  },
  {
   "cell_type": "code",
   "execution_count": 72,
   "id": "5120204f",
   "metadata": {},
   "outputs": [],
   "source": [
    "finalmoviedata_all[\"genres\"].fillna(\"Not Available\",inplace=True)"
   ]
  },
  {
   "cell_type": "code",
   "execution_count": 74,
   "id": "4f77b019",
   "metadata": {},
   "outputs": [],
   "source": [
    "finalmoviedata_all[\"movie_title\"]=finalmoviedata_all[\"movie_title\"].str.lower()"
   ]
  },
  {
   "cell_type": "code",
   "execution_count": 75,
   "id": "e5013fb8",
   "metadata": {},
   "outputs": [],
   "source": [
    "finalmoviedata_all['comb'] = finalmoviedata_all['actor_1_name'] + ' ' + finalmoviedata_all['actor_2_name'] + ' '+ finalmoviedata_all['actor_3_name'] + ' '+ finalmoviedata_all['director_name'] +' ' + finalmoviedata_all['genres']"
   ]
  },
  {
   "cell_type": "code",
   "execution_count": 77,
   "id": "cf1509ee",
   "metadata": {},
   "outputs": [
    {
     "data": {
      "text/html": [
       "<div>\n",
       "<style scoped>\n",
       "    .dataframe tbody tr th:only-of-type {\n",
       "        vertical-align: middle;\n",
       "    }\n",
       "\n",
       "    .dataframe tbody tr th {\n",
       "        vertical-align: top;\n",
       "    }\n",
       "\n",
       "    .dataframe thead th {\n",
       "        text-align: right;\n",
       "    }\n",
       "</style>\n",
       "<table border=\"1\" class=\"dataframe\">\n",
       "  <thead>\n",
       "    <tr style=\"text-align: right;\">\n",
       "      <th></th>\n",
       "      <th>director_name</th>\n",
       "      <th>genres</th>\n",
       "      <th>actor_1_name</th>\n",
       "      <th>actor_2_name</th>\n",
       "      <th>actor_3_name</th>\n",
       "      <th>movie_title</th>\n",
       "      <th>comb</th>\n",
       "    </tr>\n",
       "  </thead>\n",
       "  <tbody>\n",
       "    <tr>\n",
       "      <th>0</th>\n",
       "      <td>James Cameron</td>\n",
       "      <td>Action Adventure Fantasy Sci-Fi</td>\n",
       "      <td>CCH Pounder</td>\n",
       "      <td>Joel David Moore</td>\n",
       "      <td>Wes Studi</td>\n",
       "      <td>avatar</td>\n",
       "      <td>CCH Pounder Joel David Moore Wes Studi James C...</td>\n",
       "    </tr>\n",
       "    <tr>\n",
       "      <th>1</th>\n",
       "      <td>Gore Verbinski</td>\n",
       "      <td>Action Adventure Fantasy</td>\n",
       "      <td>Johnny Depp</td>\n",
       "      <td>Orlando Bloom</td>\n",
       "      <td>Jack Davenport</td>\n",
       "      <td>pirates of the caribbean: at world's end</td>\n",
       "      <td>Johnny Depp Orlando Bloom Jack Davenport Gore ...</td>\n",
       "    </tr>\n",
       "    <tr>\n",
       "      <th>2</th>\n",
       "      <td>Sam Mendes</td>\n",
       "      <td>Action Adventure Thriller</td>\n",
       "      <td>Christoph Waltz</td>\n",
       "      <td>Rory Kinnear</td>\n",
       "      <td>Stephanie Sigman</td>\n",
       "      <td>spectre</td>\n",
       "      <td>Christoph Waltz Rory Kinnear Stephanie Sigman ...</td>\n",
       "    </tr>\n",
       "    <tr>\n",
       "      <th>3</th>\n",
       "      <td>Christopher Nolan</td>\n",
       "      <td>Action Thriller</td>\n",
       "      <td>Tom Hardy</td>\n",
       "      <td>Christian Bale</td>\n",
       "      <td>Joseph Gordon-Levitt</td>\n",
       "      <td>the dark knight rises</td>\n",
       "      <td>Tom Hardy Christian Bale Joseph Gordon-Levitt ...</td>\n",
       "    </tr>\n",
       "    <tr>\n",
       "      <th>4</th>\n",
       "      <td>Doug Walker</td>\n",
       "      <td>Documentary</td>\n",
       "      <td>Doug Walker</td>\n",
       "      <td>Rob Walker</td>\n",
       "      <td>Not Available</td>\n",
       "      <td>star wars: episode vii - the force awakens</td>\n",
       "      <td>Doug Walker Rob Walker Not Available Doug Walk...</td>\n",
       "    </tr>\n",
       "  </tbody>\n",
       "</table>\n",
       "</div>"
      ],
      "text/plain": [
       "       director_name                           genres     actor_1_name  \\\n",
       "0      James Cameron  Action Adventure Fantasy Sci-Fi      CCH Pounder   \n",
       "1     Gore Verbinski         Action Adventure Fantasy      Johnny Depp   \n",
       "2         Sam Mendes        Action Adventure Thriller  Christoph Waltz   \n",
       "3  Christopher Nolan                  Action Thriller        Tom Hardy   \n",
       "4        Doug Walker                      Documentary      Doug Walker   \n",
       "\n",
       "       actor_2_name          actor_3_name  \\\n",
       "0  Joel David Moore             Wes Studi   \n",
       "1     Orlando Bloom        Jack Davenport   \n",
       "2      Rory Kinnear      Stephanie Sigman   \n",
       "3    Christian Bale  Joseph Gordon-Levitt   \n",
       "4        Rob Walker         Not Available   \n",
       "\n",
       "                                  movie_title  \\\n",
       "0                                      avatar   \n",
       "1    pirates of the caribbean: at world's end   \n",
       "2                                     spectre   \n",
       "3                       the dark knight rises   \n",
       "4  star wars: episode vii - the force awakens   \n",
       "\n",
       "                                                comb  \n",
       "0  CCH Pounder Joel David Moore Wes Studi James C...  \n",
       "1  Johnny Depp Orlando Bloom Jack Davenport Gore ...  \n",
       "2  Christoph Waltz Rory Kinnear Stephanie Sigman ...  \n",
       "3  Tom Hardy Christian Bale Joseph Gordon-Levitt ...  \n",
       "4  Doug Walker Rob Walker Not Available Doug Walk...  "
      ]
     },
     "execution_count": 77,
     "metadata": {},
     "output_type": "execute_result"
    }
   ],
   "source": [
    "finalmoviedata_all.head()"
   ]
  },
  {
   "cell_type": "code",
   "execution_count": 78,
   "id": "8ec9a44a",
   "metadata": {},
   "outputs": [],
   "source": [
    "pd.set_option(\"display.max_colwidth\",None)"
   ]
  },
  {
   "cell_type": "code",
   "execution_count": 84,
   "id": "cb90d9e1",
   "metadata": {},
   "outputs": [],
   "source": [
    "finalmoviedata_all.to_csv(\"finalmoviedata_all.csv\",index=False)"
   ]
  },
  {
   "cell_type": "code",
   "execution_count": null,
   "id": "2e18c237",
   "metadata": {},
   "outputs": [],
   "source": []
  }
 ],
 "metadata": {
  "kernelspec": {
   "display_name": "Python 3 (ipykernel)",
   "language": "python",
   "name": "python3"
  },
  "language_info": {
   "codemirror_mode": {
    "name": "ipython",
    "version": 3
   },
   "file_extension": ".py",
   "mimetype": "text/x-python",
   "name": "python",
   "nbconvert_exporter": "python",
   "pygments_lexer": "ipython3",
   "version": "3.9.7"
  }
 },
 "nbformat": 4,
 "nbformat_minor": 5
}
